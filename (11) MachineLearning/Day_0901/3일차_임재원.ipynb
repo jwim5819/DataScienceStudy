{
 "cells": [
  {
   "cell_type": "code",
   "execution_count": 228,
   "outputs": [],
   "source": [
    "# 모듈 로딩\n",
    "from sklearn.linear_model import LogisticRegression\n",
    "from sklearn.datasets import load_iris\n",
    "from sklearn.model_selection import train_test_split\n",
    "import matplotlib.pyplot as plt\n",
    "import numpy as np\n",
    "import pandas as pd\n",
    "from sklearn.linear_model import LinearRegression"
   ],
   "metadata": {
    "collapsed": false,
    "pycharm": {
     "name": "#%%\n"
    }
   }
  },
  {
   "cell_type": "code",
   "execution_count": 229,
   "outputs": [],
   "source": [
    "# 데이터 로딩\n",
    "taxiDF = pd.read_csv(r'../data/taxi.csv', nrows=50000)\n",
    "diabetesDF = pd.read_csv(r'../data/diabetes.csv')"
   ],
   "metadata": {
    "collapsed": false,
    "pycharm": {
     "name": "#%%\n"
    }
   }
  },
  {
   "cell_type": "markdown",
   "source": [
    "# [1] 거리에 따른 택시 요금"
   ],
   "metadata": {
    "collapsed": false,
    "pycharm": {
     "name": "#%% md\n"
    }
   }
  },
  {
   "cell_type": "code",
   "execution_count": 230,
   "outputs": [],
   "source": [
    "# 거리(distance) 항목 추가\n",
    "taxiDF['distance'] = ((taxiDF['dropoff_longitude'] - taxiDF['pickup_longitude']) ** 2 + (\n",
    "            taxiDF['dropoff_latitude'] - taxiDF['pickup_latitude']) ** 2) ** 0.5\n",
    "\n",
    "# 이상치 제거\n",
    "taxiDF = taxiDF[taxiDF['distance'] < 1]\n",
    "# taxiDF = taxiDF[-74.27 < taxiDF['pickup_longitude'] < -73.68]"
   ],
   "metadata": {
    "collapsed": false,
    "pycharm": {
     "name": "#%%\n"
    }
   }
  },
  {
   "cell_type": "code",
   "execution_count": 231,
   "outputs": [
    {
     "data": {
      "text/plain": "                                 key  fare_amount          pickup_datetime  \\\n0        2009-06-15 17:26:21.0000001          4.5  2009-06-15 17:26:21 UTC   \n1        2010-01-05 16:52:16.0000002         16.9  2010-01-05 16:52:16 UTC   \n2       2011-08-18 00:35:00.00000049          5.7  2011-08-18 00:35:00 UTC   \n3        2012-04-21 04:30:42.0000001          7.7  2012-04-21 04:30:42 UTC   \n4      2010-03-09 07:51:00.000000135          5.3  2010-03-09 07:51:00 UTC   \n...                              ...          ...                      ...   \n49995    2013-06-12 23:25:15.0000004         15.0  2013-06-12 23:25:15 UTC   \n49996    2015-06-22 17:19:18.0000007          7.5  2015-06-22 17:19:18 UTC   \n49997   2011-01-30 04:53:00.00000063          6.9  2011-01-30 04:53:00 UTC   \n49998   2012-11-06 07:09:00.00000069          4.5  2012-11-06 07:09:00 UTC   \n49999    2010-01-13 08:13:14.0000007         10.9  2010-01-13 08:13:14 UTC   \n\n       pickup_longitude  pickup_latitude  dropoff_longitude  dropoff_latitude  \\\n0            -73.844311        40.721319         -73.841610         40.712278   \n1            -74.016048        40.711303         -73.979268         40.782004   \n2            -73.982738        40.761270         -73.991242         40.750562   \n3            -73.987130        40.733143         -73.991567         40.758092   \n4            -73.968095        40.768008         -73.956655         40.783762   \n...                 ...              ...                ...               ...   \n49995        -73.999973        40.748531         -74.016899         40.705993   \n49996        -73.984756        40.768211         -73.987366         40.760597   \n49997        -74.002698        40.739428         -73.998108         40.759483   \n49998        -73.946062        40.777567         -73.953450         40.779687   \n49999        -73.932603        40.763805         -73.932603         40.763805   \n\n       passenger_count  distance  \n0                    1  0.009436  \n1                    1  0.079696  \n2                    2  0.013674  \n3                    1  0.025340  \n4                    1  0.019470  \n...                ...       ...  \n49995                1  0.045782  \n49996                1  0.008049  \n49997                1  0.020574  \n49998                2  0.007686  \n49999                1  0.000000  \n\n[49886 rows x 9 columns]",
      "text/html": "<div>\n<style scoped>\n    .dataframe tbody tr th:only-of-type {\n        vertical-align: middle;\n    }\n\n    .dataframe tbody tr th {\n        vertical-align: top;\n    }\n\n    .dataframe thead th {\n        text-align: right;\n    }\n</style>\n<table border=\"1\" class=\"dataframe\">\n  <thead>\n    <tr style=\"text-align: right;\">\n      <th></th>\n      <th>key</th>\n      <th>fare_amount</th>\n      <th>pickup_datetime</th>\n      <th>pickup_longitude</th>\n      <th>pickup_latitude</th>\n      <th>dropoff_longitude</th>\n      <th>dropoff_latitude</th>\n      <th>passenger_count</th>\n      <th>distance</th>\n    </tr>\n  </thead>\n  <tbody>\n    <tr>\n      <th>0</th>\n      <td>2009-06-15 17:26:21.0000001</td>\n      <td>4.5</td>\n      <td>2009-06-15 17:26:21 UTC</td>\n      <td>-73.844311</td>\n      <td>40.721319</td>\n      <td>-73.841610</td>\n      <td>40.712278</td>\n      <td>1</td>\n      <td>0.009436</td>\n    </tr>\n    <tr>\n      <th>1</th>\n      <td>2010-01-05 16:52:16.0000002</td>\n      <td>16.9</td>\n      <td>2010-01-05 16:52:16 UTC</td>\n      <td>-74.016048</td>\n      <td>40.711303</td>\n      <td>-73.979268</td>\n      <td>40.782004</td>\n      <td>1</td>\n      <td>0.079696</td>\n    </tr>\n    <tr>\n      <th>2</th>\n      <td>2011-08-18 00:35:00.00000049</td>\n      <td>5.7</td>\n      <td>2011-08-18 00:35:00 UTC</td>\n      <td>-73.982738</td>\n      <td>40.761270</td>\n      <td>-73.991242</td>\n      <td>40.750562</td>\n      <td>2</td>\n      <td>0.013674</td>\n    </tr>\n    <tr>\n      <th>3</th>\n      <td>2012-04-21 04:30:42.0000001</td>\n      <td>7.7</td>\n      <td>2012-04-21 04:30:42 UTC</td>\n      <td>-73.987130</td>\n      <td>40.733143</td>\n      <td>-73.991567</td>\n      <td>40.758092</td>\n      <td>1</td>\n      <td>0.025340</td>\n    </tr>\n    <tr>\n      <th>4</th>\n      <td>2010-03-09 07:51:00.000000135</td>\n      <td>5.3</td>\n      <td>2010-03-09 07:51:00 UTC</td>\n      <td>-73.968095</td>\n      <td>40.768008</td>\n      <td>-73.956655</td>\n      <td>40.783762</td>\n      <td>1</td>\n      <td>0.019470</td>\n    </tr>\n    <tr>\n      <th>...</th>\n      <td>...</td>\n      <td>...</td>\n      <td>...</td>\n      <td>...</td>\n      <td>...</td>\n      <td>...</td>\n      <td>...</td>\n      <td>...</td>\n      <td>...</td>\n    </tr>\n    <tr>\n      <th>49995</th>\n      <td>2013-06-12 23:25:15.0000004</td>\n      <td>15.0</td>\n      <td>2013-06-12 23:25:15 UTC</td>\n      <td>-73.999973</td>\n      <td>40.748531</td>\n      <td>-74.016899</td>\n      <td>40.705993</td>\n      <td>1</td>\n      <td>0.045782</td>\n    </tr>\n    <tr>\n      <th>49996</th>\n      <td>2015-06-22 17:19:18.0000007</td>\n      <td>7.5</td>\n      <td>2015-06-22 17:19:18 UTC</td>\n      <td>-73.984756</td>\n      <td>40.768211</td>\n      <td>-73.987366</td>\n      <td>40.760597</td>\n      <td>1</td>\n      <td>0.008049</td>\n    </tr>\n    <tr>\n      <th>49997</th>\n      <td>2011-01-30 04:53:00.00000063</td>\n      <td>6.9</td>\n      <td>2011-01-30 04:53:00 UTC</td>\n      <td>-74.002698</td>\n      <td>40.739428</td>\n      <td>-73.998108</td>\n      <td>40.759483</td>\n      <td>1</td>\n      <td>0.020574</td>\n    </tr>\n    <tr>\n      <th>49998</th>\n      <td>2012-11-06 07:09:00.00000069</td>\n      <td>4.5</td>\n      <td>2012-11-06 07:09:00 UTC</td>\n      <td>-73.946062</td>\n      <td>40.777567</td>\n      <td>-73.953450</td>\n      <td>40.779687</td>\n      <td>2</td>\n      <td>0.007686</td>\n    </tr>\n    <tr>\n      <th>49999</th>\n      <td>2010-01-13 08:13:14.0000007</td>\n      <td>10.9</td>\n      <td>2010-01-13 08:13:14 UTC</td>\n      <td>-73.932603</td>\n      <td>40.763805</td>\n      <td>-73.932603</td>\n      <td>40.763805</td>\n      <td>1</td>\n      <td>0.000000</td>\n    </tr>\n  </tbody>\n</table>\n<p>49886 rows × 9 columns</p>\n</div>"
     },
     "execution_count": 231,
     "metadata": {},
     "output_type": "execute_result"
    }
   ],
   "source": [
    "taxiDF"
   ],
   "metadata": {
    "collapsed": false,
    "pycharm": {
     "name": "#%%\n"
    }
   }
  },
  {
   "cell_type": "code",
   "execution_count": 232,
   "outputs": [],
   "source": [
    "# 훈련, 테스트 세트 분리\n",
    "taxi_train_input, taxi_test_input, taxi_train_target, taxi_test_target = train_test_split(\n",
    "    np.array(taxiDF['distance']), np.array(taxiDF['fare_amount']), random_state=42)\n",
    "\n",
    "# 2차원 배열로 변경\n",
    "taxi_train_input = taxi_train_input.reshape(-1, 1)\n",
    "taxi_test_input = taxi_test_input.reshape(-1, 1)\n",
    "\n",
    "# 다항식을 위한 준비\n",
    "taxi_train_poly = np.column_stack((taxi_train_input ** 2, taxi_train_input))\n",
    "taxi_test_poly = np.column_stack((taxi_test_input ** 2, taxi_test_input))"
   ],
   "metadata": {
    "collapsed": false,
    "pycharm": {
     "name": "#%%\n"
    }
   }
  },
  {
   "cell_type": "code",
   "execution_count": 233,
   "outputs": [
    {
     "data": {
      "text/plain": "LinearRegression()"
     },
     "execution_count": 233,
     "metadata": {},
     "output_type": "execute_result"
    }
   ],
   "source": [
    "# 선형 회귀 모델 생성\n",
    "taxi_lr = LinearRegression()\n",
    "taxi_lr.fit(taxi_train_poly, taxi_train_target)"
   ],
   "metadata": {
    "collapsed": false,
    "pycharm": {
     "name": "#%%\n"
    }
   }
  },
  {
   "cell_type": "code",
   "execution_count": 234,
   "outputs": [
    {
     "data": {
      "text/plain": "<Figure size 432x288 with 1 Axes>",
      "image/png": "[encoded data removed]"
     },
     "metadata": {
      "needs_background": "light"
     },
     "output_type": "display_data"
    }
   ],
   "source": [
    "# 산점도 및 회귀선 그래프 그리기\n",
    "point = np.arange(0, 1, 0.01)\n",
    "plt.scatter(taxi_train_input, taxi_train_target)\n",
    "plt.plot(point, -229.39147849 * point ** 2 + 252.92258651 * point + 3.464853350443641,\n",
    "         color='red', linestyle='--')\n",
    "plt.show()"
   ],
   "metadata": {
    "collapsed": false,
    "pycharm": {
     "name": "#%%\n"
    }
   }
  },
  {
   "cell_type": "code",
   "execution_count": 235,
   "outputs": [
    {
     "name": "stdout",
     "output_type": "stream",
     "text": [
      "예측결과 : 44.8737115135293 $\n"
     ]
    }
   ],
   "source": [
    "# 모델을 바탕으로 예측\n",
    "pre = taxi_lr.predict([[0.2 ** 2, 0.2]])\n",
    "print('예측결과 :', pre[0], '$')"
   ],
   "metadata": {
    "collapsed": false,
    "pycharm": {
     "name": "#%%\n"
    }
   }
  },
  {
   "cell_type": "markdown",
   "source": [
    "# [2] 당뇨병 발병 확률"
   ],
   "metadata": {
    "collapsed": false,
    "pycharm": {
     "name": "#%% md\n"
    }
   }
  },
  {
   "cell_type": "code",
   "execution_count": 236,
   "outputs": [
    {
     "data": {
      "text/plain": "     Pregnancies  Glucose  BloodPressure  SkinThickness  Insulin   BMI  \\\n0              6      148             72             35        0  33.6   \n1              1       85             66             29        0  26.6   \n2              8      183             64              0        0  23.3   \n3              1       89             66             23       94  28.1   \n4              0      137             40             35      168  43.1   \n..           ...      ...            ...            ...      ...   ...   \n763           10      101             76             48      180  32.9   \n764            2      122             70             27        0  36.8   \n765            5      121             72             23      112  26.2   \n766            1      126             60              0        0  30.1   \n767            1       93             70             31        0  30.4   \n\n     DiabetesPedigreeFunction  Age  Outcome  \n0                       0.627   50        1  \n1                       0.351   31        0  \n2                       0.672   32        1  \n3                       0.167   21        0  \n4                       2.288   33        1  \n..                        ...  ...      ...  \n763                     0.171   63        0  \n764                     0.340   27        0  \n765                     0.245   30        0  \n766                     0.349   47        1  \n767                     0.315   23        0  \n\n[768 rows x 9 columns]",
      "text/html": "<div>\n<style scoped>\n    .dataframe tbody tr th:only-of-type {\n        vertical-align: middle;\n    }\n\n    .dataframe tbody tr th {\n        vertical-align: top;\n    }\n\n    .dataframe thead th {\n        text-align: right;\n    }\n</style>\n<table border=\"1\" class=\"dataframe\">\n  <thead>\n    <tr style=\"text-align: right;\">\n      <th></th>\n      <th>Pregnancies</th>\n      <th>Glucose</th>\n      <th>BloodPressure</th>\n      <th>SkinThickness</th>\n      <th>Insulin</th>\n      <th>BMI</th>\n      <th>DiabetesPedigreeFunction</th>\n      <th>Age</th>\n      <th>Outcome</th>\n    </tr>\n  </thead>\n  <tbody>\n    <tr>\n      <th>0</th>\n      <td>6</td>\n      <td>148</td>\n      <td>72</td>\n      <td>35</td>\n      <td>0</td>\n      <td>33.6</td>\n      <td>0.627</td>\n      <td>50</td>\n      <td>1</td>\n    </tr>\n    <tr>\n      <th>1</th>\n      <td>1</td>\n      <td>85</td>\n      <td>66</td>\n      <td>29</td>\n      <td>0</td>\n      <td>26.6</td>\n      <td>0.351</td>\n      <td>31</td>\n      <td>0</td>\n    </tr>\n    <tr>\n      <th>2</th>\n      <td>8</td>\n      <td>183</td>\n      <td>64</td>\n      <td>0</td>\n      <td>0</td>\n      <td>23.3</td>\n      <td>0.672</td>\n      <td>32</td>\n      <td>1</td>\n    </tr>\n    <tr>\n      <th>3</th>\n      <td>1</td>\n      <td>89</td>\n      <td>66</td>\n      <td>23</td>\n      <td>94</td>\n      <td>28.1</td>\n      <td>0.167</td>\n      <td>21</td>\n      <td>0</td>\n    </tr>\n    <tr>\n      <th>4</th>\n      <td>0</td>\n      <td>137</td>\n      <td>40</td>\n      <td>35</td>\n      <td>168</td>\n      <td>43.1</td>\n      <td>2.288</td>\n      <td>33</td>\n      <td>1</td>\n    </tr>\n    <tr>\n      <th>...</th>\n      <td>...</td>\n      <td>...</td>\n      <td>...</td>\n      <td>...</td>\n      <td>...</td>\n      <td>...</td>\n      <td>...</td>\n      <td>...</td>\n      <td>...</td>\n    </tr>\n    <tr>\n      <th>763</th>\n      <td>10</td>\n      <td>101</td>\n      <td>76</td>\n      <td>48</td>\n      <td>180</td>\n      <td>32.9</td>\n      <td>0.171</td>\n      <td>63</td>\n      <td>0</td>\n    </tr>\n    <tr>\n      <th>764</th>\n      <td>2</td>\n      <td>122</td>\n      <td>70</td>\n      <td>27</td>\n      <td>0</td>\n      <td>36.8</td>\n      <td>0.340</td>\n      <td>27</td>\n      <td>0</td>\n    </tr>\n    <tr>\n      <th>765</th>\n      <td>5</td>\n      <td>121</td>\n      <td>72</td>\n      <td>23</td>\n      <td>112</td>\n      <td>26.2</td>\n      <td>0.245</td>\n      <td>30</td>\n      <td>0</td>\n    </tr>\n    <tr>\n      <th>766</th>\n      <td>1</td>\n      <td>126</td>\n      <td>60</td>\n      <td>0</td>\n      <td>0</td>\n      <td>30.1</td>\n      <td>0.349</td>\n      <td>47</td>\n      <td>1</td>\n    </tr>\n    <tr>\n      <th>767</th>\n      <td>1</td>\n      <td>93</td>\n      <td>70</td>\n      <td>31</td>\n      <td>0</td>\n      <td>30.4</td>\n      <td>0.315</td>\n      <td>23</td>\n      <td>0</td>\n    </tr>\n  </tbody>\n</table>\n<p>768 rows × 9 columns</p>\n</div>"
     },
     "execution_count": 236,
     "metadata": {},
     "output_type": "execute_result"
    }
   ],
   "source": [
    "diabetesDF"
   ],
   "metadata": {
    "collapsed": false,
    "pycharm": {
     "name": "#%%\n"
    }
   }
  },
  {
   "cell_type": "code",
   "execution_count": 237,
   "outputs": [
    {
     "data": {
      "text/plain": "                          Pregnancies   Glucose  BloodPressure  SkinThickness  \\\nPregnancies                  1.000000  0.129459       0.141282      -0.081672   \nGlucose                      0.129459  1.000000       0.152590       0.057328   \nBloodPressure                0.141282  0.152590       1.000000       0.207371   \nSkinThickness               -0.081672  0.057328       0.207371       1.000000   \nInsulin                     -0.073535  0.331357       0.088933       0.436783   \nBMI                          0.017683  0.221071       0.281805       0.392573   \nDiabetesPedigreeFunction    -0.033523  0.137337       0.041265       0.183928   \nAge                          0.544341  0.263514       0.239528      -0.113970   \nOutcome                      0.221898  0.466581       0.065068       0.074752   \n\n                           Insulin       BMI  DiabetesPedigreeFunction  \\\nPregnancies              -0.073535  0.017683                 -0.033523   \nGlucose                   0.331357  0.221071                  0.137337   \nBloodPressure             0.088933  0.281805                  0.041265   \nSkinThickness             0.436783  0.392573                  0.183928   \nInsulin                   1.000000  0.197859                  0.185071   \nBMI                       0.197859  1.000000                  0.140647   \nDiabetesPedigreeFunction  0.185071  0.140647                  1.000000   \nAge                      -0.042163  0.036242                  0.033561   \nOutcome                   0.130548  0.292695                  0.173844   \n\n                               Age   Outcome  \nPregnancies               0.544341  0.221898  \nGlucose                   0.263514  0.466581  \nBloodPressure             0.239528  0.065068  \nSkinThickness            -0.113970  0.074752  \nInsulin                  -0.042163  0.130548  \nBMI                       0.036242  0.292695  \nDiabetesPedigreeFunction  0.033561  0.173844  \nAge                       1.000000  0.238356  \nOutcome                   0.238356  1.000000  ",
      "text/html": "<div>\n<style scoped>\n    .dataframe tbody tr th:only-of-type {\n        vertical-align: middle;\n    }\n\n    .dataframe tbody tr th {\n        vertical-align: top;\n    }\n\n    .dataframe thead th {\n        text-align: right;\n    }\n</style>\n<table border=\"1\" class=\"dataframe\">\n  <thead>\n    <tr style=\"text-align: right;\">\n      <th></th>\n      <th>Pregnancies</th>\n      <th>Glucose</th>\n      <th>BloodPressure</th>\n      <th>SkinThickness</th>\n      <th>Insulin</th>\n      <th>BMI</th>\n      <th>DiabetesPedigreeFunction</th>\n      <th>Age</th>\n      <th>Outcome</th>\n    </tr>\n  </thead>\n  <tbody>\n    <tr>\n      <th>Pregnancies</th>\n      <td>1.000000</td>\n      <td>0.129459</td>\n      <td>0.141282</td>\n      <td>-0.081672</td>\n      <td>-0.073535</td>\n      <td>0.017683</td>\n      <td>-0.033523</td>\n      <td>0.544341</td>\n      <td>0.221898</td>\n    </tr>\n    <tr>\n      <th>Glucose</th>\n      <td>0.129459</td>\n      <td>1.000000</td>\n      <td>0.152590</td>\n      <td>0.057328</td>\n      <td>0.331357</td>\n      <td>0.221071</td>\n      <td>0.137337</td>\n      <td>0.263514</td>\n      <td>0.466581</td>\n    </tr>\n    <tr>\n      <th>BloodPressure</th>\n      <td>0.141282</td>\n      <td>0.152590</td>\n      <td>1.000000</td>\n      <td>0.207371</td>\n      <td>0.088933</td>\n      <td>0.281805</td>\n      <td>0.041265</td>\n      <td>0.239528</td>\n      <td>0.065068</td>\n    </tr>\n    <tr>\n      <th>SkinThickness</th>\n      <td>-0.081672</td>\n      <td>0.057328</td>\n      <td>0.207371</td>\n      <td>1.000000</td>\n      <td>0.436783</td>\n      <td>0.392573</td>\n      <td>0.183928</td>\n      <td>-0.113970</td>\n      <td>0.074752</td>\n    </tr>\n    <tr>\n      <th>Insulin</th>\n      <td>-0.073535</td>\n      <td>0.331357</td>\n      <td>0.088933</td>\n      <td>0.436783</td>\n      <td>1.000000</td>\n      <td>0.197859</td>\n      <td>0.185071</td>\n      <td>-0.042163</td>\n      <td>0.130548</td>\n    </tr>\n    <tr>\n      <th>BMI</th>\n      <td>0.017683</td>\n      <td>0.221071</td>\n      <td>0.281805</td>\n      <td>0.392573</td>\n      <td>0.197859</td>\n      <td>1.000000</td>\n      <td>0.140647</td>\n      <td>0.036242</td>\n      <td>0.292695</td>\n    </tr>\n    <tr>\n      <th>DiabetesPedigreeFunction</th>\n      <td>-0.033523</td>\n      <td>0.137337</td>\n      <td>0.041265</td>\n      <td>0.183928</td>\n      <td>0.185071</td>\n      <td>0.140647</td>\n      <td>1.000000</td>\n      <td>0.033561</td>\n      <td>0.173844</td>\n    </tr>\n    <tr>\n      <th>Age</th>\n      <td>0.544341</td>\n      <td>0.263514</td>\n      <td>0.239528</td>\n      <td>-0.113970</td>\n      <td>-0.042163</td>\n      <td>0.036242</td>\n      <td>0.033561</td>\n      <td>1.000000</td>\n      <td>0.238356</td>\n    </tr>\n    <tr>\n      <th>Outcome</th>\n      <td>0.221898</td>\n      <td>0.466581</td>\n      <td>0.065068</td>\n      <td>0.074752</td>\n      <td>0.130548</td>\n      <td>0.292695</td>\n      <td>0.173844</td>\n      <td>0.238356</td>\n      <td>1.000000</td>\n    </tr>\n  </tbody>\n</table>\n</div>"
     },
     "execution_count": 237,
     "metadata": {},
     "output_type": "execute_result"
    }
   ],
   "source": [
    "# 변수들 끼리의 상관관계 분석(Glucose, BMI, Age가 관계있는걸로 보임)\n",
    "pd.DataFrame.corr(diabetesDF)"
   ],
   "metadata": {
    "collapsed": false,
    "pycharm": {
     "name": "#%%\n"
    }
   }
  },
  {
   "cell_type": "code",
   "execution_count": 238,
   "outputs": [],
   "source": [
    "# 학습, 테스트 데이터 분리\n",
    "train_input, test_input, train_target, test_target = train_test_split(\n",
    "    diabetesDF[['Glucose', 'BMI', 'Age']], diabetesDF['Outcome'], random_state=42, test_size=0.4)"
   ],
   "metadata": {
    "collapsed": false,
    "pycharm": {
     "name": "#%%\n"
    }
   }
  },
  {
   "cell_type": "code",
   "execution_count": 239,
   "outputs": [
    {
     "data": {
      "text/plain": "LogisticRegression()"
     },
     "execution_count": 239,
     "metadata": {},
     "output_type": "execute_result"
    }
   ],
   "source": [
    "# 모델 생성\n",
    "model = LogisticRegression()\n",
    "model.fit(train_input, train_target)"
   ],
   "metadata": {
    "collapsed": false,
    "pycharm": {
     "name": "#%%\n"
    }
   }
  },
  {
   "cell_type": "code",
   "execution_count": 240,
   "outputs": [
    {
     "name": "stdout",
     "output_type": "stream",
     "text": [
      "예측결과 : [1]\n",
      "분류 종류 : [0 1]\n",
      "예측확률 : [[0.2263406 0.7736594]]\n",
      "당뇨병 발병 확률이 77.37% 입니다\n"
     ]
    },
    {
     "name": "stderr",
     "output_type": "stream",
     "text": [
      "C:\\ProgramData\\Anaconda3\\envs\\EV_PY37\\lib\\site-packages\\sklearn\\base.py:451: UserWarning: X does not have valid feature names, but LogisticRegression was fitted with feature names\n",
      "  \"X does not have valid feature names, but\"\n",
      "C:\\ProgramData\\Anaconda3\\envs\\EV_PY37\\lib\\site-packages\\sklearn\\base.py:451: UserWarning: X does not have valid feature names, but LogisticRegression was fitted with feature names\n",
      "  \"X does not have valid feature names, but\"\n"
     ]
    }
   ],
   "source": [
    "# 생성된 모델 기반으로 예측하고 확률보기(변수 Glucose, BMI, Age)\n",
    "preY = model.predict([[130, 30, 80]])\n",
    "print('예측결과 :', preY)\n",
    "\n",
    "probaY = model.predict_proba([[130, 30, 80]])\n",
    "print(\"분류 종류 :\", model.classes_)\n",
    "print(\"예측확률 :\", probaY)\n",
    "print(f'당뇨병 발병 확률이 {np.round(probaY[0][1] * 100, 2)}% 입니다')"
   ],
   "metadata": {
    "collapsed": false,
    "pycharm": {
     "name": "#%%\n"
    }
   }
  },
  {
   "cell_type": "code",
   "execution_count": 240,
   "outputs": [],
   "source": [],
   "metadata": {
    "collapsed": false,
    "pycharm": {
     "name": "#%%\n"
    }
   }
  }
 ],
 "metadata": {
  "kernelspec": {
   "display_name": "Python 3",
   "language": "python",
   "name": "python3"
  },
  "language_info": {
   "codemirror_mode": {
    "name": "ipython",
    "version": 2
   },
   "file_extension": ".py",
   "mimetype": "text/x-python",
   "name": "python",
   "nbconvert_exporter": "python",
   "pygments_lexer": "ipython2",
   "version": "2.7.6"
  }
 },
 "nbformat": 4,
 "nbformat_minor": 0
}