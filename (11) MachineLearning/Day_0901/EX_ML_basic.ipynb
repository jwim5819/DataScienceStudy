{
 "cells": [
  {
   "cell_type": "markdown",
   "source": [
    "# Scikit-Learn Ml 기본동작\n",
    "1) 데이터 수집 & 준비\n",
    "2) 데이터 전처리\n",
    "    - 데이터 / 타겟 분리\n",
    "    - 데이터 표준화 / 정규화\n",
    "    - 타겟(라벨) 인코딩\n",
    "3) 학습을 위한 데이터 준비\n",
    "    - 데이터셋\n",
    "        - 학습용 데이터셋 => 학습에 사용\n",
    "        - 검증용 데이터셋 => 모델 생성 중에 사용\n",
    "        - 테스트용 데이터셋 => 모델 완성 후 사용\n",
    "4) 학습 모델 생성\n",
    "    - 학습 방법 선정 및 모델 객체 생성\n",
    "    - 학습 진행\n",
    "        - 모델 parameter 최적화 => 학습에 의해 결정되는 parameter\n",
    "        - 최적의 모델 parameter를 찾기 위한 방법 => 최적화(optimizer)\n",
    "        - 예) W 가중치, b 절편 등\n",
    "    - 모델 평가\n",
    "        - 성능 개선 => Hyper parameter(모델마다 다름) => 모델 튜닝\n",
    "        - 예) knn => K, 학습횟수, 학습크기(배치 사이즈), 규제 값들\n",
    "5) 모델 테스트\n",
    "    - 학습에 사용되지 않은 데이터로 진행해야함(test data)\n",
    "    - 새로운 데이터로 테스트 진행"
   ],
   "metadata": {
    "collapsed": false,
    "pycharm": {
     "name": "#%% md\n"
    }
   }
  },
  {
   "cell_type": "code",
   "execution_count": 60,
   "outputs": [],
   "source": [
    "# 모듈 로딩\n",
    "from sklearn.model_selection import train_test_split\n",
    "from sklearn.linear_model import LinearRegression\n",
    "from sklearn.metrics import mean_squared_error, mean_absolute_error, mean_squared_log_error, r2_score\n",
    "import matplotlib.pyplot as plt\n",
    "import numpy as np\n",
    "import pandas as pd"
   ],
   "metadata": {
    "collapsed": false,
    "pycharm": {
     "name": "#%%\n"
    }
   }
  },
  {
   "cell_type": "markdown",
   "source": [
    "# 1. 데이터 준비"
   ],
   "metadata": {
    "collapsed": false,
    "pycharm": {
     "name": "#%% md\n"
    }
   }
  },
  {
   "cell_type": "code",
   "execution_count": 43,
   "outputs": [],
   "source": [
    "x = [2, 4, 6, 8, 10]\n",
    "y = [25, 44, 57, 79, 96]"
   ],
   "metadata": {
    "collapsed": false,
    "pycharm": {
     "name": "#%%\n"
    }
   }
  },
  {
   "cell_type": "markdown",
   "source": [
    "# 2. 데이터 분포 분석 => EDA(시각화 분석)"
   ],
   "metadata": {
    "collapsed": false,
    "pycharm": {
     "name": "#%% md\n"
    }
   }
  },
  {
   "cell_type": "code",
   "execution_count": 44,
   "outputs": [
    {
     "data": {
      "text/plain": "<Figure size 432x288 with 1 Axes>",
      "image/png": "[encoded data removed]"
     },
     "metadata": {
      "needs_background": "light"
     },
     "output_type": "display_data"
    }
   ],
   "source": [
    "plt.title('Hour vs. Score')\n",
    "plt.scatter(x, y, color='red')\n",
    "plt.xlabel('Hour')\n",
    "plt.ylabel('Score')\n",
    "plt.show()"
   ],
   "metadata": {
    "collapsed": false,
    "pycharm": {
     "name": "#%%\n"
    }
   }
  },
  {
   "cell_type": "markdown",
   "source": [
    "### 시간과 점수는 비례관계, 선형의 데이터 분포를 보인다.\n",
    "### 독립변수 => Hour / 종속변수 => Score"
   ],
   "metadata": {
    "collapsed": false,
    "pycharm": {
     "name": "#%% md\n"
    }
   }
  },
  {
   "cell_type": "markdown",
   "source": [
    "# 3. 학습 방법 선택 및 모델 생성\n",
    "- 시간에 따른 점수 예측\n",
    "- 데이터 + 라벨 => 지도학습\n",
    "- 선형 데이터 분포 => 선형 모델 적용"
   ],
   "metadata": {
    "collapsed": false,
    "pycharm": {
     "name": "#%% md\n"
    }
   }
  },
  {
   "cell_type": "code",
   "execution_count": 45,
   "outputs": [],
   "source": [
    "# 모델 객체 생성\n",
    "model = LinearRegression()"
   ],
   "metadata": {
    "collapsed": false,
    "pycharm": {
     "name": "#%%\n"
    }
   }
  },
  {
   "cell_type": "code",
   "execution_count": 46,
   "outputs": [
    {
     "name": "stdout",
     "output_type": "stream",
     "text": [
      "    0   1   2   3   4\n",
      "0   2   4   6   8  10\n",
      "1  25  44  57  79  96\n",
      "[2][25]\n",
      "[4][44]\n",
      "[6][57]\n",
      "[8][79]\n",
      "[10][96]\n"
     ]
    }
   ],
   "source": [
    "# fit() => 2차원 형태의 데이터를 필요로 함\n",
    "df = pd.DataFrame([x, y])\n",
    "print(df.head())\n",
    "\n",
    "# 혹은 2차원 배열로 정렬\n",
    "x = np.array(x)\n",
    "y = np.array(y)\n",
    "x = x.reshape(-1, 1)\n",
    "y = y.reshape(-1, 1)\n",
    "for i in range(0, 5):\n",
    "    print(f'{x[i]}{y[i]}')"
   ],
   "metadata": {
    "collapsed": false,
    "pycharm": {
     "name": "#%%\n"
    }
   }
  },
  {
   "cell_type": "code",
   "execution_count": 47,
   "outputs": [
    {
     "data": {
      "text/plain": "LinearRegression()"
     },
     "execution_count": 47,
     "metadata": {},
     "output_type": "execute_result"
    }
   ],
   "source": [
    "# 학습 => Training data\n",
    "model.fit(x, y)"
   ],
   "metadata": {
    "collapsed": false,
    "pycharm": {
     "name": "#%%\n"
    }
   }
  },
  {
   "cell_type": "code",
   "execution_count": 51,
   "outputs": [
    {
     "name": "stdout",
     "output_type": "stream",
     "text": [
      "W: [[8.85]] b: [7.1]\n"
     ]
    }
   ],
   "source": [
    "# 모델 parameter확인 => W가중치, b절편\n",
    "print('W:', model.coef_, 'b:', model.intercept_)"
   ],
   "metadata": {
    "collapsed": false,
    "pycharm": {
     "name": "#%%\n"
    }
   }
  },
  {
   "cell_type": "markdown",
   "source": [
    "# 4. 모델 평가\n",
    "- 테스트(검증) 데이터로 평가\n",
    "- score()\n",
    "    - 분류 : 정답, 예측답 => 맞춘 정도\n",
    "        - 정확도(accuracy)\n",
    "    - 회귀 : 정답, 예측답 => 사이의 거리(오차, Error)\n",
    "        - 손실함수(loss/cost Function) : MSE, MAE, RMSE 낮을 수록 좋음\n",
    "        - R squared 계수 : 0 ~ 1사이로 나온다, 높을 수록 좋음"
   ],
   "metadata": {
    "collapsed": false,
    "pycharm": {
     "name": "#%% md\n"
    }
   }
  },
  {
   "cell_type": "code",
   "execution_count": 61,
   "outputs": [
    {
     "name": "stdout",
     "output_type": "stream",
     "text": [
      "score: 0.9955828142875301\n",
      "MSE: 3433.4\n",
      "MAE: 54.2\n",
      "RMSE: 4.694860787026455\n",
      "R squared: -428.175\n"
     ]
    }
   ],
   "source": [
    "# 점수 확인\n",
    "print('score:', model.score(x, y))"
   ],
   "metadata": {
    "collapsed": false,
    "pycharm": {
     "name": "#%%\n"
    }
   }
  },
  {
   "cell_type": "code",
   "execution_count": 62,
   "outputs": [
    {
     "name": "stdout",
     "output_type": "stream",
     "text": [
      "MSE: 3430.6200000000003\n",
      "MAE: 54.2\n",
      "RMSE: 4.6889810377457275\n",
      "R squared: -427.82750000000004\n"
     ]
    }
   ],
   "source": [
    "# 오차 확인\n",
    "preY = model.predict(x)\n",
    "\n",
    "# 점수 확인\n",
    "print('MSE:', mean_squared_error(x, preY))\n",
    "print('MAE:', mean_absolute_error(x, preY))\n",
    "print('RMSE:', mean_squared_log_error(x, preY))\n",
    "print('R squared:', r2_score(x, preY))"
   ],
   "metadata": {
    "collapsed": false,
    "pycharm": {
     "name": "#%%\n"
    }
   }
  },
  {
   "cell_type": "code",
   "execution_count": null,
   "outputs": [],
   "source": [],
   "metadata": {
    "collapsed": false,
    "pycharm": {
     "name": "#%%\n"
    }
   }
  }
 ],
 "metadata": {
  "kernelspec": {
   "display_name": "Python 3",
   "language": "python",
   "name": "python3"
  },
  "language_info": {
   "codemirror_mode": {
    "name": "ipython",
    "version": 2
   },
   "file_extension": ".py",
   "mimetype": "text/x-python",
   "name": "python",
   "nbconvert_exporter": "python",
   "pygments_lexer": "ipython2",
   "version": "2.7.6"
  }
 },
 "nbformat": 4,
 "nbformat_minor": 0
}