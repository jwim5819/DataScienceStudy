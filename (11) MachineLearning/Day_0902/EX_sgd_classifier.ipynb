{
 "cells": [
  {
   "cell_type": "markdown",
   "source": [
    "# SGD Classifier\n",
    "---\n",
    "- Logistic Regression에 SGD(확률적경사하강법)를 적용한 모델\n",
    "- 필수 설정 파라미터\n",
    "    - loss pram : 이진/다중 손실함수 이름 지정"
   ],
   "metadata": {
    "collapsed": false,
    "pycharm": {
     "name": "#%% md\n"
    }
   }
  },
  {
   "cell_type": "code",
   "execution_count": 518,
   "outputs": [],
   "source": [
    "# 모듈 로딩\n",
    "import pandas as pd\n",
    "import numpy as np\n",
    "from sklearn.model_selection import train_test_split\n",
    "from sklearn.preprocessing import StandardScaler\n",
    "from sklearn.linear_model import SGDClassifier\n",
    "import warnings\n",
    "import matplotlib.pyplot as plt\n",
    "\n",
    "warnings.filterwarnings(action='ignore')"
   ],
   "metadata": {
    "collapsed": false,
    "pycharm": {
     "name": "#%%\n"
    }
   }
  },
  {
   "cell_type": "markdown",
   "source": [
    "# [1] 데이터 준비"
   ],
   "metadata": {
    "collapsed": false,
    "pycharm": {
     "name": "#%% md\n"
    }
   }
  },
  {
   "cell_type": "code",
   "execution_count": 519,
   "outputs": [
    {
     "name": "stdout",
     "output_type": "stream",
     "text": [
      "  Species  Weight  Length  Diagonal   Height   Width\n",
      "0   Bream   242.0    25.4      30.0  11.5200  4.0200\n",
      "1   Bream   290.0    26.3      31.2  12.4800  4.3056\n",
      "2   Bream   340.0    26.5      31.1  12.3778  4.6961\n",
      "3   Bream   363.0    29.0      33.5  12.7300  4.4555\n",
      "4   Bream   430.0    29.0      34.0  12.4440  5.1340\n"
     ]
    }
   ],
   "source": [
    "# DF로딩 및 확인\n",
    "fishDF = pd.read_csv(r'../data/fish.csv')\n",
    "print(fishDF.head(5))"
   ],
   "metadata": {
    "collapsed": false,
    "pycharm": {
     "name": "#%%\n"
    }
   }
  },
  {
   "cell_type": "code",
   "execution_count": 520,
   "outputs": [],
   "source": [
    "# 특성 데이터 + 타겟 분리\n",
    "fish_input = fishDF[fishDF.columns[1:]]\n",
    "fish_target = fishDF[fishDF.columns[0]].to_numpy()"
   ],
   "metadata": {
    "collapsed": false,
    "pycharm": {
     "name": "#%%\n"
    }
   }
  },
  {
   "cell_type": "code",
   "execution_count": 521,
   "outputs": [],
   "source": [
    "# 학습용, 테스트용 데이터 분리 => 8:2\n",
    "train_input, test_input, train_target, test_target = train_test_split(fish_input, fish_target, random_state=42)"
   ],
   "metadata": {
    "collapsed": false,
    "pycharm": {
     "name": "#%%\n"
    }
   }
  },
  {
   "cell_type": "code",
   "execution_count": 522,
   "outputs": [],
   "source": [
    "# 표준화(평균 : 0, 표준편차 : 1)\n",
    "ss = StandardScaler()\n",
    "ss.fit(train_input)\n",
    "train_scaled = ss.transform(train_input)\n",
    "test_scaled = ss.transform(test_input)"
   ],
   "metadata": {
    "collapsed": false,
    "pycharm": {
     "name": "#%%\n"
    }
   }
  },
  {
   "cell_type": "markdown",
   "source": [
    "# [2] 모델 생성 및 학습"
   ],
   "metadata": {
    "collapsed": false,
    "pycharm": {
     "name": "#%% md\n"
    }
   }
  },
  {
   "cell_type": "code",
   "execution_count": 523,
   "outputs": [],
   "source": [
    "# 최적화 경사하강법 변경 -> BGD => SGD\n",
    "sc = SGDClassifier(loss='log',\n",
    "                   max_iter=10,\n",
    "                   random_state=42)\n",
    "classes = np.unique(train_target)"
   ],
   "metadata": {
    "collapsed": false,
    "pycharm": {
     "name": "#%%\n"
    }
   }
  },
  {
   "cell_type": "code",
   "execution_count": 524,
   "outputs": [],
   "source": [
    "# 학습 진행 fit() : 반복 횟수 즉 max_iter 만큼 학습\n",
    "# sc.fit(train_scaled, train_target)"
   ],
   "metadata": {
    "collapsed": false,
    "pycharm": {
     "name": "#%%\n"
    }
   }
  },
  {
   "cell_type": "code",
   "execution_count": 525,
   "outputs": [],
   "source": [
    "# # 모델 평가\n",
    "# print(sc.score(train_scaled, train_target))\n",
    "# print(sc.score(test_scaled, test_target))"
   ],
   "metadata": {
    "collapsed": false,
    "pycharm": {
     "name": "#%%\n"
    }
   }
  },
  {
   "cell_type": "code",
   "execution_count": 526,
   "outputs": [
    {
     "data": {
      "text/plain": "SGDClassifier(loss='log', max_iter=10, random_state=42)"
     },
     "execution_count": 526,
     "metadata": {},
     "output_type": "execute_result"
    }
   ],
   "source": [
    "# partial_fit() : 1 epoch만 학습 진행\n",
    "sc.partial_fit(train_scaled, train_target, classes=classes)"
   ],
   "metadata": {
    "collapsed": false,
    "pycharm": {
     "name": "#%%\n"
    }
   }
  },
  {
   "cell_type": "code",
   "execution_count": 527,
   "outputs": [
    {
     "name": "stdout",
     "output_type": "stream",
     "text": [
      "0.5294117647058824\n",
      "0.65\n"
     ]
    }
   ],
   "source": [
    "# 모델 평가\n",
    "print(sc.score(train_scaled, train_target))\n",
    "print(sc.score(test_scaled, test_target))"
   ],
   "metadata": {
    "collapsed": false,
    "pycharm": {
     "name": "#%%\n"
    }
   }
  },
  {
   "cell_type": "markdown",
   "source": [
    "# 학습 횟수(epoch)와 과/소적합"
   ],
   "metadata": {
    "collapsed": false,
    "pycharm": {
     "name": "#%% md\n"
    }
   }
  },
  {
   "cell_type": "code",
   "execution_count": 528,
   "outputs": [
    {
     "name": "stdout",
     "output_type": "stream",
     "text": [
      "학습 횟수 0회\n",
      "train score : 0.6218487394957983\n",
      "test score  : 0.55\n",
      "학습 횟수 1회\n",
      "train score : 0.6386554621848739\n",
      "test score  : 0.575\n",
      "학습 횟수 2회\n",
      "train score : 0.7310924369747899\n",
      "test score  : 0.7\n",
      "학습 횟수 3회\n",
      "train score : 0.7226890756302521\n",
      "test score  : 0.7\n",
      "학습 횟수 4회\n",
      "train score : 0.7310924369747899\n",
      "test score  : 0.7\n",
      "학습 횟수 5회\n",
      "train score : 0.7647058823529411\n",
      "test score  : 0.725\n",
      "학습 횟수 6회\n",
      "train score : 0.7310924369747899\n",
      "test score  : 0.775\n",
      "학습 횟수 7회\n",
      "train score : 0.8151260504201681\n",
      "test score  : 0.825\n",
      "학습 횟수 8회\n",
      "train score : 0.7478991596638656\n",
      "test score  : 0.7\n",
      "학습 횟수 9회\n",
      "train score : 0.8319327731092437\n",
      "test score  : 0.825\n",
      "학습 횟수 10회\n",
      "train score : 0.8151260504201681\n",
      "test score  : 0.8\n",
      "학습 횟수 11회\n",
      "train score : 0.8571428571428571\n",
      "test score  : 0.85\n",
      "학습 횟수 12회\n",
      "train score : 0.8571428571428571\n",
      "test score  : 0.9\n",
      "학습 횟수 13회\n",
      "train score : 0.8403361344537815\n",
      "test score  : 0.85\n",
      "학습 횟수 14회\n",
      "train score : 0.865546218487395\n",
      "test score  : 0.9\n",
      "학습 횟수 15회\n",
      "train score : 0.865546218487395\n",
      "test score  : 0.9\n",
      "학습 횟수 16회\n",
      "train score : 0.8571428571428571\n",
      "test score  : 0.9\n",
      "학습 횟수 17회\n",
      "train score : 0.865546218487395\n",
      "test score  : 0.9\n",
      "학습 횟수 18회\n",
      "train score : 0.8823529411764706\n",
      "test score  : 0.9\n",
      "학습 횟수 19회\n",
      "train score : 0.865546218487395\n",
      "test score  : 0.9\n",
      "학습 횟수 20회\n",
      "train score : 0.8823529411764706\n",
      "test score  : 0.9\n",
      "학습 횟수 21회\n",
      "train score : 0.865546218487395\n",
      "test score  : 0.9\n",
      "학습 횟수 22회\n",
      "train score : 0.8823529411764706\n",
      "test score  : 0.9\n",
      "학습 횟수 23회\n",
      "train score : 0.8739495798319328\n",
      "test score  : 0.9\n",
      "학습 횟수 24회\n",
      "train score : 0.8823529411764706\n",
      "test score  : 0.9\n",
      "학습 횟수 25회\n",
      "train score : 0.8823529411764706\n",
      "test score  : 0.9\n",
      "학습 횟수 26회\n",
      "train score : 0.8823529411764706\n",
      "test score  : 0.9\n",
      "학습 횟수 27회\n",
      "train score : 0.8907563025210085\n",
      "test score  : 0.9\n",
      "학습 횟수 28회\n",
      "train score : 0.8907563025210085\n",
      "test score  : 0.9\n",
      "학습 횟수 29회\n",
      "train score : 0.8907563025210085\n",
      "test score  : 0.9\n",
      "학습 횟수 30회\n",
      "train score : 0.8907563025210085\n",
      "test score  : 0.9\n",
      "학습 횟수 31회\n",
      "train score : 0.8823529411764706\n",
      "test score  : 0.9\n",
      "학습 횟수 32회\n",
      "train score : 0.8823529411764706\n",
      "test score  : 0.9\n",
      "학습 횟수 33회\n",
      "train score : 0.8907563025210085\n",
      "test score  : 0.9\n",
      "학습 횟수 34회\n",
      "train score : 0.907563025210084\n",
      "test score  : 0.9\n",
      "학습 횟수 35회\n",
      "train score : 0.8991596638655462\n",
      "test score  : 0.9\n",
      "학습 횟수 36회\n",
      "train score : 0.8991596638655462\n",
      "test score  : 0.9\n",
      "학습 횟수 37회\n",
      "train score : 0.8991596638655462\n",
      "test score  : 0.9\n",
      "학습 횟수 38회\n",
      "train score : 0.8991596638655462\n",
      "test score  : 0.9\n",
      "학습 횟수 39회\n",
      "train score : 0.8991596638655462\n",
      "test score  : 0.9\n",
      "학습 횟수 40회\n",
      "train score : 0.907563025210084\n",
      "test score  : 0.9\n",
      "학습 횟수 41회\n",
      "train score : 0.907563025210084\n",
      "test score  : 0.9\n",
      "학습 횟수 42회\n",
      "train score : 0.907563025210084\n",
      "test score  : 0.9\n",
      "학습 횟수 43회\n",
      "train score : 0.907563025210084\n",
      "test score  : 0.9\n",
      "학습 횟수 44회\n",
      "train score : 0.9159663865546218\n",
      "test score  : 0.9\n",
      "학습 횟수 45회\n",
      "train score : 0.9159663865546218\n",
      "test score  : 0.9\n",
      "학습 횟수 46회\n",
      "train score : 0.9159663865546218\n",
      "test score  : 0.9\n",
      "학습 횟수 47회\n",
      "train score : 0.9159663865546218\n",
      "test score  : 0.9\n",
      "학습 횟수 48회\n",
      "train score : 0.9243697478991597\n",
      "test score  : 0.9\n",
      "학습 횟수 49회\n",
      "train score : 0.9243697478991597\n",
      "test score  : 0.9\n",
      "학습 횟수 50회\n",
      "train score : 0.9243697478991597\n",
      "test score  : 0.9\n",
      "학습 횟수 51회\n",
      "train score : 0.9243697478991597\n",
      "test score  : 0.9\n",
      "학습 횟수 52회\n",
      "train score : 0.9327731092436975\n",
      "test score  : 0.9\n",
      "학습 횟수 53회\n",
      "train score : 0.9327731092436975\n",
      "test score  : 0.9\n",
      "학습 횟수 54회\n",
      "train score : 0.9327731092436975\n",
      "test score  : 0.9\n",
      "학습 횟수 55회\n",
      "train score : 0.9327731092436975\n",
      "test score  : 0.9\n",
      "학습 횟수 56회\n",
      "train score : 0.9327731092436975\n",
      "test score  : 0.9\n",
      "학습 횟수 57회\n",
      "train score : 0.9411764705882353\n",
      "test score  : 0.9\n",
      "학습 횟수 58회\n",
      "train score : 0.9411764705882353\n",
      "test score  : 0.9\n",
      "학습 횟수 59회\n",
      "train score : 0.9411764705882353\n",
      "test score  : 0.9\n",
      "학습 횟수 60회\n",
      "train score : 0.9411764705882353\n",
      "test score  : 0.9\n",
      "학습 횟수 61회\n",
      "train score : 0.9411764705882353\n",
      "test score  : 0.9\n",
      "학습 횟수 62회\n",
      "train score : 0.9495798319327731\n",
      "test score  : 0.9\n",
      "학습 횟수 63회\n",
      "train score : 0.9495798319327731\n",
      "test score  : 0.9\n",
      "학습 횟수 64회\n",
      "train score : 0.9495798319327731\n",
      "test score  : 0.9\n",
      "학습 횟수 65회\n",
      "train score : 0.9495798319327731\n",
      "test score  : 0.9\n",
      "학습 횟수 66회\n",
      "train score : 0.9495798319327731\n",
      "test score  : 0.925\n",
      "학습 횟수 67회\n",
      "train score : 0.9495798319327731\n",
      "test score  : 0.925\n",
      "학습 횟수 68회\n",
      "train score : 0.9495798319327731\n",
      "test score  : 0.925\n",
      "학습 횟수 69회\n",
      "train score : 0.9411764705882353\n",
      "test score  : 0.925\n",
      "학습 횟수 70회\n",
      "train score : 0.9411764705882353\n",
      "test score  : 0.925\n",
      "학습 횟수 71회\n",
      "train score : 0.9411764705882353\n",
      "test score  : 0.925\n",
      "학습 횟수 72회\n",
      "train score : 0.9411764705882353\n",
      "test score  : 0.925\n",
      "학습 횟수 73회\n",
      "train score : 0.9411764705882353\n",
      "test score  : 0.925\n",
      "학습 횟수 74회\n",
      "train score : 0.9411764705882353\n",
      "test score  : 0.925\n",
      "학습 횟수 75회\n",
      "train score : 0.9411764705882353\n",
      "test score  : 0.925\n",
      "학습 횟수 76회\n",
      "train score : 0.9411764705882353\n",
      "test score  : 0.925\n",
      "학습 횟수 77회\n",
      "train score : 0.9411764705882353\n",
      "test score  : 0.925\n",
      "학습 횟수 78회\n",
      "train score : 0.9411764705882353\n",
      "test score  : 0.925\n",
      "학습 횟수 79회\n",
      "train score : 0.9411764705882353\n",
      "test score  : 0.925\n",
      "학습 횟수 80회\n",
      "train score : 0.9411764705882353\n",
      "test score  : 0.925\n",
      "학습 횟수 81회\n",
      "train score : 0.9411764705882353\n",
      "test score  : 0.925\n",
      "학습 횟수 82회\n",
      "train score : 0.9411764705882353\n",
      "test score  : 0.925\n",
      "학습 횟수 83회\n",
      "train score : 0.9411764705882353\n",
      "test score  : 0.925\n",
      "학습 횟수 84회\n",
      "train score : 0.9411764705882353\n",
      "test score  : 0.925\n",
      "학습 횟수 85회\n",
      "train score : 0.9411764705882353\n",
      "test score  : 0.925\n",
      "학습 횟수 86회\n",
      "train score : 0.9411764705882353\n",
      "test score  : 0.925\n",
      "학습 횟수 87회\n",
      "train score : 0.9411764705882353\n",
      "test score  : 0.925\n",
      "학습 횟수 88회\n",
      "train score : 0.9411764705882353\n",
      "test score  : 0.925\n",
      "학습 횟수 89회\n",
      "train score : 0.9411764705882353\n",
      "test score  : 0.925\n",
      "학습 횟수 90회\n",
      "train score : 0.9411764705882353\n",
      "test score  : 0.925\n",
      "학습 횟수 91회\n",
      "train score : 0.9411764705882353\n",
      "test score  : 0.925\n",
      "학습 횟수 92회\n",
      "train score : 0.9411764705882353\n",
      "test score  : 0.925\n",
      "학습 횟수 93회\n",
      "train score : 0.9411764705882353\n",
      "test score  : 0.925\n",
      "학습 횟수 94회\n",
      "train score : 0.9411764705882353\n",
      "test score  : 0.925\n",
      "학습 횟수 95회\n",
      "train score : 0.9411764705882353\n",
      "test score  : 0.925\n",
      "학습 횟수 96회\n",
      "train score : 0.9411764705882353\n",
      "test score  : 0.925\n",
      "학습 횟수 97회\n",
      "train score : 0.9411764705882353\n",
      "test score  : 0.925\n",
      "학습 횟수 98회\n",
      "train score : 0.9411764705882353\n",
      "test score  : 0.925\n",
      "학습 횟수 99회\n",
      "train score : 0.9411764705882353\n",
      "test score  : 0.925\n"
     ]
    }
   ],
   "source": [
    "# 최적의 학습 횟수 찾기\n",
    "train_score = []\n",
    "test_score = []\n",
    "for i in range(0, 100):\n",
    "    sc.partial_fit(train_scaled, train_target, classes=classes)\n",
    "\n",
    "    train_score.append(sc.score(train_scaled, train_target))\n",
    "    test_score.append(sc.score(test_scaled, test_target))\n",
    "    print(f'학습 횟수 {i}회')\n",
    "    print('train score :', sc.score(train_scaled, train_target))\n",
    "    print('test score  :', sc.score(test_scaled, test_target))"
   ],
   "metadata": {
    "collapsed": false,
    "pycharm": {
     "name": "#%%\n"
    }
   }
  },
  {
   "cell_type": "code",
   "execution_count": 529,
   "outputs": [
    {
     "data": {
      "text/plain": "<Figure size 432x288 with 1 Axes>",
      "image/png": "[encoded data removed]"
     },
     "metadata": {
      "needs_background": "light"
     },
     "output_type": "display_data"
    }
   ],
   "source": [
    "plt.plot(train_score, label='train score')\n",
    "plt.plot(test_score, label='test score')\n",
    "plt.xlabel('epoch')\n",
    "plt.ylabel('score')\n",
    "plt.legend()\n",
    "plt.show()"
   ],
   "metadata": {
    "collapsed": false,
    "pycharm": {
     "name": "#%%\n"
    }
   }
  },
  {
   "cell_type": "code",
   "execution_count": 530,
   "outputs": [
    {
     "name": "stdout",
     "output_type": "stream",
     "text": [
      "train score : 0.8571428571428571\n",
      "test score  : 0.875\n",
      "13\n"
     ]
    }
   ],
   "source": [
    "# 학습 중에 최적값을 찾으면 조기종료 되게 하기\n",
    "# n_iter_no_change => n번동안 변경되지 않은 경우\n",
    "sc = SGDClassifier(loss='log',\n",
    "                   tol=1,\n",
    "                   n_iter_no_change=10,\n",
    "                   early_stopping=False,\n",
    "                   random_state=42)\n",
    "sc.fit(train_scaled, train_target)\n",
    "\n",
    "print('train score :', sc.score(train_scaled, train_target))\n",
    "print('test score  :', sc.score(test_scaled, test_target))\n",
    "print(sc.n_iter_)"
   ],
   "metadata": {
    "collapsed": false,
    "pycharm": {
     "name": "#%%\n"
    }
   }
  },
  {
   "cell_type": "code",
   "execution_count": 530,
   "outputs": [],
   "source": [],
   "metadata": {
    "collapsed": false,
    "pycharm": {
     "name": "#%%\n"
    }
   }
  }
 ],
 "metadata": {
  "kernelspec": {
   "display_name": "Python 3",
   "language": "python",
   "name": "python3"
  },
  "language_info": {
   "codemirror_mode": {
    "name": "ipython",
    "version": 2
   },
   "file_extension": ".py",
   "mimetype": "text/x-python",
   "name": "python",
   "nbconvert_exporter": "python",
   "pygments_lexer": "ipython2",
   "version": "2.7.6"
  }
 },
 "nbformat": 4,
 "nbformat_minor": 0
}