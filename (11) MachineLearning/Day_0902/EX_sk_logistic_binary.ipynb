{
 "cells": [
  {
   "cell_type": "markdown",
   "id": "fea8b1e9",
   "metadata": {
    "pycharm": {
     "name": "#%% md\n"
    }
   },
   "source": [
    "## LogisticRegression\n",
    "---\n",
    "- 인공신경망의 기본 개념와 동일  \n",
    "\n",
    "- Regression이지만 이진분류(Binary Classification)으로 사용  \n",
    "\n",
    "- 선형모델 기반으로 y=wx+b 그래도 사용\n",
    "\n",
    "- y=wx+b의 결과=> 분류 변환 함수 => scipy.sepcial.expit()"
   ]
  },
  {
   "cell_type": "markdown",
   "id": "22f85e9a",
   "metadata": {
    "pycharm": {
     "name": "#%% md\n"
    }
   },
   "source": [
    "### 성적 - 합격/불합격 분류  실습"
   ]
  },
  {
   "cell_type": "code",
   "execution_count": 1,
   "id": "1d9699b7",
   "metadata": {
    "pycharm": {
     "name": "#%%\n"
    }
   },
   "outputs": [],
   "source": [
    "# 사용 모듈 로딩 ------------------------------------------\n",
    "from sklearn.linear_model import LogisticRegression\n",
    "import matplotlib.pyplot as plt\n",
    "import numpy as np"
   ]
  },
  {
   "cell_type": "markdown",
   "id": "88912cb9",
   "metadata": {
    "pycharm": {
     "name": "#%% md\n"
    }
   },
   "source": [
    "#### (1) 데이터 준비"
   ]
  },
  {
   "cell_type": "code",
   "execution_count": 2,
   "id": "1cdf88ef",
   "metadata": {
    "pycharm": {
     "name": "#%%\n"
    }
   },
   "outputs": [],
   "source": [
    "X=[82,85, 87, 92, 94, 97]    # 점수\n",
    "y=['B','B','B','A','A','A'] # 학점"
   ]
  },
  {
   "cell_type": "code",
   "execution_count": 3,
   "id": "11ceace9",
   "metadata": {
    "pycharm": {
     "name": "#%%\n"
    }
   },
   "outputs": [],
   "source": [
    "# 학습에 사용할 수 있도록 형변환 \n",
    "arrX = np.array(X).reshape(-1,1)\n",
    "arrY = np.array(y)"
   ]
  },
  {
   "cell_type": "code",
   "execution_count": 4,
   "id": "13fda327",
   "metadata": {
    "pycharm": {
     "name": "#%%\n"
    }
   },
   "outputs": [
    {
     "name": "stdout",
     "output_type": "stream",
     "text": [
      "arrX :  (6, 1) arrY :  (6,)\n"
     ]
    }
   ],
   "source": [
    "# 데이터 체크\n",
    "print('arrX : ', arrX.shape, 'arrY : ', arrY.shape)"
   ]
  },
  {
   "cell_type": "markdown",
   "id": "3bd6be1a",
   "metadata": {
    "pycharm": {
     "name": "#%% md\n"
    }
   },
   "source": [
    "#### (2)  데이터 확인 => 시각화"
   ]
  },
  {
   "cell_type": "code",
   "execution_count": 5,
   "id": "5190b808",
   "metadata": {
    "pycharm": {
     "name": "#%%\n"
    }
   },
   "outputs": [
    {
     "data": {
      "text/plain": "<Figure size 432x288 with 1 Axes>",
      "image/png": "[encoded data removed]"
     },
     "metadata": {
      "needs_background": "light"
     },
     "output_type": "display_data"
    }
   ],
   "source": [
    "# 현재 데이터 시각화\n",
    "plt.scatter(X, y)\n",
    "plt.xlabel('Score')\n",
    "plt.ylabel('Result')\n",
    "plt.show()"
   ]
  },
  {
   "cell_type": "markdown",
   "id": "d2831fda",
   "metadata": {
    "pycharm": {
     "name": "#%% md\n"
    }
   },
   "source": [
    "### [3] 모델 생성 & 학습"
   ]
  },
  {
   "cell_type": "code",
   "execution_count": 6,
   "id": "82b6cdbb",
   "metadata": {
    "pycharm": {
     "name": "#%%\n"
    }
   },
   "outputs": [],
   "source": [
    "model=LogisticRegression()"
   ]
  },
  {
   "cell_type": "code",
   "execution_count": 7,
   "id": "6624ef0a",
   "metadata": {
    "pycharm": {
     "name": "#%%\n"
    }
   },
   "outputs": [
    {
     "data": {
      "text/plain": "LogisticRegression()"
     },
     "execution_count": 7,
     "metadata": {},
     "output_type": "execute_result"
    }
   ],
   "source": [
    "# 학습\n",
    "model.fit(arrX, arrY)"
   ]
  },
  {
   "cell_type": "code",
   "execution_count": 8,
   "id": "a50d539d",
   "metadata": {
    "pycharm": {
     "name": "#%%\n"
    }
   },
   "outputs": [
    {
     "name": "stdout",
     "output_type": "stream",
     "text": [
      "분류 종류 :  ['A' 'B']\n",
      "가중치 값 :  [[-0.8204321]]\n",
      "절편   값 :  [73.42867468]\n",
      "특성 갯수 :  1\n"
     ]
    }
   ],
   "source": [
    "# 학습 후 설정된 속성\n",
    "print( \"분류 종류 : \", model.classes_)\n",
    "print( \"가중치 값 : \", model.coef_)\n",
    "print( \"절편   값 : \", model.intercept_)\n",
    "print( \"특성 갯수 : \", model.n_features_in_)"
   ]
  },
  {
   "cell_type": "markdown",
   "id": "2e46f223",
   "metadata": {
    "pycharm": {
     "name": "#%% md\n"
    }
   },
   "source": [
    "### [4] 평가  => score()  학습용 데이터 점수, 테스트용 데이터 점수\n",
    "---\n",
    "- 2개 점수 비교해서 과대적합, 과소적합 체크"
   ]
  },
  {
   "cell_type": "code",
   "execution_count": 9,
   "id": "c74ee35f",
   "metadata": {
    "pycharm": {
     "name": "#%%\n"
    }
   },
   "outputs": [
    {
     "data": {
      "text/plain": "1.0"
     },
     "execution_count": 9,
     "metadata": {},
     "output_type": "execute_result"
    }
   ],
   "source": [
    "model.score(arrX, arrY)"
   ]
  },
  {
   "cell_type": "markdown",
   "id": "877b8a22",
   "metadata": {
    "pycharm": {
     "name": "#%% md\n"
    }
   },
   "source": [
    "### [5] 테스트  => predict() : 새로운 데이터로 진행"
   ]
  },
  {
   "cell_type": "code",
   "execution_count": 10,
   "id": "a5bf57d0",
   "metadata": {
    "pycharm": {
     "name": "#%%\n"
    }
   },
   "outputs": [
    {
     "data": {
      "text/plain": "array(['B', 'B', 'B', 'A', 'A', 'A'], dtype='<U1')"
     },
     "execution_count": 10,
     "metadata": {},
     "output_type": "execute_result"
    }
   ],
   "source": [
    "preY=model.predict(arrX)\n",
    "\n",
    "preY"
   ]
  },
  {
   "cell_type": "code",
   "execution_count": 11,
   "id": "02f05b36",
   "metadata": {
    "pycharm": {
     "name": "#%%\n"
    }
   },
   "outputs": [
    {
     "name": "stdout",
     "output_type": "stream",
     "text": [
      "예측결과 :  ['B']\n"
     ]
    }
   ],
   "source": [
    "# 1개 데이터\n",
    "preY=model.predict( [[87]])\n",
    "\n",
    "print('예측결과 : ', preY)"
   ]
  },
  {
   "cell_type": "code",
   "execution_count": 12,
   "id": "eef50b8c",
   "metadata": {
    "pycharm": {
     "name": "#%%\n"
    }
   },
   "outputs": [
    {
     "name": "stdout",
     "output_type": "stream",
     "text": [
      "분류항목 :  ['A' 'B']\n",
      "예측확률 :  [[0.11394314 0.88605686]]\n"
     ]
    }
   ],
   "source": [
    "probaY=model.predict_proba([[87]])\n",
    "print('분류항목 : ', model.classes_)\n",
    "print('예측확률 : ', probaY)"
   ]
  },
  {
   "cell_type": "code",
   "execution_count": 13,
   "id": "2087cd37",
   "metadata": {
    "pycharm": {
     "name": "#%%\n"
    }
   },
   "outputs": [
    {
     "name": "stdout",
     "output_type": "stream",
     "text": [
      "[2.051]\n"
     ]
    }
   ],
   "source": [
    "# 결정함수 y=wx+b\n",
    "ret=model.decision_function([[87]])\n",
    "print(np.round(ret, 3))"
   ]
  },
  {
   "cell_type": "code",
   "execution_count": 14,
   "id": "7f4d835e",
   "metadata": {
    "pycharm": {
     "name": "#%%\n"
    }
   },
   "outputs": [
    {
     "name": "stdout",
     "output_type": "stream",
     "text": [
      "result :  [[2.051]]\n"
     ]
    }
   ],
   "source": [
    "# y=Wx+b : 모델 파라미터\n",
    "result=(model.coef_*87)+model.intercept_\n",
    "print('result : ', np.round(result, 3))"
   ]
  },
  {
   "cell_type": "code",
   "execution_count": 15,
   "id": "81468b7c",
   "metadata": {
    "pycharm": {
     "name": "#%%\n"
    }
   },
   "outputs": [
    {
     "name": "stdout",
     "output_type": "stream",
     "text": [
      "예측확률 :  [0.88606]\n",
      "예측확률 :  [[0.11394 0.88606]]\n"
     ]
    }
   ],
   "source": [
    "# 시그모이드 함수 expit(ax+b) 후 결과 확인\n",
    "# predict_proba()함수의 양성에 대한 결과와 동일\n",
    "from scipy.special import expit\n",
    "sigValue2=expit(ret)\n",
    "print('예측확률 : ', np.round(sigValue2, 5))\n",
    "print('예측확률 : ', np.round(probaY,5))"
   ]
  },
  {
   "cell_type": "code",
   "execution_count": 15,
   "id": "4276ce94",
   "metadata": {
    "pycharm": {
     "name": "#%%\n"
    }
   },
   "outputs": [],
   "source": []
  }
 ],
 "metadata": {
  "kernelspec": {
   "display_name": "Python 3 (ipykernel)",
   "language": "python",
   "name": "python3"
  },
  "language_info": {
   "codemirror_mode": {
    "name": "ipython",
    "version": 3
   },
   "file_extension": ".py",
   "mimetype": "text/x-python",
   "name": "python",
   "nbconvert_exporter": "python",
   "pygments_lexer": "ipython3",
   "version": "3.9.12"
  }
 },
 "nbformat": 4,
 "nbformat_minor": 5
}