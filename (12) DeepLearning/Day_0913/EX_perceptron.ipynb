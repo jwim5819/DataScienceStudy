{
 "cells": [
  {
   "cell_type": "markdown",
   "source": [
    "# 퍼셉트론(Perceptron)\n",
    "---\n",
    "- 뉴런을 컴퓨터 프로그램화 한 클래스\n",
    "- 단순한 구조의 분류(Classification) 모델\n",
    "- AND / OR 문제 분류 성공\n",
    "- XOR 문제 분류 실패"
   ],
   "metadata": {
    "collapsed": false,
    "pycharm": {
     "name": "#%% md\n"
    }
   }
  },
  {
   "cell_type": "code",
   "execution_count": 124,
   "outputs": [],
   "source": [
    "from sklearn.linear_model import Perceptron\n",
    "from sklearn.metrics import accuracy_score\n",
    "import numpy as np"
   ],
   "metadata": {
    "collapsed": false,
    "pycharm": {
     "name": "#%%\n"
    }
   }
  },
  {
   "cell_type": "markdown",
   "source": [
    "### [1] AND분류\n",
    "- x,---x,---y\n",
    "- 0----0----0\n",
    "- 1----0----0\n",
    "- 0----1----0\n",
    "- 1----1----1"
   ],
   "metadata": {
    "collapsed": false,
    "pycharm": {
     "name": "#%% md\n"
    }
   }
  },
  {
   "cell_type": "code",
   "execution_count": 125,
   "outputs": [],
   "source": [
    "# 데이터 생성\n",
    "x_1 = [[0., 0.], [1., 0.], [0., 1.], [1., 1.]]\n",
    "y_1 = [0, 0, 0, 1]"
   ],
   "metadata": {
    "collapsed": false,
    "pycharm": {
     "name": "#%%\n"
    }
   }
  },
  {
   "cell_type": "code",
   "execution_count": 126,
   "outputs": [],
   "source": [
    "# 모델 객체 생성\n",
    "andModel = Perceptron()"
   ],
   "metadata": {
    "collapsed": false,
    "pycharm": {
     "name": "#%%\n"
    }
   }
  },
  {
   "cell_type": "code",
   "execution_count": 127,
   "outputs": [
    {
     "data": {
      "text/plain": "Perceptron()"
     },
     "execution_count": 127,
     "metadata": {},
     "output_type": "execute_result"
    }
   ],
   "source": [
    "# 학습\n",
    "andModel.fit(x_1, y_1)"
   ],
   "metadata": {
    "collapsed": false,
    "pycharm": {
     "name": "#%%\n"
    }
   }
  },
  {
   "cell_type": "code",
   "execution_count": 128,
   "outputs": [],
   "source": [
    "# 모델 객체 속성 출력 함수\n",
    "def model_info(model):\n",
    "    print(f'classes_   :{model.classes_}')\n",
    "    print(f'coef_      :{model.coef_}')\n",
    "    print(f'intercept_ :{model.intercept_}')\n",
    "    print(f'n_iter_    :{model.n_iter_}')"
   ],
   "metadata": {
    "collapsed": false,
    "pycharm": {
     "name": "#%%\n"
    }
   }
  },
  {
   "cell_type": "code",
   "execution_count": 129,
   "outputs": [
    {
     "name": "stdout",
     "output_type": "stream",
     "text": [
      "classes_   :[0 1]\n",
      "coef_      :[[2. 2.]]\n",
      "intercept_ :[-2.]\n",
      "n_iter_    :10\n"
     ]
    }
   ],
   "source": [
    "model_info(andModel)"
   ],
   "metadata": {
    "collapsed": false,
    "pycharm": {
     "name": "#%%\n"
    }
   }
  },
  {
   "cell_type": "code",
   "execution_count": 130,
   "outputs": [
    {
     "name": "stdout",
     "output_type": "stream",
     "text": [
      "정답 :[0, 0, 0, 1]\n",
      "예측 :[0 0 0 1]\n",
      "점수 :1.0\n"
     ]
    }
   ],
   "source": [
    "# 예측\n",
    "pre = andModel.predict(x_1)\n",
    "print(f'정답 :{y_1}')\n",
    "print(f'예측 :{pre}')\n",
    "print(f'점수 :{accuracy_score(y_1, pre)}')"
   ],
   "metadata": {
    "collapsed": false,
    "pycharm": {
     "name": "#%%\n"
    }
   }
  },
  {
   "cell_type": "markdown",
   "source": [
    "### [2] OR 분류\n",
    "- x,---x,---y\n",
    "- 0----0----0\n",
    "- 1----0----1\n",
    "- 0----1----1\n",
    "- 1----1----1"
   ],
   "metadata": {
    "collapsed": false,
    "pycharm": {
     "name": "#%% md\n"
    }
   }
  },
  {
   "cell_type": "code",
   "execution_count": 131,
   "outputs": [],
   "source": [
    "# 데이터 생성\n",
    "x_2 = [[0., 0.], [1., 0.], [0., 1.], [1., 1.]]\n",
    "y_2 = [0, 1, 1, 1]"
   ],
   "metadata": {
    "collapsed": false,
    "pycharm": {
     "name": "#%%\n"
    }
   }
  },
  {
   "cell_type": "code",
   "execution_count": 132,
   "outputs": [
    {
     "data": {
      "text/plain": "Perceptron()"
     },
     "execution_count": 132,
     "metadata": {},
     "output_type": "execute_result"
    }
   ],
   "source": [
    "# 모델 객체 생성 및 학습\n",
    "orModel = Perceptron()\n",
    "orModel.fit(x_2, y_2)"
   ],
   "metadata": {
    "collapsed": false,
    "pycharm": {
     "name": "#%%\n"
    }
   }
  },
  {
   "cell_type": "code",
   "execution_count": 133,
   "outputs": [
    {
     "name": "stdout",
     "output_type": "stream",
     "text": [
      "classes_   :[0 1]\n",
      "coef_      :[[2. 2.]]\n",
      "intercept_ :[-1.]\n",
      "n_iter_    :7\n"
     ]
    }
   ],
   "source": [
    "model_info(orModel)"
   ],
   "metadata": {
    "collapsed": false,
    "pycharm": {
     "name": "#%%\n"
    }
   }
  },
  {
   "cell_type": "code",
   "execution_count": 134,
   "outputs": [
    {
     "name": "stdout",
     "output_type": "stream",
     "text": [
      "정답 :[0, 1, 1, 1]\n",
      "예측 :[0 1 1 1]\n",
      "점수 :1.0\n"
     ]
    }
   ],
   "source": [
    "# 예측\n",
    "pre2 = orModel.predict(x_2)\n",
    "print(f'정답 :{y_2}')\n",
    "print(f'예측 :{pre2}')\n",
    "print(f'점수 :{accuracy_score(y_2, pre2)}')"
   ],
   "metadata": {
    "collapsed": false,
    "pycharm": {
     "name": "#%%\n"
    }
   }
  },
  {
   "cell_type": "markdown",
   "source": [
    "### [3] XOR 분류\n",
    "- x,---x,---y\n",
    "- 0----0----0\n",
    "- 1----0----1\n",
    "- 0----1----1\n",
    "- 1----1----0"
   ],
   "metadata": {
    "collapsed": false,
    "pycharm": {
     "name": "#%% md\n"
    }
   }
  },
  {
   "cell_type": "code",
   "execution_count": 135,
   "outputs": [],
   "source": [
    "# 데이터 생성\n",
    "x_3 = [[0., 0.], [1., 0.], [0., 1.], [1., 1.]]\n",
    "y_3 = [0, 1, 1, 0]"
   ],
   "metadata": {
    "collapsed": false,
    "pycharm": {
     "name": "#%%\n"
    }
   }
  },
  {
   "cell_type": "code",
   "execution_count": 136,
   "outputs": [
    {
     "data": {
      "text/plain": "Perceptron()"
     },
     "execution_count": 136,
     "metadata": {},
     "output_type": "execute_result"
    }
   ],
   "source": [
    "# 모델 객체 생성 및 학습\n",
    "xorModel = Perceptron()\n",
    "xorModel.fit(x_3, y_3)"
   ],
   "metadata": {
    "collapsed": false,
    "pycharm": {
     "name": "#%%\n"
    }
   }
  },
  {
   "cell_type": "code",
   "execution_count": 137,
   "outputs": [
    {
     "name": "stdout",
     "output_type": "stream",
     "text": [
      "classes_   :[0 1]\n",
      "coef_      :[[0. 0.]]\n",
      "intercept_ :[0.]\n",
      "n_iter_    :6\n"
     ]
    }
   ],
   "source": [
    "model_info(xorModel)"
   ],
   "metadata": {
    "collapsed": false,
    "pycharm": {
     "name": "#%%\n"
    }
   }
  },
  {
   "cell_type": "code",
   "execution_count": 141,
   "outputs": [
    {
     "name": "stdout",
     "output_type": "stream",
     "text": [
      "정답 :[0, 1, 1, 0]\n",
      "예측 :[0 0 0 0]\n",
      "점수 :0.5\n"
     ]
    }
   ],
   "source": [
    "# 예측\n",
    "pre3 = xorModel.predict(x_3)\n",
    "print(f'정답 :{y_3}')\n",
    "print(f'예측 :{pre3}')\n",
    "print(f'점수 :{accuracy_score(y_3, pre3)}')"
   ],
   "metadata": {
    "collapsed": false,
    "pycharm": {
     "name": "#%%\n"
    }
   }
  },
  {
   "cell_type": "code",
   "execution_count": 138,
   "outputs": [],
   "source": [],
   "metadata": {
    "collapsed": false,
    "pycharm": {
     "name": "#%%\n"
    }
   }
  }
 ],
 "metadata": {
  "kernelspec": {
   "display_name": "Python 3",
   "language": "python",
   "name": "python3"
  },
  "language_info": {
   "codemirror_mode": {
    "name": "ipython",
    "version": 2
   },
   "file_extension": ".py",
   "mimetype": "text/x-python",
   "name": "python",
   "nbconvert_exporter": "python",
   "pygments_lexer": "ipython2",
   "version": "2.7.6"
  }
 },
 "nbformat": 4,
 "nbformat_minor": 0
}