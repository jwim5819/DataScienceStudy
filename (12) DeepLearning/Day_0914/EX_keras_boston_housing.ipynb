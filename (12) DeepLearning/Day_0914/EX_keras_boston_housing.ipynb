{
 "cells": [
  {
   "cell_type": "code",
   "execution_count": 294,
   "outputs": [],
   "source": [
    "# 모듈로딩\n",
    "from keras import Sequential  # 모댈 객체\n",
    "from keras.layers import Dense, Dropout  # layer 객체\n",
    "from keras.datasets.boston_housing import load_data\n",
    "from keras.callbacks import EarlyStopping\n",
    "from sklearn.preprocessing import StandardScaler, MinMaxScaler, RobustScaler\n",
    "import matplotlib.pyplot as plt"
   ],
   "metadata": {
    "collapsed": false,
    "pycharm": {
     "name": "#%%\n"
    }
   }
  },
  {
   "cell_type": "markdown",
   "source": [
    "# [1] 데이터 로딩"
   ],
   "metadata": {
    "collapsed": false,
    "pycharm": {
     "name": "#%% md\n"
    }
   }
  },
  {
   "cell_type": "code",
   "execution_count": 295,
   "outputs": [
    {
     "data": {
      "text/plain": "((404, 13), (102, 13))"
     },
     "execution_count": 295,
     "metadata": {},
     "output_type": "execute_result"
    }
   ],
   "source": [
    "# 학습용 / 테스트용 => 8:2\n",
    "(x_train, y_train), (x_test, y_test) = load_data()\n",
    "x_train.shape, x_test.shape"
   ],
   "metadata": {
    "collapsed": false,
    "pycharm": {
     "name": "#%%\n"
    }
   }
  },
  {
   "cell_type": "code",
   "execution_count": 296,
   "outputs": [
    {
     "data": {
      "text/plain": "(array([[  1.23247,   0.     ,   8.14   ,   0.     ,   0.538  ,   6.142  ,\n          91.7    ,   3.9769 ,   4.     , 307.     ,  21.     , 396.9    ,\n          18.72   ]]),\n 15.2)"
     },
     "execution_count": 296,
     "metadata": {},
     "output_type": "execute_result"
    }
   ],
   "source": [
    "x_train[:1], y_train[0]"
   ],
   "metadata": {
    "collapsed": false,
    "pycharm": {
     "name": "#%%\n"
    }
   }
  },
  {
   "cell_type": "markdown",
   "source": [
    "### [1-1] 전처리\n",
    "- 특성(feature)의 값의 범위 처리\n",
    "    - 수치 데이터 : 값의 범위 맞추기(스케일링)\n",
    "    - 문자 데이터 : 수치화(인코딩)"
   ],
   "metadata": {
    "collapsed": false,
    "pycharm": {
     "name": "#%% md\n"
    }
   }
  },
  {
   "cell_type": "code",
   "execution_count": 297,
   "outputs": [],
   "source": [
    "scaler = StandardScaler()"
   ],
   "metadata": {
    "collapsed": false,
    "pycharm": {
     "name": "#%%\n"
    }
   }
  },
  {
   "cell_type": "code",
   "execution_count": 298,
   "outputs": [
    {
     "data": {
      "text/plain": "StandardScaler()"
     },
     "execution_count": 298,
     "metadata": {},
     "output_type": "execute_result"
    }
   ],
   "source": [
    "scaler.fit(x_train)"
   ],
   "metadata": {
    "collapsed": false,
    "pycharm": {
     "name": "#%%\n"
    }
   }
  },
  {
   "cell_type": "code",
   "execution_count": 299,
   "outputs": [],
   "source": [
    "x_train_scaled = scaler.transform(x_train)\n",
    "x_test_scaled = scaler.transform(x_test)"
   ],
   "metadata": {
    "collapsed": false,
    "pycharm": {
     "name": "#%%\n"
    }
   }
  },
  {
   "cell_type": "code",
   "execution_count": 299,
   "outputs": [],
   "source": [],
   "metadata": {
    "collapsed": false,
    "pycharm": {
     "name": "#%%\n"
    }
   }
  },
  {
   "cell_type": "markdown",
   "source": [
    "# [2] NN Model 실습\n",
    "- (1) 모델 구상\n",
    "- (2) 모델 생성\n",
    "- (3) 학습\n",
    "- (4) 평가\n",
    "- (5) 테스트"
   ],
   "metadata": {
    "collapsed": false,
    "pycharm": {
     "name": "#%% md\n"
    }
   }
  },
  {
   "cell_type": "markdown",
   "source": [
    "### [2-1] 모델 구상\n",
    "- 입력 데이터 => 13개의 Feature\n",
    "- 출력 데이터 => 1개    집값"
   ],
   "metadata": {
    "collapsed": false,
    "pycharm": {
     "name": "#%% md\n"
    }
   }
  },
  {
   "cell_type": "code",
   "execution_count": 300,
   "outputs": [],
   "source": [
    "# NN model의 layer를 층층이 담아서 관리하는 객체\n",
    "model = Sequential(name='Boston')"
   ],
   "metadata": {
    "collapsed": false,
    "pycharm": {
     "name": "#%%\n"
    }
   }
  },
  {
   "cell_type": "code",
   "execution_count": 301,
   "outputs": [],
   "source": [
    "# layer 추가하기\n",
    "model.add(Dense(10, activation='relu', input_shape=(13,), name='input_layer'))\n",
    "model.add(Dense(10, activation='relu', name='hidden_layer'))\n",
    "# 과적합을 해결하기 위한 Dropout() 사용 : 랜덤으로 지정된 비율만큼 node를 비활성화 시킴\n",
    "model.add(Dropout(0.5))\n",
    "# 회귀 => 출력층 세팅\n",
    "model.add(Dense(1, activation='linear', name='output_layer'))"
   ],
   "metadata": {
    "collapsed": false,
    "pycharm": {
     "name": "#%%\n"
    }
   }
  },
  {
   "cell_type": "code",
   "execution_count": 302,
   "outputs": [
    {
     "name": "stdout",
     "output_type": "stream",
     "text": [
      "Model: \"Boston\"\n",
      "_________________________________________________________________\n",
      " Layer (type)                Output Shape              Param #   \n",
      "=================================================================\n",
      " input_layer (Dense)         (None, 10)                140       \n",
      "                                                                 \n",
      " hidden_layer (Dense)        (None, 10)                110       \n",
      "                                                                 \n",
      " dropout (Dropout)           (None, 10)                0         \n",
      "                                                                 \n",
      " output_layer (Dense)        (None, 1)                 11        \n",
      "                                                                 \n",
      "=================================================================\n",
      "Total params: 261\n",
      "Trainable params: 261\n",
      "Non-trainable params: 0\n",
      "_________________________________________________________________\n"
     ]
    }
   ],
   "source": [
    "# model 구성 확인하기\n",
    "model.summary()"
   ],
   "metadata": {
    "collapsed": false,
    "pycharm": {
     "name": "#%%\n"
    }
   }
  },
  {
   "cell_type": "markdown",
   "source": [
    "### [2-2] 모델 생성\n",
    "- Sequential 클래스의 compile 메서드 사용\n",
    "- 모델이 동작하기 위해서 필요한 설정\n",
    "    - 오차 계산 함수 설정 => loss\n",
    "        - 회귀 : MAE, MSE, RMSE\n",
    "        - 분류 : crossentropy => (이진분류일때 : binary_crossentropy / 다중분류일때 : categorical_crossentropy, sparse_categorycal_crossentropy)\n",
    "    - 최적화 즉, W, B최적화 방식 설정 => optimizer\n",
    "        - Default : rmsprop\n",
    "        - 변경 : adam, momonent, ... (최적화 클래스 이름 문자열 입력 혹은 객체 입력)\n",
    "    - 모델의 성능 측정 항목 설정 => metrics\n",
    "        - Default : loss\n",
    "        - 변경 : 클래스 이름 문자열 입력\n",
    "- 파라미터 값들\n",
    "    - str 타입으로 입력 가능\n",
    "    - 또는, 객체 타입으로 입력 가능"
   ],
   "metadata": {
    "collapsed": false,
    "pycharm": {
     "name": "#%% md\n"
    }
   }
  },
  {
   "cell_type": "code",
   "execution_count": 303,
   "outputs": [],
   "source": [
    "model.compile(loss='MSE', optimizer='adam', metrics=['mae'])"
   ],
   "metadata": {
    "collapsed": false,
    "pycharm": {
     "name": "#%%\n"
    }
   }
  },
  {
   "cell_type": "markdown",
   "source": [
    "### [2-3] 학습\n",
    "- fit() 메서드 사용\n",
    "    - epochs\n",
    "        - Default : 1(처음~끝까지 학습 횟수)\n",
    "    - batch_size\n",
    "        - Default : 32(한번에 학습할 데이터의 양)\n",
    "    - validation_split\n",
    "        - 학습 데이터의 일부를 검증용으로 분리(0.0~1.0사이의 값)\n",
    "    - validation_data\n",
    "        - 테스트 데이터, 테스트 타겟\n",
    "    - callback\n",
    "        - 학습 시 발생하는 이벤트 처리 함수 등록\n",
    "    - 반환값 => history 객체\n",
    "        - 형태 : dict 형태\n",
    "        - Default : 학습 데이터에 대한 loss값 저장"
   ],
   "metadata": {
    "collapsed": false,
    "pycharm": {
     "name": "#%% md\n"
    }
   }
  },
  {
   "cell_type": "code",
   "execution_count": 304,
   "outputs": [],
   "source": [
    "# 검증 데이터에 대한 loss값이 3번 연속 개선되지 않으면 중지하는 callback 생성\n",
    "stopCb = EarlyStopping(monitor='val_loss', patience=10)"
   ],
   "metadata": {
    "collapsed": false,
    "pycharm": {
     "name": "#%%\n"
    }
   }
  },
  {
   "cell_type": "code",
   "execution_count": 305,
   "outputs": [
    {
     "name": "stdout",
     "output_type": "stream",
     "text": [
      "Epoch 1/300\n",
      "41/41 [==============================] - 0s 3ms/step - loss: 1100.1770 - mae: 25.0897 - val_loss: 243.8054 - val_mae: 13.1303\n",
      "Epoch 2/300\n",
      "41/41 [==============================] - 0s 1ms/step - loss: 475.3465 - mae: 17.7569 - val_loss: 209.2318 - val_mae: 11.7763\n",
      "Epoch 3/300\n",
      "41/41 [==============================] - 0s 1ms/step - loss: 404.0776 - mae: 15.9351 - val_loss: 248.5563 - val_mae: 13.1483\n",
      "Epoch 4/300\n",
      "41/41 [==============================] - 0s 1ms/step - loss: 365.1242 - mae: 15.5977 - val_loss: 240.3651 - val_mae: 12.8532\n",
      "Epoch 5/300\n",
      "41/41 [==============================] - 0s 1ms/step - loss: 371.5934 - mae: 15.9015 - val_loss: 241.6927 - val_mae: 12.9178\n",
      "Epoch 6/300\n",
      "41/41 [==============================] - 0s 2ms/step - loss: 368.2720 - mae: 15.4558 - val_loss: 238.3161 - val_mae: 12.8323\n",
      "Epoch 7/300\n",
      "41/41 [==============================] - 0s 2ms/step - loss: 366.2524 - mae: 15.5552 - val_loss: 240.3381 - val_mae: 12.9147\n",
      "Epoch 8/300\n",
      "41/41 [==============================] - 0s 1ms/step - loss: 297.1301 - mae: 13.9997 - val_loss: 215.5764 - val_mae: 12.0854\n",
      "Epoch 9/300\n",
      "41/41 [==============================] - 0s 1ms/step - loss: 329.9624 - mae: 14.4980 - val_loss: 229.8112 - val_mae: 12.5985\n",
      "Epoch 10/300\n",
      "41/41 [==============================] - 0s 1ms/step - loss: 322.3099 - mae: 14.0209 - val_loss: 228.8397 - val_mae: 12.5918\n",
      "Epoch 11/300\n",
      "41/41 [==============================] - 0s 1ms/step - loss: 325.1485 - mae: 14.1115 - val_loss: 217.9320 - val_mae: 12.2131\n",
      "Epoch 12/300\n",
      "41/41 [==============================] - 0s 1ms/step - loss: 352.4380 - mae: 14.8271 - val_loss: 224.8601 - val_mae: 12.4969\n"
     ]
    }
   ],
   "source": [
    "result = model.fit(x_train, y_train,\n",
    "                   epochs=300,\n",
    "                   batch_size=10,\n",
    "                   validation_data=(x_test, y_test),\n",
    "                   callbacks=[stopCb])\n",
    "                    # validation_split=0.2)"
   ],
   "metadata": {
    "collapsed": false,
    "pycharm": {
     "name": "#%%\n"
    }
   }
  },
  {
   "cell_type": "code",
   "execution_count": 306,
   "outputs": [
    {
     "data": {
      "text/plain": "(keras.callbacks.History, {'verbose': 1, 'epochs': 300, 'steps': 41})"
     },
     "execution_count": 306,
     "metadata": {},
     "output_type": "execute_result"
    }
   ],
   "source": [
    "# 학습 후 학습 결과 체크 => history 객체\n",
    "type(result), result.params"
   ],
   "metadata": {
    "collapsed": false,
    "pycharm": {
     "name": "#%%\n"
    }
   }
  },
  {
   "cell_type": "code",
   "execution_count": 307,
   "outputs": [
    {
     "data": {
      "text/plain": "({'loss': [1100.177001953125,\n   475.3465270996094,\n   404.07763671875,\n   365.1241760253906,\n   371.5934143066406,\n   368.27197265625,\n   366.25244140625,\n   297.1300964355469,\n   329.9623718261719,\n   322.3099365234375,\n   325.1485290527344,\n   352.4379577636719],\n  'mae': [25.089677810668945,\n   17.756874084472656,\n   15.93510913848877,\n   15.59774112701416,\n   15.901508331298828,\n   15.45583438873291,\n   15.555156707763672,\n   13.999740600585938,\n   14.497973442077637,\n   14.020938873291016,\n   14.111472129821777,\n   14.827094078063965],\n  'val_loss': [243.80535888671875,\n   209.23184204101562,\n   248.55628967285156,\n   240.3650665283203,\n   241.6927490234375,\n   238.31610107421875,\n   240.3380584716797,\n   215.57640075683594,\n   229.8111572265625,\n   228.8396759033203,\n   217.9320068359375,\n   224.86012268066406],\n  'val_mae': [13.130334854125977,\n   11.776263236999512,\n   13.148321151733398,\n   12.853177070617676,\n   12.917784690856934,\n   12.832283020019531,\n   12.914680480957031,\n   12.08543872833252,\n   12.598492622375488,\n   12.591828346252441,\n   12.213114738464355,\n   12.496926307678223]},\n dict_keys(['loss', 'mae', 'val_loss', 'val_mae']))"
     },
     "execution_count": 307,
     "metadata": {},
     "output_type": "execute_result"
    }
   ],
   "source": [
    "result.history, result.history.keys()"
   ],
   "metadata": {
    "collapsed": false,
    "pycharm": {
     "name": "#%%\n"
    }
   }
  },
  {
   "cell_type": "code",
   "execution_count": 308,
   "outputs": [
    {
     "data": {
      "text/plain": "[1100.177001953125,\n 475.3465270996094,\n 404.07763671875,\n 365.1241760253906,\n 371.5934143066406,\n 368.27197265625,\n 366.25244140625,\n 297.1300964355469,\n 329.9623718261719,\n 322.3099365234375,\n 325.1485290527344,\n 352.4379577636719]"
     },
     "execution_count": 308,
     "metadata": {},
     "output_type": "execute_result"
    }
   ],
   "source": [
    "result.history['loss']"
   ],
   "metadata": {
    "collapsed": false,
    "pycharm": {
     "name": "#%%\n"
    }
   }
  },
  {
   "cell_type": "code",
   "execution_count": 309,
   "outputs": [
    {
     "data": {
      "text/plain": "<Figure size 640x480 with 1 Axes>",
      "image/png": "[encoded data removed]"
     },
     "metadata": {},
     "output_type": "display_data"
    }
   ],
   "source": [
    "# 시각화\n",
    "plt.plot(result.epoch, result.history['loss'], label='loss')\n",
    "plt.plot(result.epoch, result.history['val_loss'], label='val_loss')\n",
    "# plt.plot(result.epoch, result.history['mae'], label='mae')\n",
    "# plt.plot(result.epoch, result.history['val_mae'], label='val_mae')\n",
    "plt.legend()\n",
    "plt.show()"
   ],
   "metadata": {
    "collapsed": false,
    "pycharm": {
     "name": "#%%\n"
    }
   }
  },
  {
   "cell_type": "markdown",
   "source": [
    "### [2-4] 평가\n",
    "- evaluate() 메서드 사용\n",
    "    - 파라미터 : test_data, test_target\n",
    "    - 반환값 : loss, compile()의 metrics에서 설정한 항목 지표값"
   ],
   "metadata": {
    "collapsed": false,
    "pycharm": {
     "name": "#%% md\n"
    }
   }
  },
  {
   "cell_type": "code",
   "execution_count": 310,
   "outputs": [
    {
     "name": "stdout",
     "output_type": "stream",
     "text": [
      "4/4 [==============================] - 0s 1ms/step - loss: 224.8601 - mae: 12.4969\n"
     ]
    },
    {
     "data": {
      "text/plain": "[224.860107421875, 12.496926307678223]"
     },
     "execution_count": 310,
     "metadata": {},
     "output_type": "execute_result"
    }
   ],
   "source": [
    "model_eval = model.evaluate(x_test, y_test)\n",
    "model_eval"
   ],
   "metadata": {
    "collapsed": false,
    "pycharm": {
     "name": "#%%\n"
    }
   }
  },
  {
   "cell_type": "markdown",
   "source": [
    "### [2-5] 예측\n",
    "- predict() 메서드 사용"
   ],
   "metadata": {
    "collapsed": false,
    "pycharm": {
     "name": "#%% md\n"
    }
   }
  },
  {
   "cell_type": "code",
   "execution_count": 311,
   "outputs": [
    {
     "name": "stdout",
     "output_type": "stream",
     "text": [
      "WARNING:tensorflow:5 out of the last 6 calls to <function Model.make_predict_function.<locals>.predict_function at 0x000002421E80F168> triggered tf.function retracing. Tracing is expensive and the excessive number of tracings could be due to (1) creating @tf.function repeatedly in a loop, (2) passing tensors with different shapes, (3) passing Python objects instead of tensors. For (1), please define your @tf.function outside of the loop. For (2), @tf.function has reduce_retracing=True option that can avoid unnecessary retracing. For (3), please refer to https://www.tensorflow.org/guide/function#controlling_retracing and https://www.tensorflow.org/api_docs/python/tf/function for  more details.\n",
      "1/1 [==============================] - 0s 37ms/step\n"
     ]
    },
    {
     "data": {
      "text/plain": "array([[10.862103]], dtype=float32)"
     },
     "execution_count": 311,
     "metadata": {},
     "output_type": "execute_result"
    }
   ],
   "source": [
    "pre = model.predict(x_train[:1])\n",
    "pre"
   ],
   "metadata": {
    "collapsed": false,
    "pycharm": {
     "name": "#%%\n"
    }
   }
  },
  {
   "cell_type": "code",
   "execution_count": 311,
   "outputs": [],
   "source": [],
   "metadata": {
    "collapsed": false,
    "pycharm": {
     "name": "#%%\n"
    }
   }
  }
 ],
 "metadata": {
  "kernelspec": {
   "display_name": "Python 3",
   "language": "python",
   "name": "python3"
  },
  "language_info": {
   "codemirror_mode": {
    "name": "ipython",
    "version": 2
   },
   "file_extension": ".py",
   "mimetype": "text/x-python",
   "name": "python",
   "nbconvert_exporter": "python",
   "pygments_lexer": "ipython2",
   "version": "2.7.6"
  }
 },
 "nbformat": 4,
 "nbformat_minor": 0
}