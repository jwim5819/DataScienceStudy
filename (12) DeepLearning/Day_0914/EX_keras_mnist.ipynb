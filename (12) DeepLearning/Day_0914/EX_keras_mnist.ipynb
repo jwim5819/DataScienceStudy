{
 "cells": [
  {
   "cell_type": "markdown",
   "source": [
    "# 손글씨 숫자 식별 모델\n",
    "---\n",
    "- 데이터 : MNIST 데이터 사용\n",
    "- 학습모델 : 신경망 모델\n",
    "- 동작 : 0 ~ 9사이의 숫자 판별"
   ],
   "metadata": {
    "collapsed": false,
    "pycharm": {
     "name": "#%% md\n"
    }
   }
  },
  {
   "cell_type": "code",
   "execution_count": 1,
   "outputs": [],
   "source": [
    "# 모듈로딩\n",
    "from keras import Sequential  # 모댈 객체\n",
    "from keras.layers import Dense, Dropout, Flatten  # layer 객체\n",
    "from keras.datasets.mnist import load_data\n",
    "from keras.callbacks import EarlyStopping, ModelCheckpoint\n",
    "from sklearn.model_selection import train_test_split\n",
    "from sklearn.preprocessing import OneHotEncoder\n",
    "from keras.utils import plot_model\n",
    "import matplotlib.pyplot as plt\n",
    "# from sklearn.preprocessing import StandardScaler, MinMaxScaler, RobustScaler\n",
    "# import numpy as np"
   ],
   "metadata": {
    "collapsed": false,
    "pycharm": {
     "name": "#%%\n"
    }
   }
  },
  {
   "cell_type": "markdown",
   "source": [
    "# [1] 데이터 로딩 및 준비"
   ],
   "metadata": {
    "collapsed": false,
    "pycharm": {
     "name": "#%% md\n"
    }
   }
  },
  {
   "cell_type": "code",
   "execution_count": 2,
   "outputs": [
    {
     "data": {
      "text/plain": "((60000, 28, 28), (10000, 28, 28))"
     },
     "execution_count": 2,
     "metadata": {},
     "output_type": "execute_result"
    }
   ],
   "source": [
    "# 데이터 로딩\n",
    "(x_train, y_train), (x_test, y_test) = load_data()\n",
    "x_train.shape, x_test.shape"
   ],
   "metadata": {
    "collapsed": false,
    "pycharm": {
     "name": "#%%\n"
    }
   }
  },
  {
   "cell_type": "code",
   "execution_count": 3,
   "outputs": [
    {
     "data": {
      "text/plain": "((45000, 28, 28), (15000, 28, 28))"
     },
     "execution_count": 3,
     "metadata": {},
     "output_type": "execute_result"
    }
   ],
   "source": [
    "# 검증용 데이터셋 준비\n",
    "x_train, x_val, y_train, y_val = train_test_split(x_train,\n",
    "                                                  y_train,\n",
    "                                                  stratify=y_train)\n",
    "x_train.shape, x_val.shape"
   ],
   "metadata": {
    "collapsed": false,
    "pycharm": {
     "name": "#%%\n"
    }
   }
  },
  {
   "cell_type": "markdown",
   "source": [
    "# [2] 데이터 전처리\n",
    "- 수치형 데이터 => 스케일링\n",
    "- 범주형 데이터 => One-Hot 인코딩"
   ],
   "metadata": {
    "collapsed": false,
    "pycharm": {
     "name": "#%% md\n"
    }
   }
  },
  {
   "cell_type": "code",
   "execution_count": 4,
   "outputs": [],
   "source": [
    "# plt.imshow(x_train[0])\n",
    "# plt.show()"
   ],
   "metadata": {
    "collapsed": false,
    "pycharm": {
     "name": "#%%\n"
    }
   }
  },
  {
   "cell_type": "code",
   "execution_count": 5,
   "outputs": [],
   "source": [
    "# 이미지 데이터의 픽셀 값 => feature => 0 ~ 1사이로 변환\n",
    "x_train_scaled = x_train / 255.0\n",
    "x_val_scaled = x_val / 255.0\n",
    "x_test_scaled = x_test / 255.0"
   ],
   "metadata": {
    "collapsed": false,
    "pycharm": {
     "name": "#%%\n"
    }
   }
  },
  {
   "cell_type": "code",
   "execution_count": 6,
   "outputs": [],
   "source": [
    "# 타겟 라벨 => One-Hot 인코딩\n",
    "encoder = OneHotEncoder()\n",
    "encoder.fit(y_train.reshape(-1, 1))\n",
    "y_train_encoded = encoder.transform(y_train.reshape(-1, 1))\n",
    "y_test_encoded = encoder.transform(y_test.reshape(-1, 1))\n",
    "y_val_encoded = encoder.transform(y_val.reshape(-1, 1))"
   ],
   "metadata": {
    "collapsed": false,
    "pycharm": {
     "name": "#%%\n"
    }
   }
  },
  {
   "cell_type": "code",
   "execution_count": 7,
   "outputs": [],
   "source": [
    "y_train_encoded = y_train_encoded.toarray()\n",
    "y_test_encoded = y_test_encoded.toarray()\n",
    "y_val_encoded = y_val_encoded.toarray()"
   ],
   "metadata": {
    "collapsed": false,
    "pycharm": {
     "name": "#%%\n"
    }
   }
  },
  {
   "cell_type": "markdown",
   "source": [
    "# [3] 모델 생성\n",
    "1) 모델 구성\n",
    "2) 모델 생성"
   ],
   "metadata": {
    "collapsed": false,
    "pycharm": {
     "name": "#%% md\n"
    }
   }
  },
  {
   "cell_type": "markdown",
   "source": [
    "### [3-1] 모델 구성\n",
    "- 입력 데이터 : 784개 (28*28 픽셀 이미지 데이터)\n",
    "- 출력 데이터 : 10개  (0 ~ 9의 숫자 라벨)\n",
    "- 학습 방법 : 분류 => 다중분류"
   ],
   "metadata": {
    "collapsed": false,
    "pycharm": {
     "name": "#%% md\n"
    }
   }
  },
  {
   "cell_type": "code",
   "execution_count": 8,
   "outputs": [],
   "source": [
    "# Sequential 생성\n",
    "model = Sequential(name='MNIST_NNModel')"
   ],
   "metadata": {
    "collapsed": false,
    "pycharm": {
     "name": "#%%\n"
    }
   }
  },
  {
   "cell_type": "code",
   "execution_count": 9,
   "outputs": [],
   "source": [
    "# Layer 생성 => Node(퍼셉트론, 뉴런) 갯수, 활성화 함수, (옵션 : input_shape param)\n",
    "model.add(Dense(250, activation='relu', input_shape=(784,), name='input'))\n",
    "model.add(Dropout(0.5))  # 과적합 방지\n",
    "model.add(Dense(100, activation='relu', name='hidden_1'))\n",
    "model.add(Dropout(0.5))  # 과적합 방지\n",
    "model.add(Dense(10, activation='softmax', name='output'))"
   ],
   "metadata": {
    "collapsed": false,
    "pycharm": {
     "name": "#%%\n"
    }
   }
  },
  {
   "cell_type": "code",
   "execution_count": 10,
   "outputs": [
    {
     "name": "stdout",
     "output_type": "stream",
     "text": [
      "Model: \"MNIST_NNModel\"\n",
      "_________________________________________________________________\n",
      " Layer (type)                Output Shape              Param #   \n",
      "=================================================================\n",
      " input (Dense)               (None, 250)               196250    \n",
      "                                                                 \n",
      " dropout (Dropout)           (None, 250)               0         \n",
      "                                                                 \n",
      " hidden_1 (Dense)            (None, 100)               25100     \n",
      "                                                                 \n",
      " dropout_1 (Dropout)         (None, 100)               0         \n",
      "                                                                 \n",
      " output (Dense)              (None, 10)                1010      \n",
      "                                                                 \n",
      "=================================================================\n",
      "Total params: 222,360\n",
      "Trainable params: 222,360\n",
      "Non-trainable params: 0\n",
      "_________________________________________________________________\n"
     ]
    }
   ],
   "source": [
    "model.summary()"
   ],
   "metadata": {
    "collapsed": false,
    "pycharm": {
     "name": "#%%\n"
    }
   }
  },
  {
   "cell_type": "markdown",
   "source": [
    "### [3-2] 모델 생성\n",
    "- loss => crossentropy\n",
    "    - 이진분류 : binary_crossentropy\n",
    "    - 다중분류 : categorical_crossentropy, sparse_categorical_crossentropy\n",
    "- optimizer => Default : rmsprop\n",
    "- metrics => Default : 'loss'"
   ],
   "metadata": {
    "collapsed": false,
    "pycharm": {
     "name": "#%% md\n"
    }
   }
  },
  {
   "cell_type": "code",
   "execution_count": 11,
   "outputs": [],
   "source": [
    "model.compile(loss='categorical_crossentropy',\n",
    "              optimizer='adam',\n",
    "              metrics='accuracy')"
   ],
   "metadata": {
    "collapsed": false,
    "pycharm": {
     "name": "#%%\n"
    }
   }
  },
  {
   "cell_type": "markdown",
   "source": [
    "# [4] 학습"
   ],
   "metadata": {
    "collapsed": false,
    "pycharm": {
     "name": "#%% md\n"
    }
   }
  },
  {
   "cell_type": "code",
   "execution_count": 12,
   "outputs": [],
   "source": [
    "callBack = EarlyStopping(monitor='val_loss',\n",
    "                         patience=2)"
   ],
   "metadata": {
    "collapsed": false,
    "pycharm": {
     "name": "#%%\n"
    }
   }
  },
  {
   "cell_type": "code",
   "execution_count": 13,
   "outputs": [],
   "source": [
    "MODEL_PATH = r'model.{epoch:02d}-{val_loss:.2f}.h5'\n",
    "modelCB = ModelCheckpoint(filepath=MODEL_PATH)\n",
    "                          # save_weights_only=True)\n",
    "                          # save_best_only=True)"
   ],
   "metadata": {
    "collapsed": false,
    "pycharm": {
     "name": "#%%\n"
    }
   }
  },
  {
   "cell_type": "code",
   "execution_count": 14,
   "outputs": [
    {
     "name": "stdout",
     "output_type": "stream",
     "text": [
      "Epoch 1/10\n",
      "1407/1407 [==============================] - 7s 4ms/step - loss: 0.4929 - accuracy: 0.8493 - val_loss: 0.1745 - val_accuracy: 0.9493\n",
      "Epoch 2/10\n",
      "1407/1407 [==============================] - 5s 4ms/step - loss: 0.2586 - accuracy: 0.9250 - val_loss: 0.1358 - val_accuracy: 0.9590\n",
      "Epoch 3/10\n",
      "1407/1407 [==============================] - 5s 4ms/step - loss: 0.2127 - accuracy: 0.9386 - val_loss: 0.1152 - val_accuracy: 0.9650\n",
      "Epoch 4/10\n",
      "1407/1407 [==============================] - 5s 4ms/step - loss: 0.1857 - accuracy: 0.9448 - val_loss: 0.1115 - val_accuracy: 0.9666\n",
      "Epoch 5/10\n",
      "1407/1407 [==============================] - 6s 4ms/step - loss: 0.1682 - accuracy: 0.9507 - val_loss: 0.1056 - val_accuracy: 0.9689\n",
      "Epoch 6/10\n",
      "1407/1407 [==============================] - 6s 4ms/step - loss: 0.1607 - accuracy: 0.9535 - val_loss: 0.0962 - val_accuracy: 0.9719\n",
      "Epoch 7/10\n",
      "1407/1407 [==============================] - 6s 4ms/step - loss: 0.1458 - accuracy: 0.9566 - val_loss: 0.0899 - val_accuracy: 0.9731\n",
      "Epoch 8/10\n",
      "1407/1407 [==============================] - 5s 4ms/step - loss: 0.1405 - accuracy: 0.9597 - val_loss: 0.0846 - val_accuracy: 0.9753\n",
      "Epoch 9/10\n",
      "1407/1407 [==============================] - 6s 4ms/step - loss: 0.1290 - accuracy: 0.9620 - val_loss: 0.0888 - val_accuracy: 0.9739\n",
      "Epoch 10/10\n",
      "1407/1407 [==============================] - 6s 4ms/step - loss: 0.1261 - accuracy: 0.9627 - val_loss: 0.0829 - val_accuracy: 0.9757\n"
     ]
    }
   ],
   "source": [
    "model_hist = model.fit(x_train_scaled.reshape(-1, 28 * 28),\n",
    "                       y_train_encoded,\n",
    "                       epochs=10,\n",
    "                       validation_data=(x_val_scaled.reshape(-1, 28 * 28), y_val_encoded),\n",
    "                       callbacks=[callBack,modelCB])"
   ],
   "metadata": {
    "collapsed": false,
    "pycharm": {
     "name": "#%%\n"
    }
   }
  },
  {
   "cell_type": "code",
   "execution_count": 15,
   "outputs": [
    {
     "data": {
      "text/plain": "<Figure size 640x480 with 1 Axes>",
      "image/png": "[encoded data removed]"
     },
     "metadata": {},
     "output_type": "display_data"
    }
   ],
   "source": [
    "plt.plot(model_hist.epoch, model_hist.history['loss'], label='loss')\n",
    "plt.plot(model_hist.epoch, model_hist.history['val_loss'], label='val_loss')\n",
    "plt.xticks(model_hist.epoch)\n",
    "plt.xlabel('epochs')\n",
    "plt.ylabel('loss')\n",
    "plt.legend()\n",
    "plt.show()"
   ],
   "metadata": {
    "collapsed": false,
    "pycharm": {
     "name": "#%%\n"
    }
   }
  },
  {
   "cell_type": "code",
   "execution_count": 16,
   "outputs": [
    {
     "data": {
      "text/plain": "<Figure size 640x480 with 1 Axes>",
      "image/png": "[encoded data removed]"
     },
     "metadata": {},
     "output_type": "display_data"
    }
   ],
   "source": [
    "plt.plot(model_hist.epoch, model_hist.history['accuracy'], label='accuracy')\n",
    "plt.plot(model_hist.epoch, model_hist.history['val_accuracy'], label='val_accuracy')\n",
    "plt.xticks(model_hist.epoch)\n",
    "plt.xlabel('epochs')\n",
    "plt.ylabel('accuracy')\n",
    "plt.legend()\n",
    "plt.show()"
   ],
   "metadata": {
    "collapsed": false,
    "pycharm": {
     "name": "#%%\n"
    }
   }
  },
  {
   "cell_type": "markdown",
   "source": [
    "# [5] 평가\n",
    "- evaluate() 메서드\n",
    "    - test data, target 사용\n",
    "    - 반환값\n",
    "        - Default : loss\n",
    "        - 추가 : metrics에서 지정한 성능평가 항목 지표"
   ],
   "metadata": {
    "collapsed": false,
    "pycharm": {
     "name": "#%% md\n"
    }
   }
  },
  {
   "cell_type": "code",
   "execution_count": 17,
   "outputs": [
    {
     "name": "stdout",
     "output_type": "stream",
     "text": [
      "313/313 [==============================] - 1s 2ms/step - loss: 0.0854 - accuracy: 0.9746\n"
     ]
    }
   ],
   "source": [
    "test_tesult = model.evaluate(x_test_scaled.reshape(-1, 28*28), y_test_encoded)"
   ],
   "metadata": {
    "collapsed": false,
    "pycharm": {
     "name": "#%%\n"
    }
   }
  },
  {
   "cell_type": "markdown",
   "source": [
    "# [6] 테스트/예측"
   ],
   "metadata": {
    "collapsed": false,
    "pycharm": {
     "name": "#%% md\n"
    }
   }
  },
  {
   "cell_type": "code",
   "execution_count": 18,
   "outputs": [
    {
     "name": "stdout",
     "output_type": "stream",
     "text": [
      "1/1 [==============================] - 0s 140ms/step\n",
      "[[2.3205206e-10 2.6693139e-10 1.7703268e-09 8.9502614e-11 9.9945825e-01\n",
      "  8.3560465e-08 2.5645780e-10 1.2547656e-07 6.0954258e-06 5.3544663e-04]]\n",
      "4\n"
     ]
    }
   ],
   "source": [
    "print(model.predict(x_test_scaled[6].reshape(-1,28*28)))\n",
    "print(y_test[6])"
   ],
   "metadata": {
    "collapsed": false,
    "pycharm": {
     "name": "#%%\n"
    }
   }
  },
  {
   "cell_type": "code",
   "execution_count": 21,
   "outputs": [
    {
     "data": {
      "image/png": "[encoded data removed]",
      "text/plain": "<IPython.core.display.Image object>"
     },
     "execution_count": 21,
     "metadata": {},
     "output_type": "execute_result"
    }
   ],
   "source": [
    "plot_model(model, show_dtype=True, show_shapes=True, show_layer_activations=True)"
   ],
   "metadata": {
    "collapsed": false,
    "pycharm": {
     "name": "#%%\n"
    }
   }
  },
  {
   "cell_type": "code",
   "execution_count": 19,
   "outputs": [],
   "source": [],
   "metadata": {
    "collapsed": false,
    "pycharm": {
     "name": "#%%\n"
    }
   }
  }
 ],
 "metadata": {
  "kernelspec": {
   "display_name": "Python 3",
   "language": "python",
   "name": "python3"
  },
  "language_info": {
   "codemirror_mode": {
    "name": "ipython",
    "version": 2
   },
   "file_extension": ".py",
   "mimetype": "text/x-python",
   "name": "python",
   "nbconvert_exporter": "python",
   "pygments_lexer": "ipython2",
   "version": "2.7.6"
  }
 },
 "nbformat": 4,
 "nbformat_minor": 0
}