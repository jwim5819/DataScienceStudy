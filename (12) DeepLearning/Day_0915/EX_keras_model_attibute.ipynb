{
 "cells": [
  {
   "cell_type": "markdown",
   "source": [
    "# 모델 속성 및 W, b초기값 고정\n",
    "---\n",
    "- 모델 속성 확인\n",
    "- 모델 생성 시 랜덤으로 초기화 되는 W,b값 고정하기"
   ],
   "metadata": {
    "collapsed": false,
    "pycharm": {
     "name": "#%% md\n"
    }
   }
  },
  {
   "cell_type": "code",
   "execution_count": 631,
   "outputs": [],
   "source": [
    "# 모듈로딩\n",
    "from keras import models, layers\n",
    "from tensorflow import random  # random seed 설정용\n",
    "import numpy as np\n",
    "import os\n",
    "from keras.utils import set_random_seed"
   ],
   "metadata": {
    "collapsed": false,
    "pycharm": {
     "name": "#%%\n"
    }
   }
  },
  {
   "cell_type": "code",
   "execution_count": 632,
   "outputs": [],
   "source": [
    "# 임시 테스트 데이터\n",
    "# 특성 feature => 2개(시간, 과외횟수), 출력 => 1개(점수)\n",
    "X = np.array([[2, 0], [3, 0], [4, 3], [5, 1], [6, 1], [7, 0], [8, 2]])\n",
    "y = np.array([52, 56, 71, 77, 82, 94, 100])\n",
    "X.shape, y.shape\n",
    "os.environ['TF_DETERMINISTIC_OPS'] = '1'"
   ],
   "metadata": {
    "collapsed": false,
    "pycharm": {
     "name": "#%%\n"
    }
   }
  },
  {
   "cell_type": "code",
   "execution_count": 633,
   "outputs": [],
   "source": [
    "# W, b 초기값 고정\n",
    "set_random_seed(42)"
   ],
   "metadata": {
    "collapsed": false,
    "pycharm": {
     "name": "#%%\n"
    }
   }
  },
  {
   "cell_type": "markdown",
   "source": [
    "### 모델 구상"
   ],
   "metadata": {
    "collapsed": false,
    "pycharm": {
     "name": "#%% md\n"
    }
   }
  },
  {
   "cell_type": "code",
   "execution_count": 634,
   "outputs": [
    {
     "name": "stdout",
     "output_type": "stream",
     "text": [
      "Model: \"sequential_107\"\n",
      "_________________________________________________________________\n",
      " Layer (type)                Output Shape              Param #   \n",
      "=================================================================\n",
      " dense_214 (Dense)           (None, 10)                30        \n",
      "                                                                 \n",
      " dense_215 (Dense)           (None, 1)                 11        \n",
      "                                                                 \n",
      "=================================================================\n",
      "Total params: 41\n",
      "Trainable params: 41\n",
      "Non-trainable params: 0\n",
      "_________________________________________________________________\n"
     ]
    }
   ],
   "source": [
    "model = models.Sequential()\n",
    "model.add(layers.Dense(10, activation='relu', input_shape=(2,)))\n",
    "model.add(layers.Dense(1, activation='linear'))\n",
    "model.summary()"
   ],
   "metadata": {
    "collapsed": false,
    "pycharm": {
     "name": "#%%\n"
    }
   }
  },
  {
   "cell_type": "code",
   "execution_count": 635,
   "outputs": [],
   "source": [
    "# 모델 속성 확인\n",
    "l1 = model.layers[0]"
   ],
   "metadata": {
    "collapsed": false,
    "pycharm": {
     "name": "#%%\n"
    }
   }
  },
  {
   "cell_type": "code",
   "execution_count": 636,
   "outputs": [
    {
     "data": {
      "text/plain": "[<tf.Variable 'dense_214/kernel:0' shape=(2, 10) dtype=float32, numpy=\n array([[ 0.50655586,  0.2299915 , -0.19981313,  0.6363813 , -0.5967117 ,\n          0.21543044,  0.66538733, -0.46964318,  0.03364313,  0.18492198],\n        [-0.58489287, -0.07586199,  0.65907115, -0.04194403,  0.00416678,\n          0.37570852, -0.6804772 , -0.4350391 ,  0.02014065, -0.613168  ]],\n       dtype=float32)>,\n <tf.Variable 'dense_214/bias:0' shape=(10,) dtype=float32, numpy=array([0., 0., 0., 0., 0., 0., 0., 0., 0., 0.], dtype=float32)>]"
     },
     "execution_count": 636,
     "metadata": {},
     "output_type": "execute_result"
    }
   ],
   "source": [
    "l1.weights"
   ],
   "metadata": {
    "collapsed": false,
    "pycharm": {
     "name": "#%%\n"
    }
   }
  },
  {
   "cell_type": "code",
   "execution_count": 636,
   "outputs": [],
   "source": [],
   "metadata": {
    "collapsed": false,
    "pycharm": {
     "name": "#%%\n"
    }
   }
  }
 ],
 "metadata": {
  "kernelspec": {
   "display_name": "Python 3",
   "language": "python",
   "name": "python3"
  },
  "language_info": {
   "codemirror_mode": {
    "name": "ipython",
    "version": 2
   },
   "file_extension": ".py",
   "mimetype": "text/x-python",
   "name": "python",
   "nbconvert_exporter": "python",
   "pygments_lexer": "ipython2",
   "version": "2.7.6"
  }
 },
 "nbformat": 4,
 "nbformat_minor": 0
}