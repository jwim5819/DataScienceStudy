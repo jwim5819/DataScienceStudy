{
 "cells": [
  {
   "cell_type": "markdown",
   "source": [
    "# AutoEncode 노이즈 제거\n",
    "---\n",
    "- 데이터의 노이즈 제거에 활용됨\n",
    "- 데이터에서 주요 특징만 추출/압축하기 때문에, 노이즈는 주요 특징에서 제거된다\n",
    "- 압축된 주요 특징으로 데이터 복원 => 노이즈 제거됨"
   ],
   "metadata": {
    "collapsed": false,
    "pycharm": {
     "name": "#%% md\n"
    }
   }
  },
  {
   "cell_type": "code",
   "execution_count": 78,
   "outputs": [],
   "source": [
    "from keras.datasets.mnist import load_data\n",
    "from keras import Sequential\n",
    "from keras.layers import Dense, Dropout, Flatten, Conv2D, MaxPool2D\n",
    "from keras.utils import set_random_seed, plot_model\n",
    "from keras.models import save_model, load_model\n",
    "from sklearn.model_selection import train_test_split\n",
    "import matplotlib.pyplot as plt\n",
    "import numpy as np\n",
    "import warnings\n",
    "\n",
    "warnings.filterwarnings('ignore')\n",
    "set_random_seed(42)"
   ],
   "metadata": {
    "collapsed": false,
    "pycharm": {
     "name": "#%%\n"
    }
   }
  },
  {
   "cell_type": "markdown",
   "source": [
    "# [1] 데이터 준비 및 로딩"
   ],
   "metadata": {
    "collapsed": false,
    "pycharm": {
     "name": "#%% md\n"
    }
   }
  },
  {
   "cell_type": "code",
   "execution_count": 79,
   "outputs": [
    {
     "data": {
      "text/plain": "((60000, 28, 28), (10000, 28, 28))"
     },
     "execution_count": 79,
     "metadata": {},
     "output_type": "execute_result"
    }
   ],
   "source": [
    "(x_train, y_train), (x_test, y_test) = load_data()\n",
    "x_train.shape, x_test.shape"
   ],
   "metadata": {
    "collapsed": false,
    "pycharm": {
     "name": "#%%\n"
    }
   }
  },
  {
   "cell_type": "code",
   "execution_count": 80,
   "outputs": [],
   "source": [
    "x_train = x_train / 255.0\n",
    "x_test = x_test / 255.5"
   ],
   "metadata": {
    "collapsed": false,
    "pycharm": {
     "name": "#%%\n"
    }
   }
  },
  {
   "cell_type": "code",
   "execution_count": 81,
   "outputs": [
    {
     "data": {
      "text/plain": "((60000, 784), (10000, 784))"
     },
     "execution_count": 81,
     "metadata": {},
     "output_type": "execute_result"
    }
   ],
   "source": [
    "x_train = x_train.reshape(-1, 784)\n",
    "x_test = x_test.reshape(-1, 784)\n",
    "x_train.shape, x_test.shape"
   ],
   "metadata": {
    "collapsed": false,
    "pycharm": {
     "name": "#%%\n"
    }
   }
  },
  {
   "cell_type": "markdown",
   "source": [
    "# [2] 데이터 전처리"
   ],
   "metadata": {
    "collapsed": false,
    "pycharm": {
     "name": "#%% md\n"
    }
   }
  },
  {
   "cell_type": "code",
   "execution_count": 82,
   "outputs": [],
   "source": [
    "# 데이터 셋에 노이즈 추가\n",
    "x_train_noised = x_train + np.random.normal(0, 0.5, size=x_train.shape)\n",
    "x_test_noised = x_test + np.random.normal(0, 0.5, size=x_test.shape)\n",
    "\n",
    "# 최소값, 최대값 범위지정(픽셀 범위 0.0 ~ 1.0 벗어나는 픽셀값 조정)\n",
    "x_train_noised = np.clip(x_train_noised, a_min=0, a_max=1)\n",
    "x_test_noised = np.clip(x_test_noised, a_min=0, a_max=1)"
   ],
   "metadata": {
    "collapsed": false,
    "pycharm": {
     "name": "#%%\n"
    }
   }
  },
  {
   "cell_type": "code",
   "execution_count": 83,
   "outputs": [
    {
     "data": {
      "text/plain": "<Figure size 640x480 with 1 Axes>",
      "image/png": "[encoded data removed]"
     },
     "metadata": {},
     "output_type": "display_data"
    },
    {
     "data": {
      "text/plain": "<Figure size 640x480 with 1 Axes>",
      "image/png": "[encoded data removed]"
     },
     "metadata": {},
     "output_type": "display_data"
    }
   ],
   "source": [
    "# 원본이미지 <=> 노이즈 추가 이미지 비교\n",
    "plt.imshow(x_train[0].reshape(28, 28), cmap='gray')\n",
    "plt.title('Original')\n",
    "plt.show()\n",
    "\n",
    "plt.imshow(x_train_noised[0].reshape(28, 28), cmap='gray')\n",
    "plt.title('Noise')\n",
    "plt.show()"
   ],
   "metadata": {
    "collapsed": false,
    "pycharm": {
     "name": "#%%\n"
    }
   }
  },
  {
   "cell_type": "code",
   "execution_count": 84,
   "outputs": [],
   "source": [
    "def model_create(model_name, layer_in):\n",
    "    model_name = Sequential(name=model_name)\n",
    "    model_name.add(Dense(layer_in, activation='relu', input_shape=(784,)))\n",
    "    model_name.add(Dense(784, activation='sigmoid'))\n",
    "    model_name.compile(loss='mean_squared_error',\n",
    "                       metrics='accuracy',\n",
    "                       optimizer='adam')\n",
    "    return model_name"
   ],
   "metadata": {
    "collapsed": false,
    "pycharm": {
     "name": "#%%\n"
    }
   }
  },
  {
   "cell_type": "code",
   "execution_count": 85,
   "outputs": [],
   "source": [
    "model_4 = model_create('model_3', 500)"
   ],
   "metadata": {
    "collapsed": false,
    "pycharm": {
     "name": "#%%\n"
    }
   }
  },
  {
   "cell_type": "code",
   "execution_count": 86,
   "outputs": [],
   "source": [
    "# model_4.fit(x_train_noised, x_train, epochs=10)"
   ],
   "metadata": {
    "collapsed": false,
    "pycharm": {
     "name": "#%%\n"
    }
   }
  },
  {
   "cell_type": "code",
   "execution_count": 87,
   "outputs": [],
   "source": [
    "# pre_out = model_4.predict(x_train_noised[0].reshape(-1, 784))"
   ],
   "metadata": {
    "collapsed": false,
    "pycharm": {
     "name": "#%%\n"
    }
   }
  },
  {
   "cell_type": "code",
   "execution_count": 88,
   "outputs": [],
   "source": [
    "# plt.imshow(x_train_noised[0].reshape(28, 28), cmap='gray')\n",
    "# plt.title('Noise')\n",
    "# plt.show()\n",
    "#\n",
    "# plt.imshow(pre_out.reshape(28, 28), cmap='gray')\n",
    "# plt.title('Encoded')\n",
    "# plt.show()"
   ],
   "metadata": {
    "collapsed": false,
    "pycharm": {
     "name": "#%%\n"
    }
   }
  },
  {
   "cell_type": "markdown",
   "source": [
    "# CNN을 사용하여 노이즈 제거"
   ],
   "metadata": {
    "collapsed": false,
    "pycharm": {
     "name": "#%% md\n"
    }
   },
   "execution_count": 55
  },
  {
   "cell_type": "code",
   "execution_count": 207,
   "outputs": [],
   "source": [
    "def cnn_model_create(model_name, layer_input):\n",
    "    model = Sequential()\n",
    "    model.add(Conv2D(layer_input,\n",
    "                     kernel_size=3,\n",
    "                     strides=(1, 1),\n",
    "                     padding='same',\n",
    "                     activation='relu',\n",
    "                     input_shape=(28, 28, 1)))\n",
    "    # model.add(MaxPool2D())\n",
    "    # model.add(Flatten())\n",
    "    model.add(Conv2D(1,\n",
    "                     kernel_size=3,\n",
    "                     strides=(1, 1),\n",
    "                     padding='same',\n",
    "                     activation='relu'))\n",
    "    model.compile(loss='binary_crossentropy',\n",
    "                  metrics='accuracy',\n",
    "                  optimizer='adam')\n",
    "    return model"
   ],
   "metadata": {
    "collapsed": false,
    "pycharm": {
     "name": "#%%\n"
    }
   }
  },
  {
   "cell_type": "code",
   "execution_count": 208,
   "outputs": [],
   "source": [
    "model_cnn = cnn_model_create('model_cnn', 10)\n",
    "x_train_noised = x_train_noised.reshape(-1, 28, 28, 1)\n",
    "x_train = x_train.reshape(-1, 28, 28, 1)"
   ],
   "metadata": {
    "collapsed": false,
    "pycharm": {
     "name": "#%%\n"
    }
   }
  },
  {
   "cell_type": "code",
   "execution_count": 209,
   "outputs": [
    {
     "name": "stdout",
     "output_type": "stream",
     "text": [
      "1875/1875 [==============================] - 14s 7ms/step - loss: 0.1469 - accuracy: 0.8123\n"
     ]
    },
    {
     "data": {
      "text/plain": "<keras.callbacks.History at 0x14408d46488>"
     },
     "execution_count": 209,
     "metadata": {},
     "output_type": "execute_result"
    }
   ],
   "source": [
    "model_cnn.fit(x_train_noised, x_train, epochs=1)"
   ],
   "metadata": {
    "collapsed": false,
    "pycharm": {
     "name": "#%%\n"
    }
   }
  },
  {
   "cell_type": "code",
   "execution_count": 210,
   "outputs": [
    {
     "name": "stdout",
     "output_type": "stream",
     "text": [
      "1/1 [==============================] - 0s 38ms/step\n"
     ]
    }
   ],
   "source": [
    "pre_out = model_cnn.predict(x_train_noised[0].reshape(-1, 28, 28, 1))"
   ],
   "metadata": {
    "collapsed": false,
    "pycharm": {
     "name": "#%%\n"
    }
   }
  },
  {
   "cell_type": "code",
   "execution_count": 211,
   "outputs": [
    {
     "data": {
      "text/plain": "<Figure size 640x480 with 1 Axes>",
      "image/png": "[encoded data removed]"
     },
     "metadata": {},
     "output_type": "display_data"
    },
    {
     "data": {
      "text/plain": "<Figure size 640x480 with 1 Axes>",
      "image/png": "[encoded data removed]"
     },
     "metadata": {},
     "output_type": "display_data"
    }
   ],
   "source": [
    "plt.imshow(x_train_noised[0], cmap='gray')\n",
    "plt.title('Noise')\n",
    "plt.show()\n",
    "\n",
    "plt.imshow(pre_out.reshape(28, 28), cmap='gray')\n",
    "plt.title('Encoded')\n",
    "plt.show()"
   ],
   "metadata": {
    "collapsed": false,
    "pycharm": {
     "name": "#%%\n"
    }
   }
  },
  {
   "cell_type": "code",
   "execution_count": 204,
   "outputs": [],
   "source": [],
   "metadata": {
    "collapsed": false,
    "pycharm": {
     "name": "#%%\n"
    }
   }
  },
  {
   "cell_type": "code",
   "execution_count": null,
   "outputs": [],
   "source": [],
   "metadata": {
    "collapsed": false,
    "pycharm": {
     "name": "#%%\n"
    }
   }
  }
 ],
 "metadata": {
  "kernelspec": {
   "display_name": "Python 3",
   "language": "python",
   "name": "python3"
  },
  "language_info": {
   "codemirror_mode": {
    "name": "ipython",
    "version": 2
   },
   "file_extension": ".py",
   "mimetype": "text/x-python",
   "name": "python",
   "nbconvert_exporter": "python",
   "pygments_lexer": "ipython2",
   "version": "2.7.6"
  }
 },
 "nbformat": 4,
 "nbformat_minor": 0
}