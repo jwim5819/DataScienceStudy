{
 "cells": [
  {
   "cell_type": "code",
   "execution_count": 4,
   "metadata": {
    "collapsed": true,
    "pycharm": {
     "name": "#%%\n"
    }
   },
   "outputs": [],
   "source": [
    "# 모듈 로딩\n",
    "from sklearn.decomposition import PCA\n",
    "import matplotlib.pyplot as plt\n",
    "import numpy as np\n",
    "import pandas as pd\n",
    "from sklearn.preprocessing import RobustScaler\n",
    "from keras import layers, models, Sequential\n",
    "from keras.layers import Dense\n",
    "from sklearn.model_selection import train_test_split, RandomizedSearchCV\n",
    "from scikeras.wrappers import KerasClassifier"
   ]
  },
  {
   "cell_type": "markdown",
   "source": [],
   "metadata": {
    "collapsed": false,
    "pycharm": {
     "name": "#%% md\n"
    }
   }
  },
  {
   "cell_type": "code",
   "execution_count": 5,
   "outputs": [],
   "source": [
    "data = pd.read_csv(r'./data/default of credit card clients.csv', header=1, encoding='cp949')"
   ],
   "metadata": {
    "collapsed": false,
    "pycharm": {
     "name": "#%%\n"
    }
   }
  },
  {
   "cell_type": "code",
   "execution_count": 6,
   "outputs": [
    {
     "data": {
      "text/plain": "       LIMIT_BAL  SEX  EDUCATION  MARRIAGE  AGE  PAY_0  PAY_2  PAY_3  PAY_4  \\\n0          20000    2          2         1   24      2      2     -1     -1   \n1         120000    2          2         2   26     -1      2      0      0   \n2          90000    2          2         2   34      0      0      0      0   \n3          50000    2          2         1   37      0      0      0      0   \n4          50000    1          2         1   57     -1      0     -1      0   \n...          ...  ...        ...       ...  ...    ...    ...    ...    ...   \n29995     220000    1          3         1   39      0      0      0      0   \n29996     150000    1          3         2   43     -1     -1     -1     -1   \n29997      30000    1          2         2   37      4      3      2     -1   \n29998      80000    1          3         1   41      1     -1      0      0   \n29999      50000    1          2         1   46      0      0      0      0   \n\n       PAY_5  ...  BILL_AMT4  BILL_AMT5  BILL_AMT6  PAY_AMT1  PAY_AMT2  \\\n0         -2  ...          0          0          0         0       689   \n1          0  ...       3272       3455       3261         0      1000   \n2          0  ...      14331      14948      15549      1518      1500   \n3          0  ...      28314      28959      29547      2000      2019   \n4          0  ...      20940      19146      19131      2000     36681   \n...      ...  ...        ...        ...        ...       ...       ...   \n29995      0  ...      88004      31237      15980      8500     20000   \n29996      0  ...       8979       5190          0      1837      3526   \n29997      0  ...      20878      20582      19357         0         0   \n29998      0  ...      52774      11855      48944     85900      3409   \n29999      0  ...      36535      32428      15313      2078      1800   \n\n       PAY_AMT3  PAY_AMT4  PAY_AMT5  PAY_AMT6  default payment next month  \n0             0         0         0         0                           1  \n1          1000      1000         0      2000                           1  \n2          1000      1000      1000      5000                           0  \n3          1200      1100      1069      1000                           0  \n4         10000      9000       689       679                           0  \n...         ...       ...       ...       ...                         ...  \n29995      5003      3047      5000      1000                           0  \n29996      8998       129         0         0                           0  \n29997     22000      4200      2000      3100                           1  \n29998      1178      1926     52964      1804                           1  \n29999      1430      1000      1000      1000                           1  \n\n[30000 rows x 24 columns]",
      "text/html": "<div>\n<style scoped>\n    .dataframe tbody tr th:only-of-type {\n        vertical-align: middle;\n    }\n\n    .dataframe tbody tr th {\n        vertical-align: top;\n    }\n\n    .dataframe thead th {\n        text-align: right;\n    }\n</style>\n<table border=\"1\" class=\"dataframe\">\n  <thead>\n    <tr style=\"text-align: right;\">\n      <th></th>\n      <th>LIMIT_BAL</th>\n      <th>SEX</th>\n      <th>EDUCATION</th>\n      <th>MARRIAGE</th>\n      <th>AGE</th>\n      <th>PAY_0</th>\n      <th>PAY_2</th>\n      <th>PAY_3</th>\n      <th>PAY_4</th>\n      <th>PAY_5</th>\n      <th>...</th>\n      <th>BILL_AMT4</th>\n      <th>BILL_AMT5</th>\n      <th>BILL_AMT6</th>\n      <th>PAY_AMT1</th>\n      <th>PAY_AMT2</th>\n      <th>PAY_AMT3</th>\n      <th>PAY_AMT4</th>\n      <th>PAY_AMT5</th>\n      <th>PAY_AMT6</th>\n      <th>default payment next month</th>\n    </tr>\n  </thead>\n  <tbody>\n    <tr>\n      <th>0</th>\n      <td>20000</td>\n      <td>2</td>\n      <td>2</td>\n      <td>1</td>\n      <td>24</td>\n      <td>2</td>\n      <td>2</td>\n      <td>-1</td>\n      <td>-1</td>\n      <td>-2</td>\n      <td>...</td>\n      <td>0</td>\n      <td>0</td>\n      <td>0</td>\n      <td>0</td>\n      <td>689</td>\n      <td>0</td>\n      <td>0</td>\n      <td>0</td>\n      <td>0</td>\n      <td>1</td>\n    </tr>\n    <tr>\n      <th>1</th>\n      <td>120000</td>\n      <td>2</td>\n      <td>2</td>\n      <td>2</td>\n      <td>26</td>\n      <td>-1</td>\n      <td>2</td>\n      <td>0</td>\n      <td>0</td>\n      <td>0</td>\n      <td>...</td>\n      <td>3272</td>\n      <td>3455</td>\n      <td>3261</td>\n      <td>0</td>\n      <td>1000</td>\n      <td>1000</td>\n      <td>1000</td>\n      <td>0</td>\n      <td>2000</td>\n      <td>1</td>\n    </tr>\n    <tr>\n      <th>2</th>\n      <td>90000</td>\n      <td>2</td>\n      <td>2</td>\n      <td>2</td>\n      <td>34</td>\n      <td>0</td>\n      <td>0</td>\n      <td>0</td>\n      <td>0</td>\n      <td>0</td>\n      <td>...</td>\n      <td>14331</td>\n      <td>14948</td>\n      <td>15549</td>\n      <td>1518</td>\n      <td>1500</td>\n      <td>1000</td>\n      <td>1000</td>\n      <td>1000</td>\n      <td>5000</td>\n      <td>0</td>\n    </tr>\n    <tr>\n      <th>3</th>\n      <td>50000</td>\n      <td>2</td>\n      <td>2</td>\n      <td>1</td>\n      <td>37</td>\n      <td>0</td>\n      <td>0</td>\n      <td>0</td>\n      <td>0</td>\n      <td>0</td>\n      <td>...</td>\n      <td>28314</td>\n      <td>28959</td>\n      <td>29547</td>\n      <td>2000</td>\n      <td>2019</td>\n      <td>1200</td>\n      <td>1100</td>\n      <td>1069</td>\n      <td>1000</td>\n      <td>0</td>\n    </tr>\n    <tr>\n      <th>4</th>\n      <td>50000</td>\n      <td>1</td>\n      <td>2</td>\n      <td>1</td>\n      <td>57</td>\n      <td>-1</td>\n      <td>0</td>\n      <td>-1</td>\n      <td>0</td>\n      <td>0</td>\n      <td>...</td>\n      <td>20940</td>\n      <td>19146</td>\n      <td>19131</td>\n      <td>2000</td>\n      <td>36681</td>\n      <td>10000</td>\n      <td>9000</td>\n      <td>689</td>\n      <td>679</td>\n      <td>0</td>\n    </tr>\n    <tr>\n      <th>...</th>\n      <td>...</td>\n      <td>...</td>\n      <td>...</td>\n      <td>...</td>\n      <td>...</td>\n      <td>...</td>\n      <td>...</td>\n      <td>...</td>\n      <td>...</td>\n      <td>...</td>\n      <td>...</td>\n      <td>...</td>\n      <td>...</td>\n      <td>...</td>\n      <td>...</td>\n      <td>...</td>\n      <td>...</td>\n      <td>...</td>\n      <td>...</td>\n      <td>...</td>\n      <td>...</td>\n    </tr>\n    <tr>\n      <th>29995</th>\n      <td>220000</td>\n      <td>1</td>\n      <td>3</td>\n      <td>1</td>\n      <td>39</td>\n      <td>0</td>\n      <td>0</td>\n      <td>0</td>\n      <td>0</td>\n      <td>0</td>\n      <td>...</td>\n      <td>88004</td>\n      <td>31237</td>\n      <td>15980</td>\n      <td>8500</td>\n      <td>20000</td>\n      <td>5003</td>\n      <td>3047</td>\n      <td>5000</td>\n      <td>1000</td>\n      <td>0</td>\n    </tr>\n    <tr>\n      <th>29996</th>\n      <td>150000</td>\n      <td>1</td>\n      <td>3</td>\n      <td>2</td>\n      <td>43</td>\n      <td>-1</td>\n      <td>-1</td>\n      <td>-1</td>\n      <td>-1</td>\n      <td>0</td>\n      <td>...</td>\n      <td>8979</td>\n      <td>5190</td>\n      <td>0</td>\n      <td>1837</td>\n      <td>3526</td>\n      <td>8998</td>\n      <td>129</td>\n      <td>0</td>\n      <td>0</td>\n      <td>0</td>\n    </tr>\n    <tr>\n      <th>29997</th>\n      <td>30000</td>\n      <td>1</td>\n      <td>2</td>\n      <td>2</td>\n      <td>37</td>\n      <td>4</td>\n      <td>3</td>\n      <td>2</td>\n      <td>-1</td>\n      <td>0</td>\n      <td>...</td>\n      <td>20878</td>\n      <td>20582</td>\n      <td>19357</td>\n      <td>0</td>\n      <td>0</td>\n      <td>22000</td>\n      <td>4200</td>\n      <td>2000</td>\n      <td>3100</td>\n      <td>1</td>\n    </tr>\n    <tr>\n      <th>29998</th>\n      <td>80000</td>\n      <td>1</td>\n      <td>3</td>\n      <td>1</td>\n      <td>41</td>\n      <td>1</td>\n      <td>-1</td>\n      <td>0</td>\n      <td>0</td>\n      <td>0</td>\n      <td>...</td>\n      <td>52774</td>\n      <td>11855</td>\n      <td>48944</td>\n      <td>85900</td>\n      <td>3409</td>\n      <td>1178</td>\n      <td>1926</td>\n      <td>52964</td>\n      <td>1804</td>\n      <td>1</td>\n    </tr>\n    <tr>\n      <th>29999</th>\n      <td>50000</td>\n      <td>1</td>\n      <td>2</td>\n      <td>1</td>\n      <td>46</td>\n      <td>0</td>\n      <td>0</td>\n      <td>0</td>\n      <td>0</td>\n      <td>0</td>\n      <td>...</td>\n      <td>36535</td>\n      <td>32428</td>\n      <td>15313</td>\n      <td>2078</td>\n      <td>1800</td>\n      <td>1430</td>\n      <td>1000</td>\n      <td>1000</td>\n      <td>1000</td>\n      <td>1</td>\n    </tr>\n  </tbody>\n</table>\n<p>30000 rows × 24 columns</p>\n</div>"
     },
     "execution_count": 6,
     "metadata": {},
     "output_type": "execute_result"
    }
   ],
   "source": [
    "data"
   ],
   "metadata": {
    "collapsed": false,
    "pycharm": {
     "name": "#%%\n"
    }
   }
  },
  {
   "cell_type": "code",
   "execution_count": 7,
   "outputs": [],
   "source": [
    "input_data = data.iloc[:, :-1]\n",
    "target_data = data.iloc[:, -1]"
   ],
   "metadata": {
    "collapsed": false,
    "pycharm": {
     "name": "#%%\n"
    }
   }
  },
  {
   "cell_type": "code",
   "execution_count": 8,
   "outputs": [
    {
     "data": {
      "text/plain": "       LIMIT_BAL  SEX  EDUCATION  MARRIAGE  AGE  PAY_0  PAY_2  PAY_3  PAY_4  \\\n0          20000    2          2         1   24      2      2     -1     -1   \n1         120000    2          2         2   26     -1      2      0      0   \n2          90000    2          2         2   34      0      0      0      0   \n3          50000    2          2         1   37      0      0      0      0   \n4          50000    1          2         1   57     -1      0     -1      0   \n...          ...  ...        ...       ...  ...    ...    ...    ...    ...   \n29995     220000    1          3         1   39      0      0      0      0   \n29996     150000    1          3         2   43     -1     -1     -1     -1   \n29997      30000    1          2         2   37      4      3      2     -1   \n29998      80000    1          3         1   41      1     -1      0      0   \n29999      50000    1          2         1   46      0      0      0      0   \n\n       PAY_5  ...  BILL_AMT3  BILL_AMT4  BILL_AMT5  BILL_AMT6  PAY_AMT1  \\\n0         -2  ...        689          0          0          0         0   \n1          0  ...       2682       3272       3455       3261         0   \n2          0  ...      13559      14331      14948      15549      1518   \n3          0  ...      49291      28314      28959      29547      2000   \n4          0  ...      35835      20940      19146      19131      2000   \n...      ...  ...        ...        ...        ...        ...       ...   \n29995      0  ...     208365      88004      31237      15980      8500   \n29996      0  ...       3502       8979       5190          0      1837   \n29997      0  ...       2758      20878      20582      19357         0   \n29998      0  ...      76304      52774      11855      48944     85900   \n29999      0  ...      49764      36535      32428      15313      2078   \n\n       PAY_AMT2  PAY_AMT3  PAY_AMT4  PAY_AMT5  PAY_AMT6  \n0           689         0         0         0         0  \n1          1000      1000      1000         0      2000  \n2          1500      1000      1000      1000      5000  \n3          2019      1200      1100      1069      1000  \n4         36681     10000      9000       689       679  \n...         ...       ...       ...       ...       ...  \n29995     20000      5003      3047      5000      1000  \n29996      3526      8998       129         0         0  \n29997         0     22000      4200      2000      3100  \n29998      3409      1178      1926     52964      1804  \n29999      1800      1430      1000      1000      1000  \n\n[30000 rows x 23 columns]",
      "text/html": "<div>\n<style scoped>\n    .dataframe tbody tr th:only-of-type {\n        vertical-align: middle;\n    }\n\n    .dataframe tbody tr th {\n        vertical-align: top;\n    }\n\n    .dataframe thead th {\n        text-align: right;\n    }\n</style>\n<table border=\"1\" class=\"dataframe\">\n  <thead>\n    <tr style=\"text-align: right;\">\n      <th></th>\n      <th>LIMIT_BAL</th>\n      <th>SEX</th>\n      <th>EDUCATION</th>\n      <th>MARRIAGE</th>\n      <th>AGE</th>\n      <th>PAY_0</th>\n      <th>PAY_2</th>\n      <th>PAY_3</th>\n      <th>PAY_4</th>\n      <th>PAY_5</th>\n      <th>...</th>\n      <th>BILL_AMT3</th>\n      <th>BILL_AMT4</th>\n      <th>BILL_AMT5</th>\n      <th>BILL_AMT6</th>\n      <th>PAY_AMT1</th>\n      <th>PAY_AMT2</th>\n      <th>PAY_AMT3</th>\n      <th>PAY_AMT4</th>\n      <th>PAY_AMT5</th>\n      <th>PAY_AMT6</th>\n    </tr>\n  </thead>\n  <tbody>\n    <tr>\n      <th>0</th>\n      <td>20000</td>\n      <td>2</td>\n      <td>2</td>\n      <td>1</td>\n      <td>24</td>\n      <td>2</td>\n      <td>2</td>\n      <td>-1</td>\n      <td>-1</td>\n      <td>-2</td>\n      <td>...</td>\n      <td>689</td>\n      <td>0</td>\n      <td>0</td>\n      <td>0</td>\n      <td>0</td>\n      <td>689</td>\n      <td>0</td>\n      <td>0</td>\n      <td>0</td>\n      <td>0</td>\n    </tr>\n    <tr>\n      <th>1</th>\n      <td>120000</td>\n      <td>2</td>\n      <td>2</td>\n      <td>2</td>\n      <td>26</td>\n      <td>-1</td>\n      <td>2</td>\n      <td>0</td>\n      <td>0</td>\n      <td>0</td>\n      <td>...</td>\n      <td>2682</td>\n      <td>3272</td>\n      <td>3455</td>\n      <td>3261</td>\n      <td>0</td>\n      <td>1000</td>\n      <td>1000</td>\n      <td>1000</td>\n      <td>0</td>\n      <td>2000</td>\n    </tr>\n    <tr>\n      <th>2</th>\n      <td>90000</td>\n      <td>2</td>\n      <td>2</td>\n      <td>2</td>\n      <td>34</td>\n      <td>0</td>\n      <td>0</td>\n      <td>0</td>\n      <td>0</td>\n      <td>0</td>\n      <td>...</td>\n      <td>13559</td>\n      <td>14331</td>\n      <td>14948</td>\n      <td>15549</td>\n      <td>1518</td>\n      <td>1500</td>\n      <td>1000</td>\n      <td>1000</td>\n      <td>1000</td>\n      <td>5000</td>\n    </tr>\n    <tr>\n      <th>3</th>\n      <td>50000</td>\n      <td>2</td>\n      <td>2</td>\n      <td>1</td>\n      <td>37</td>\n      <td>0</td>\n      <td>0</td>\n      <td>0</td>\n      <td>0</td>\n      <td>0</td>\n      <td>...</td>\n      <td>49291</td>\n      <td>28314</td>\n      <td>28959</td>\n      <td>29547</td>\n      <td>2000</td>\n      <td>2019</td>\n      <td>1200</td>\n      <td>1100</td>\n      <td>1069</td>\n      <td>1000</td>\n    </tr>\n    <tr>\n      <th>4</th>\n      <td>50000</td>\n      <td>1</td>\n      <td>2</td>\n      <td>1</td>\n      <td>57</td>\n      <td>-1</td>\n      <td>0</td>\n      <td>-1</td>\n      <td>0</td>\n      <td>0</td>\n      <td>...</td>\n      <td>35835</td>\n      <td>20940</td>\n      <td>19146</td>\n      <td>19131</td>\n      <td>2000</td>\n      <td>36681</td>\n      <td>10000</td>\n      <td>9000</td>\n      <td>689</td>\n      <td>679</td>\n    </tr>\n    <tr>\n      <th>...</th>\n      <td>...</td>\n      <td>...</td>\n      <td>...</td>\n      <td>...</td>\n      <td>...</td>\n      <td>...</td>\n      <td>...</td>\n      <td>...</td>\n      <td>...</td>\n      <td>...</td>\n      <td>...</td>\n      <td>...</td>\n      <td>...</td>\n      <td>...</td>\n      <td>...</td>\n      <td>...</td>\n      <td>...</td>\n      <td>...</td>\n      <td>...</td>\n      <td>...</td>\n      <td>...</td>\n    </tr>\n    <tr>\n      <th>29995</th>\n      <td>220000</td>\n      <td>1</td>\n      <td>3</td>\n      <td>1</td>\n      <td>39</td>\n      <td>0</td>\n      <td>0</td>\n      <td>0</td>\n      <td>0</td>\n      <td>0</td>\n      <td>...</td>\n      <td>208365</td>\n      <td>88004</td>\n      <td>31237</td>\n      <td>15980</td>\n      <td>8500</td>\n      <td>20000</td>\n      <td>5003</td>\n      <td>3047</td>\n      <td>5000</td>\n      <td>1000</td>\n    </tr>\n    <tr>\n      <th>29996</th>\n      <td>150000</td>\n      <td>1</td>\n      <td>3</td>\n      <td>2</td>\n      <td>43</td>\n      <td>-1</td>\n      <td>-1</td>\n      <td>-1</td>\n      <td>-1</td>\n      <td>0</td>\n      <td>...</td>\n      <td>3502</td>\n      <td>8979</td>\n      <td>5190</td>\n      <td>0</td>\n      <td>1837</td>\n      <td>3526</td>\n      <td>8998</td>\n      <td>129</td>\n      <td>0</td>\n      <td>0</td>\n    </tr>\n    <tr>\n      <th>29997</th>\n      <td>30000</td>\n      <td>1</td>\n      <td>2</td>\n      <td>2</td>\n      <td>37</td>\n      <td>4</td>\n      <td>3</td>\n      <td>2</td>\n      <td>-1</td>\n      <td>0</td>\n      <td>...</td>\n      <td>2758</td>\n      <td>20878</td>\n      <td>20582</td>\n      <td>19357</td>\n      <td>0</td>\n      <td>0</td>\n      <td>22000</td>\n      <td>4200</td>\n      <td>2000</td>\n      <td>3100</td>\n    </tr>\n    <tr>\n      <th>29998</th>\n      <td>80000</td>\n      <td>1</td>\n      <td>3</td>\n      <td>1</td>\n      <td>41</td>\n      <td>1</td>\n      <td>-1</td>\n      <td>0</td>\n      <td>0</td>\n      <td>0</td>\n      <td>...</td>\n      <td>76304</td>\n      <td>52774</td>\n      <td>11855</td>\n      <td>48944</td>\n      <td>85900</td>\n      <td>3409</td>\n      <td>1178</td>\n      <td>1926</td>\n      <td>52964</td>\n      <td>1804</td>\n    </tr>\n    <tr>\n      <th>29999</th>\n      <td>50000</td>\n      <td>1</td>\n      <td>2</td>\n      <td>1</td>\n      <td>46</td>\n      <td>0</td>\n      <td>0</td>\n      <td>0</td>\n      <td>0</td>\n      <td>0</td>\n      <td>...</td>\n      <td>49764</td>\n      <td>36535</td>\n      <td>32428</td>\n      <td>15313</td>\n      <td>2078</td>\n      <td>1800</td>\n      <td>1430</td>\n      <td>1000</td>\n      <td>1000</td>\n      <td>1000</td>\n    </tr>\n  </tbody>\n</table>\n<p>30000 rows × 23 columns</p>\n</div>"
     },
     "execution_count": 8,
     "metadata": {},
     "output_type": "execute_result"
    }
   ],
   "source": [
    "input_data"
   ],
   "metadata": {
    "collapsed": false,
    "pycharm": {
     "name": "#%%\n"
    }
   }
  },
  {
   "cell_type": "code",
   "execution_count": 9,
   "outputs": [
    {
     "data": {
      "text/plain": "((30000, 23), (30000,))"
     },
     "execution_count": 9,
     "metadata": {},
     "output_type": "execute_result"
    }
   ],
   "source": [
    "input_data.shape, target_data.shape"
   ],
   "metadata": {
    "collapsed": false,
    "pycharm": {
     "name": "#%%\n"
    }
   }
  },
  {
   "cell_type": "code",
   "execution_count": 10,
   "outputs": [
    {
     "data": {
      "text/plain": "array([[-0.63157895,  0.        ,  0.        , ..., -0.40352411,\n        -0.3969304 , -0.38637388],\n       [-0.10526316,  0.        ,  0.        , ..., -0.13450804,\n        -0.3969304 ,  0.12879129],\n       [-0.26315789,  0.        ,  0.        , ..., -0.13450804,\n        -0.13231013,  0.90153906],\n       ...,\n       [-0.57894737, -1.        ,  0.        , ...,  0.7263434 ,\n         0.13231013,  0.41213214],\n       [-0.31578947, -1.        ,  1.        , ...,  0.11460085,\n        13.61841757,  0.07830511],\n       [-0.47368421, -1.        ,  0.        , ..., -0.13450804,\n        -0.13231013, -0.12879129]])"
     },
     "execution_count": 10,
     "metadata": {},
     "output_type": "execute_result"
    }
   ],
   "source": [
    "scaler = RobustScaler()\n",
    "scaler.fit(input_data)\n",
    "scaler.transform(input_data)"
   ],
   "metadata": {
    "collapsed": false,
    "pycharm": {
     "name": "#%%\n"
    }
   }
  },
  {
   "cell_type": "code",
   "execution_count": 11,
   "outputs": [],
   "source": [
    "# 98% 비율로 PCA\n",
    "pca = PCA(n_components=0.95)\n",
    "pca.fit(input_data)\n",
    "input_data_pca = pca.transform(input_data)"
   ],
   "metadata": {
    "collapsed": false,
    "pycharm": {
     "name": "#%%\n"
    }
   }
  },
  {
   "cell_type": "code",
   "execution_count": 12,
   "outputs": [
    {
     "name": "stdout",
     "output_type": "stream",
     "text": [
      "[28841272.56474187 20061586.76098584  6449352.00486274  4802909.6414056 ]\n",
      "[2.77282244e+10 1.34160226e+10 1.38651759e+09 7.68956999e+08]\n",
      "[0.61043701 0.29535381 0.03052419 0.01692859]\n",
      "4\n",
      "0.95\n"
     ]
    }
   ],
   "source": [
    "# PCA 데이터 확인\n",
    "print(pca.singular_values_)\n",
    "print(pca.explained_variance_)\n",
    "print(pca.explained_variance_ratio_)\n",
    "print(pca.n_components_)\n",
    "print(pca.n_components)"
   ],
   "metadata": {
    "collapsed": false,
    "pycharm": {
     "name": "#%%\n"
    }
   }
  },
  {
   "cell_type": "code",
   "execution_count": 13,
   "outputs": [
    {
     "data": {
      "text/plain": "<Figure size 640x480 with 1 Axes>",
      "image/png": "[encoded data removed]"
     },
     "metadata": {},
     "output_type": "display_data"
    }
   ],
   "source": [
    "# 주성분과 데이터 투영 분산 정도 시각화\n",
    "pca_temp = PCA()\n",
    "pca_temp.fit(input_data)\n",
    "cumsum = np.cumsum(pca_temp.explained_variance_ratio_)\n",
    "dim = np.argmax(cumsum >= 0.95) + 1\n",
    "\n",
    "plt.plot(cumsum, 'b-')\n",
    "plt.plot(dim, 0.95, 'ro', ms=7)\n",
    "plt.plot([4.0, 4.0], [0, 0.95], 'k--')\n",
    "plt.plot([0, 4.0], [0.95, 0.95], 'k--')\n",
    "plt.axis([0, 23, 0, 1])\n",
    "plt.xlabel('Dimension')\n",
    "plt.ylabel('Explained Variance')\n",
    "plt.show()"
   ],
   "metadata": {
    "collapsed": false,
    "pycharm": {
     "name": "#%%\n"
    }
   }
  },
  {
   "cell_type": "code",
   "execution_count": 14,
   "outputs": [
    {
     "name": "stdout",
     "output_type": "stream",
     "text": [
      "PCA 진행 전 Shape : (30000, 23)\n",
      "PCA 진행 후 Shape : (30000, 4)\n",
      "23차원 => 8차원으로 축소됨\n"
     ]
    }
   ],
   "source": [
    "print(f'PCA 진행 전 Shape : {input_data.shape}')\n",
    "print(f'PCA 진행 후 Shape : {input_data_pca.shape}')\n",
    "print(f'23차원 => 8차원으로 축소됨')"
   ],
   "metadata": {
    "collapsed": false,
    "pycharm": {
     "name": "#%%\n"
    }
   }
  },
  {
   "cell_type": "code",
   "execution_count": 15,
   "outputs": [],
   "source": [
    "input_data_pca = pd.DataFrame(input_data_pca)"
   ],
   "metadata": {
    "collapsed": false,
    "pycharm": {
     "name": "#%%\n"
    }
   }
  },
  {
   "cell_type": "markdown",
   "source": [],
   "metadata": {
    "collapsed": false,
    "pycharm": {
     "name": "#%% md\n"
    }
   }
  },
  {
   "cell_type": "code",
   "execution_count": 16,
   "outputs": [],
   "source": [
    "data = pd.concat((input_data_pca, target_data), axis=1)"
   ],
   "metadata": {
    "collapsed": false,
    "pycharm": {
     "name": "#%%\n"
    }
   }
  },
  {
   "cell_type": "code",
   "execution_count": 17,
   "outputs": [],
   "source": [
    "x_train, x_test, y_train, y_test = train_test_split(input_data_pca, target_data,\n",
    "                                                    test_size=0.2,\n",
    "                                                    random_state=42)"
   ],
   "metadata": {
    "collapsed": false,
    "pycharm": {
     "name": "#%%\n"
    }
   }
  },
  {
   "cell_type": "code",
   "execution_count": 18,
   "outputs": [],
   "source": [
    "model = Sequential()"
   ],
   "metadata": {
    "collapsed": false,
    "pycharm": {
     "name": "#%%\n"
    }
   }
  },
  {
   "cell_type": "code",
   "execution_count": 19,
   "outputs": [],
   "source": [
    "model.add(Dense(100, activation='relu', input_shape=(4,)))\n",
    "model.add(Dense(100, activation='relu'))\n",
    "model.add(Dense(100, activation='relu'))\n",
    "model.add(Dense(100, activation='relu'))\n",
    "model.add(Dense(1, activation='sigmoid'))"
   ],
   "metadata": {
    "collapsed": false,
    "pycharm": {
     "name": "#%%\n"
    }
   }
  },
  {
   "cell_type": "code",
   "execution_count": 20,
   "outputs": [],
   "source": [
    "model.compile(loss='categorical_crossentropy',\n",
    "              metrics='accuracy',\n",
    "              optimizer='Adam')"
   ],
   "metadata": {
    "collapsed": false,
    "pycharm": {
     "name": "#%%\n"
    }
   }
  },
  {
   "cell_type": "code",
   "execution_count": 21,
   "outputs": [
    {
     "name": "stdout",
     "output_type": "stream",
     "text": [
      "Epoch 1/30\n",
      "240/240 [==============================] - 1s 3ms/step - loss: 0.0000e+00 - accuracy: 0.7782 - val_loss: 0.0000e+00 - val_accuracy: 0.7812\n",
      "Epoch 2/30\n",
      "240/240 [==============================] - 0s 2ms/step - loss: 0.0000e+00 - accuracy: 0.7782 - val_loss: 0.0000e+00 - val_accuracy: 0.7812\n",
      "Epoch 3/30\n",
      "240/240 [==============================] - 0s 2ms/step - loss: 0.0000e+00 - accuracy: 0.7782 - val_loss: 0.0000e+00 - val_accuracy: 0.7812\n",
      "Epoch 4/30\n",
      "240/240 [==============================] - 0s 2ms/step - loss: 0.0000e+00 - accuracy: 0.7782 - val_loss: 0.0000e+00 - val_accuracy: 0.7812\n",
      "Epoch 5/30\n",
      "240/240 [==============================] - 0s 2ms/step - loss: 0.0000e+00 - accuracy: 0.7782 - val_loss: 0.0000e+00 - val_accuracy: 0.7812\n",
      "Epoch 6/30\n",
      "240/240 [==============================] - 0s 2ms/step - loss: 0.0000e+00 - accuracy: 0.7782 - val_loss: 0.0000e+00 - val_accuracy: 0.7812\n",
      "Epoch 7/30\n",
      "240/240 [==============================] - 0s 2ms/step - loss: 0.0000e+00 - accuracy: 0.7782 - val_loss: 0.0000e+00 - val_accuracy: 0.7812\n",
      "Epoch 8/30\n",
      "240/240 [==============================] - 0s 2ms/step - loss: 0.0000e+00 - accuracy: 0.7782 - val_loss: 0.0000e+00 - val_accuracy: 0.7812\n",
      "Epoch 9/30\n",
      "240/240 [==============================] - 0s 2ms/step - loss: 0.0000e+00 - accuracy: 0.7782 - val_loss: 0.0000e+00 - val_accuracy: 0.7812\n",
      "Epoch 10/30\n",
      "240/240 [==============================] - 1s 3ms/step - loss: 0.0000e+00 - accuracy: 0.7782 - val_loss: 0.0000e+00 - val_accuracy: 0.7812\n",
      "Epoch 11/30\n",
      "240/240 [==============================] - 0s 2ms/step - loss: 0.0000e+00 - accuracy: 0.7782 - val_loss: 0.0000e+00 - val_accuracy: 0.7812\n",
      "Epoch 12/30\n",
      "240/240 [==============================] - 0s 2ms/step - loss: 0.0000e+00 - accuracy: 0.7782 - val_loss: 0.0000e+00 - val_accuracy: 0.7812\n",
      "Epoch 13/30\n",
      "240/240 [==============================] - 0s 2ms/step - loss: 0.0000e+00 - accuracy: 0.7782 - val_loss: 0.0000e+00 - val_accuracy: 0.7812\n",
      "Epoch 14/30\n",
      "240/240 [==============================] - 0s 2ms/step - loss: 0.0000e+00 - accuracy: 0.7782 - val_loss: 0.0000e+00 - val_accuracy: 0.7812\n",
      "Epoch 15/30\n",
      "240/240 [==============================] - 0s 2ms/step - loss: 0.0000e+00 - accuracy: 0.7782 - val_loss: 0.0000e+00 - val_accuracy: 0.7812\n",
      "Epoch 16/30\n",
      "240/240 [==============================] - 0s 2ms/step - loss: 0.0000e+00 - accuracy: 0.7782 - val_loss: 0.0000e+00 - val_accuracy: 0.7812\n",
      "Epoch 17/30\n",
      "240/240 [==============================] - 0s 2ms/step - loss: 0.0000e+00 - accuracy: 0.7782 - val_loss: 0.0000e+00 - val_accuracy: 0.7812\n",
      "Epoch 18/30\n",
      "240/240 [==============================] - 1s 2ms/step - loss: 0.0000e+00 - accuracy: 0.7782 - val_loss: 0.0000e+00 - val_accuracy: 0.7812\n",
      "Epoch 19/30\n",
      "240/240 [==============================] - 1s 3ms/step - loss: 0.0000e+00 - accuracy: 0.7782 - val_loss: 0.0000e+00 - val_accuracy: 0.7812\n",
      "Epoch 20/30\n",
      "240/240 [==============================] - 1s 3ms/step - loss: 0.0000e+00 - accuracy: 0.7782 - val_loss: 0.0000e+00 - val_accuracy: 0.7812\n",
      "Epoch 21/30\n",
      "240/240 [==============================] - 1s 3ms/step - loss: 0.0000e+00 - accuracy: 0.7782 - val_loss: 0.0000e+00 - val_accuracy: 0.7812\n",
      "Epoch 22/30\n",
      "240/240 [==============================] - 1s 3ms/step - loss: 0.0000e+00 - accuracy: 0.7782 - val_loss: 0.0000e+00 - val_accuracy: 0.7812\n",
      "Epoch 23/30\n",
      "240/240 [==============================] - 1s 2ms/step - loss: 0.0000e+00 - accuracy: 0.7782 - val_loss: 0.0000e+00 - val_accuracy: 0.7812\n",
      "Epoch 24/30\n",
      "240/240 [==============================] - 1s 3ms/step - loss: 0.0000e+00 - accuracy: 0.7782 - val_loss: 0.0000e+00 - val_accuracy: 0.7812\n",
      "Epoch 25/30\n",
      "240/240 [==============================] - 1s 3ms/step - loss: 0.0000e+00 - accuracy: 0.7782 - val_loss: 0.0000e+00 - val_accuracy: 0.7812\n",
      "Epoch 26/30\n",
      "240/240 [==============================] - 1s 2ms/step - loss: 0.0000e+00 - accuracy: 0.7782 - val_loss: 0.0000e+00 - val_accuracy: 0.7812\n",
      "Epoch 27/30\n",
      "240/240 [==============================] - 1s 2ms/step - loss: 0.0000e+00 - accuracy: 0.7782 - val_loss: 0.0000e+00 - val_accuracy: 0.7812\n",
      "Epoch 28/30\n",
      "240/240 [==============================] - 1s 3ms/step - loss: 0.0000e+00 - accuracy: 0.7782 - val_loss: 0.0000e+00 - val_accuracy: 0.7812\n",
      "Epoch 29/30\n",
      "240/240 [==============================] - 1s 3ms/step - loss: 0.0000e+00 - accuracy: 0.7782 - val_loss: 0.0000e+00 - val_accuracy: 0.7812\n",
      "Epoch 30/30\n",
      "240/240 [==============================] - 1s 3ms/step - loss: 0.0000e+00 - accuracy: 0.7782 - val_loss: 0.0000e+00 - val_accuracy: 0.7812\n"
     ]
    },
    {
     "data": {
      "text/plain": "<keras.callbacks.History at 0x2ca7df8aac8>"
     },
     "execution_count": 21,
     "metadata": {},
     "output_type": "execute_result"
    }
   ],
   "source": [
    "model.fit(x_train, y_train, epochs=30, batch_size=100, validation_data=(x_test, y_test))"
   ],
   "metadata": {
    "collapsed": false,
    "pycharm": {
     "name": "#%%\n"
    }
   }
  },
  {
   "cell_type": "code",
   "execution_count": 22,
   "outputs": [],
   "source": [
    "# KerasClassifier로 wrapping\n",
    "temp_rscv = KerasClassifier(build_fn=model, verbose=0)"
   ],
   "metadata": {
    "collapsed": false,
    "pycharm": {
     "name": "#%%\n"
    }
   }
  },
  {
   "cell_type": "code",
   "execution_count": 26,
   "outputs": [],
   "source": [
    "import random\n",
    "\n",
    "nodes = [random.randint(32, 128) for n in range(5)]\n",
    "L1_values = [random.uniform(0, 0.000001) for n in range(5)]\n",
    "L2_values = [random.uniform(0, 0.000001) for n in range(5)]\n",
    "dropout_values = [random.uniform(0, 1) for n in range(5)]\n",
    "batch_sizes = [random.randint(32, 64) for n in range(5)]\n",
    "epochs = [random.choice(range(30, 20, 10)) for n in range(5)]\n",
    "\n",
    "params = dict(nodes=nodes,\n",
    "              L1_values=L1_values,\n",
    "              L2_values=L2_values,\n",
    "              dropout_values=dropout_values,\n",
    "              batch_size=batch_sizes,\n",
    "              epochs=epochs\n",
    "              )\n",
    "\n",
    "model_best = RandomizedSearchCV(estimator=temp_rscv,\n",
    "                                param_distributions=params,\n",
    "                                n_iter=10,\n",
    "                                cv=3,\n",
    "                                scoring='accuracy',\n",
    "                                verbose=1,\n",
    "                                n_jobs=-1\n",
    "                                )"
   ],
   "metadata": {
    "collapsed": false,
    "pycharm": {
     "name": "#%%\n"
    }
   }
  },
  {
   "cell_type": "code",
   "execution_count": 28,
   "outputs": [
    {
     "name": "stdout",
     "output_type": "stream",
     "text": [
      "INFO:tensorflow:Assets written to: C:\\Users\\kry11\\AppData\\Local\\Temp\\tmpvh1fc6fy\\assets\n",
      "Fitting 3 folds for each of 10 candidates, totalling 30 fits\n",
      "INFO:tensorflow:Assets written to: C:\\Users\\kry11\\AppData\\Local\\Temp\\tmpjvvo000d\\assets\n",
      "INFO:tensorflow:Assets written to: C:\\Users\\kry11\\AppData\\Local\\Temp\\tmpryb3tqyn\\assets\n",
      "INFO:tensorflow:Assets written to: C:\\Users\\kry11\\AppData\\Local\\Temp\\tmp_u_f7bm_\\assets\n",
      "INFO:tensorflow:Assets written to: C:\\Users\\kry11\\AppData\\Local\\Temp\\tmp4hqwgd3i\\assets\n",
      "INFO:tensorflow:Assets written to: C:\\Users\\kry11\\AppData\\Local\\Temp\\tmpgh4ij61x\\assets\n",
      "INFO:tensorflow:Assets written to: C:\\Users\\kry11\\AppData\\Local\\Temp\\tmp8ecy42bn\\assets\n",
      "INFO:tensorflow:Assets written to: C:\\Users\\kry11\\AppData\\Local\\Temp\\tmp3niep2l6\\assets\n",
      "INFO:tensorflow:Assets written to: C:\\Users\\kry11\\AppData\\Local\\Temp\\tmpmucov9eu\\assets\n",
      "INFO:tensorflow:Assets written to: C:\\Users\\kry11\\AppData\\Local\\Temp\\tmpbfx8f6l7\\assets\n",
      "INFO:tensorflow:Assets written to: C:\\Users\\kry11\\AppData\\Local\\Temp\\tmpy3l33wc4\\assets\n",
      "INFO:tensorflow:Assets written to: C:\\Users\\kry11\\AppData\\Local\\Temp\\tmphqa_sw23\\assets\n",
      "INFO:tensorflow:Assets written to: C:\\Users\\kry11\\AppData\\Local\\Temp\\tmpjc6cmrsq\\assets\n",
      "INFO:tensorflow:Assets written to: C:\\Users\\kry11\\AppData\\Local\\Temp\\tmpml6_n7i5\\assets\n",
      "INFO:tensorflow:Assets written to: C:\\Users\\kry11\\AppData\\Local\\Temp\\tmpa41fiyii\\assets\n",
      "INFO:tensorflow:Assets written to: C:\\Users\\kry11\\AppData\\Local\\Temp\\tmp8vj58diz\\assets\n",
      "INFO:tensorflow:Assets written to: C:\\Users\\kry11\\AppData\\Local\\Temp\\tmp0sefh3y2\\assets\n",
      "INFO:tensorflow:Assets written to: C:\\Users\\kry11\\AppData\\Local\\Temp\\tmp3p50jwc7\\assets\n",
      "INFO:tensorflow:Assets written to: C:\\Users\\kry11\\AppData\\Local\\Temp\\tmpa8fcjqb5\\assets\n",
      "INFO:tensorflow:Assets written to: C:\\Users\\kry11\\AppData\\Local\\Temp\\tmp4e_ycuvh\\assets\n",
      "INFO:tensorflow:Assets written to: C:\\Users\\kry11\\AppData\\Local\\Temp\\tmp73ur6ek2\\assets\n",
      "INFO:tensorflow:Assets written to: C:\\Users\\kry11\\AppData\\Local\\Temp\\tmpifpl6pht\\assets\n",
      "INFO:tensorflow:Assets written to: C:\\Users\\kry11\\AppData\\Local\\Temp\\tmpbis63ry7\\assets\n",
      "INFO:tensorflow:Assets written to: C:\\Users\\kry11\\AppData\\Local\\Temp\\tmpbns4gk6n\\assets\n",
      "INFO:tensorflow:Assets written to: C:\\Users\\kry11\\AppData\\Local\\Temp\\tmpd0vk2bvz\\assets\n",
      "INFO:tensorflow:Assets written to: C:\\Users\\kry11\\AppData\\Local\\Temp\\tmpi1s8onzm\\assets\n",
      "INFO:tensorflow:Assets written to: C:\\Users\\kry11\\AppData\\Local\\Temp\\tmp2_6_9x_w\\assets\n",
      "INFO:tensorflow:Assets written to: C:\\Users\\kry11\\AppData\\Local\\Temp\\tmp7ybapb21\\assets\n",
      "INFO:tensorflow:Assets written to: C:\\Users\\kry11\\AppData\\Local\\Temp\\tmpjwwp81oc\\assets\n",
      "INFO:tensorflow:Assets written to: C:\\Users\\kry11\\AppData\\Local\\Temp\\tmp35944b20\\assets\n",
      "INFO:tensorflow:Assets written to: C:\\Users\\kry11\\AppData\\Local\\Temp\\tmp5vpx24zn\\assets\n",
      "INFO:tensorflow:Assets written to: C:\\Users\\kry11\\AppData\\Local\\Temp\\tmpi7wfxw33\\assets\n",
      "INFO:tensorflow:Assets written to: C:\\Users\\kry11\\AppData\\Local\\Temp\\tmpavrn3jyb\\assets\n",
      "INFO:tensorflow:Assets written to: C:\\Users\\kry11\\AppData\\Local\\Temp\\tmpsw83qkgk\\assets\n",
      "INFO:tensorflow:Assets written to: C:\\Users\\kry11\\AppData\\Local\\Temp\\tmp0iigfwag\\assets\n",
      "INFO:tensorflow:Assets written to: C:\\Users\\kry11\\AppData\\Local\\Temp\\tmp6bkkeo3s\\assets\n",
      "INFO:tensorflow:Assets written to: C:\\Users\\kry11\\AppData\\Local\\Temp\\tmpqhu_viqf\\assets\n",
      "INFO:tensorflow:Assets written to: C:\\Users\\kry11\\AppData\\Local\\Temp\\tmp2nt_pg9b\\assets\n",
      "INFO:tensorflow:Assets written to: C:\\Users\\kry11\\AppData\\Local\\Temp\\tmp5f3seo_m\\assets\n",
      "INFO:tensorflow:Assets written to: C:\\Users\\kry11\\AppData\\Local\\Temp\\tmpnqh3s2ex\\assets\n",
      "INFO:tensorflow:Assets written to: C:\\Users\\kry11\\AppData\\Local\\Temp\\tmplucsta0x\\assets\n",
      "INFO:tensorflow:Assets written to: C:\\Users\\kry11\\AppData\\Local\\Temp\\tmpygzu_p5y\\assets\n",
      "INFO:tensorflow:Assets written to: C:\\Users\\kry11\\AppData\\Local\\Temp\\tmpisbsfjbi\\assets\n",
      "INFO:tensorflow:Assets written to: C:\\Users\\kry11\\AppData\\Local\\Temp\\tmplxrs0dt8\\assets\n",
      "INFO:tensorflow:Assets written to: C:\\Users\\kry11\\AppData\\Local\\Temp\\tmp0x4u0ury\\assets\n",
      "INFO:tensorflow:Assets written to: C:\\Users\\kry11\\AppData\\Local\\Temp\\tmp2mu85_5r\\assets\n"
     ]
    },
    {
     "ename": "ValueError",
     "evalue": "Invalid parameter nodes for estimator KerasClassifier.\nThis issue can likely be resolved by setting this parameter in the KerasClassifier constructor:\n`KerasClassifier(nodes=91)`\nCheck the list of available parameters with `estimator.get_params().keys()`",
     "output_type": "error",
     "traceback": [
      "\u001B[1;31m---------------------------------------------------------------------------\u001B[0m",
      "\u001B[1;31m_RemoteTraceback\u001B[0m                          Traceback (most recent call last)",
      "\u001B[1;31m_RemoteTraceback\u001B[0m: \n\"\"\"\nTraceback (most recent call last):\n  File \"C:\\ProgramData\\Anaconda3\\envs\\EV_PY37\\lib\\site-packages\\joblib\\externals\\loky\\process_executor.py\", line 436, in _process_worker\n    r = call_item()\n  File \"C:\\ProgramData\\Anaconda3\\envs\\EV_PY37\\lib\\site-packages\\joblib\\externals\\loky\\process_executor.py\", line 288, in __call__\n    return self.fn(*self.args, **self.kwargs)\n  File \"C:\\ProgramData\\Anaconda3\\envs\\EV_PY37\\lib\\site-packages\\joblib\\_parallel_backends.py\", line 595, in __call__\n    return self.func(*args, **kwargs)\n  File \"C:\\ProgramData\\Anaconda3\\envs\\EV_PY37\\lib\\site-packages\\joblib\\parallel.py\", line 263, in __call__\n    for func, args, kwargs in self.items]\n  File \"C:\\ProgramData\\Anaconda3\\envs\\EV_PY37\\lib\\site-packages\\joblib\\parallel.py\", line 263, in <listcomp>\n    for func, args, kwargs in self.items]\n  File \"C:\\ProgramData\\Anaconda3\\envs\\EV_PY37\\lib\\site-packages\\sklearn\\utils\\fixes.py\", line 216, in __call__\n    return self.function(*args, **kwargs)\n  File \"C:\\ProgramData\\Anaconda3\\envs\\EV_PY37\\lib\\site-packages\\sklearn\\model_selection\\_validation.py\", line 668, in _fit_and_score\n    estimator = estimator.set_params(**cloned_parameters)\n  File \"C:\\Users\\kry11\\AppData\\Roaming\\Python\\Python37\\site-packages\\scikeras\\wrappers.py\", line 1175, in set_params\n    ) from None\nValueError: Invalid parameter nodes for estimator KerasClassifier.\nThis issue can likely be resolved by setting this parameter in the KerasClassifier constructor:\n`KerasClassifier(nodes=91)`\nCheck the list of available parameters with `estimator.get_params().keys()`\n\"\"\"",
      "\nThe above exception was the direct cause of the following exception:\n",
      "\u001B[1;31mValueError\u001B[0m                                Traceback (most recent call last)",
      "\u001B[1;32m~\\AppData\\Local\\Temp\\ipykernel_8972\\15951432.py\u001B[0m in \u001B[0;36m<module>\u001B[1;34m\u001B[0m\n\u001B[1;32m----> 1\u001B[1;33m \u001B[0mmodel_best\u001B[0m\u001B[1;33m.\u001B[0m\u001B[0mfit\u001B[0m\u001B[1;33m(\u001B[0m\u001B[0minput_data_pca\u001B[0m\u001B[1;33m,\u001B[0m \u001B[0mtarget_data\u001B[0m\u001B[1;33m)\u001B[0m\u001B[1;33m\u001B[0m\u001B[1;33m\u001B[0m\u001B[0m\n\u001B[0m",
      "\u001B[1;32mC:\\ProgramData\\Anaconda3\\envs\\EV_PY37\\lib\\site-packages\\sklearn\\model_selection\\_search.py\u001B[0m in \u001B[0;36mfit\u001B[1;34m(self, X, y, groups, **fit_params)\u001B[0m\n\u001B[0;32m    889\u001B[0m                 \u001B[1;32mreturn\u001B[0m \u001B[0mresults\u001B[0m\u001B[1;33m\u001B[0m\u001B[1;33m\u001B[0m\u001B[0m\n\u001B[0;32m    890\u001B[0m \u001B[1;33m\u001B[0m\u001B[0m\n\u001B[1;32m--> 891\u001B[1;33m             \u001B[0mself\u001B[0m\u001B[1;33m.\u001B[0m\u001B[0m_run_search\u001B[0m\u001B[1;33m(\u001B[0m\u001B[0mevaluate_candidates\u001B[0m\u001B[1;33m)\u001B[0m\u001B[1;33m\u001B[0m\u001B[1;33m\u001B[0m\u001B[0m\n\u001B[0m\u001B[0;32m    892\u001B[0m \u001B[1;33m\u001B[0m\u001B[0m\n\u001B[0;32m    893\u001B[0m             \u001B[1;31m# multimetric is determined here because in the case of a callable\u001B[0m\u001B[1;33m\u001B[0m\u001B[1;33m\u001B[0m\u001B[1;33m\u001B[0m\u001B[0m\n",
      "\u001B[1;32mC:\\ProgramData\\Anaconda3\\envs\\EV_PY37\\lib\\site-packages\\sklearn\\model_selection\\_search.py\u001B[0m in \u001B[0;36m_run_search\u001B[1;34m(self, evaluate_candidates)\u001B[0m\n\u001B[0;32m   1766\u001B[0m         evaluate_candidates(\n\u001B[0;32m   1767\u001B[0m             ParameterSampler(\n\u001B[1;32m-> 1768\u001B[1;33m                 \u001B[0mself\u001B[0m\u001B[1;33m.\u001B[0m\u001B[0mparam_distributions\u001B[0m\u001B[1;33m,\u001B[0m \u001B[0mself\u001B[0m\u001B[1;33m.\u001B[0m\u001B[0mn_iter\u001B[0m\u001B[1;33m,\u001B[0m \u001B[0mrandom_state\u001B[0m\u001B[1;33m=\u001B[0m\u001B[0mself\u001B[0m\u001B[1;33m.\u001B[0m\u001B[0mrandom_state\u001B[0m\u001B[1;33m\u001B[0m\u001B[1;33m\u001B[0m\u001B[0m\n\u001B[0m\u001B[0;32m   1769\u001B[0m             )\n\u001B[0;32m   1770\u001B[0m         )\n",
      "\u001B[1;32mC:\\ProgramData\\Anaconda3\\envs\\EV_PY37\\lib\\site-packages\\sklearn\\model_selection\\_search.py\u001B[0m in \u001B[0;36mevaluate_candidates\u001B[1;34m(candidate_params, cv, more_results)\u001B[0m\n\u001B[0;32m    849\u001B[0m                     )\n\u001B[0;32m    850\u001B[0m                     for (cand_idx, parameters), (split_idx, (train, test)) in product(\n\u001B[1;32m--> 851\u001B[1;33m                         \u001B[0menumerate\u001B[0m\u001B[1;33m(\u001B[0m\u001B[0mcandidate_params\u001B[0m\u001B[1;33m)\u001B[0m\u001B[1;33m,\u001B[0m \u001B[0menumerate\u001B[0m\u001B[1;33m(\u001B[0m\u001B[0mcv\u001B[0m\u001B[1;33m.\u001B[0m\u001B[0msplit\u001B[0m\u001B[1;33m(\u001B[0m\u001B[0mX\u001B[0m\u001B[1;33m,\u001B[0m \u001B[0my\u001B[0m\u001B[1;33m,\u001B[0m \u001B[0mgroups\u001B[0m\u001B[1;33m)\u001B[0m\u001B[1;33m)\u001B[0m\u001B[1;33m\u001B[0m\u001B[1;33m\u001B[0m\u001B[0m\n\u001B[0m\u001B[0;32m    852\u001B[0m                     )\n\u001B[0;32m    853\u001B[0m                 )\n",
      "\u001B[1;32mC:\\ProgramData\\Anaconda3\\envs\\EV_PY37\\lib\\site-packages\\joblib\\parallel.py\u001B[0m in \u001B[0;36m__call__\u001B[1;34m(self, iterable)\u001B[0m\n\u001B[0;32m   1054\u001B[0m \u001B[1;33m\u001B[0m\u001B[0m\n\u001B[0;32m   1055\u001B[0m             \u001B[1;32mwith\u001B[0m \u001B[0mself\u001B[0m\u001B[1;33m.\u001B[0m\u001B[0m_backend\u001B[0m\u001B[1;33m.\u001B[0m\u001B[0mretrieval_context\u001B[0m\u001B[1;33m(\u001B[0m\u001B[1;33m)\u001B[0m\u001B[1;33m:\u001B[0m\u001B[1;33m\u001B[0m\u001B[1;33m\u001B[0m\u001B[0m\n\u001B[1;32m-> 1056\u001B[1;33m                 \u001B[0mself\u001B[0m\u001B[1;33m.\u001B[0m\u001B[0mretrieve\u001B[0m\u001B[1;33m(\u001B[0m\u001B[1;33m)\u001B[0m\u001B[1;33m\u001B[0m\u001B[1;33m\u001B[0m\u001B[0m\n\u001B[0m\u001B[0;32m   1057\u001B[0m             \u001B[1;31m# Make sure that we get a last message telling us we are done\u001B[0m\u001B[1;33m\u001B[0m\u001B[1;33m\u001B[0m\u001B[1;33m\u001B[0m\u001B[0m\n\u001B[0;32m   1058\u001B[0m             \u001B[0melapsed_time\u001B[0m \u001B[1;33m=\u001B[0m \u001B[0mtime\u001B[0m\u001B[1;33m.\u001B[0m\u001B[0mtime\u001B[0m\u001B[1;33m(\u001B[0m\u001B[1;33m)\u001B[0m \u001B[1;33m-\u001B[0m \u001B[0mself\u001B[0m\u001B[1;33m.\u001B[0m\u001B[0m_start_time\u001B[0m\u001B[1;33m\u001B[0m\u001B[1;33m\u001B[0m\u001B[0m\n",
      "\u001B[1;32mC:\\ProgramData\\Anaconda3\\envs\\EV_PY37\\lib\\site-packages\\joblib\\parallel.py\u001B[0m in \u001B[0;36mretrieve\u001B[1;34m(self)\u001B[0m\n\u001B[0;32m    933\u001B[0m             \u001B[1;32mtry\u001B[0m\u001B[1;33m:\u001B[0m\u001B[1;33m\u001B[0m\u001B[1;33m\u001B[0m\u001B[0m\n\u001B[0;32m    934\u001B[0m                 \u001B[1;32mif\u001B[0m \u001B[0mgetattr\u001B[0m\u001B[1;33m(\u001B[0m\u001B[0mself\u001B[0m\u001B[1;33m.\u001B[0m\u001B[0m_backend\u001B[0m\u001B[1;33m,\u001B[0m \u001B[1;34m'supports_timeout'\u001B[0m\u001B[1;33m,\u001B[0m \u001B[1;32mFalse\u001B[0m\u001B[1;33m)\u001B[0m\u001B[1;33m:\u001B[0m\u001B[1;33m\u001B[0m\u001B[1;33m\u001B[0m\u001B[0m\n\u001B[1;32m--> 935\u001B[1;33m                     \u001B[0mself\u001B[0m\u001B[1;33m.\u001B[0m\u001B[0m_output\u001B[0m\u001B[1;33m.\u001B[0m\u001B[0mextend\u001B[0m\u001B[1;33m(\u001B[0m\u001B[0mjob\u001B[0m\u001B[1;33m.\u001B[0m\u001B[0mget\u001B[0m\u001B[1;33m(\u001B[0m\u001B[0mtimeout\u001B[0m\u001B[1;33m=\u001B[0m\u001B[0mself\u001B[0m\u001B[1;33m.\u001B[0m\u001B[0mtimeout\u001B[0m\u001B[1;33m)\u001B[0m\u001B[1;33m)\u001B[0m\u001B[1;33m\u001B[0m\u001B[1;33m\u001B[0m\u001B[0m\n\u001B[0m\u001B[0;32m    936\u001B[0m                 \u001B[1;32melse\u001B[0m\u001B[1;33m:\u001B[0m\u001B[1;33m\u001B[0m\u001B[1;33m\u001B[0m\u001B[0m\n\u001B[0;32m    937\u001B[0m                     \u001B[0mself\u001B[0m\u001B[1;33m.\u001B[0m\u001B[0m_output\u001B[0m\u001B[1;33m.\u001B[0m\u001B[0mextend\u001B[0m\u001B[1;33m(\u001B[0m\u001B[0mjob\u001B[0m\u001B[1;33m.\u001B[0m\u001B[0mget\u001B[0m\u001B[1;33m(\u001B[0m\u001B[1;33m)\u001B[0m\u001B[1;33m)\u001B[0m\u001B[1;33m\u001B[0m\u001B[1;33m\u001B[0m\u001B[0m\n",
      "\u001B[1;32mC:\\ProgramData\\Anaconda3\\envs\\EV_PY37\\lib\\site-packages\\joblib\\_parallel_backends.py\u001B[0m in \u001B[0;36mwrap_future_result\u001B[1;34m(future, timeout)\u001B[0m\n\u001B[0;32m    540\u001B[0m         AsyncResults.get from multiprocessing.\"\"\"\n\u001B[0;32m    541\u001B[0m         \u001B[1;32mtry\u001B[0m\u001B[1;33m:\u001B[0m\u001B[1;33m\u001B[0m\u001B[1;33m\u001B[0m\u001B[0m\n\u001B[1;32m--> 542\u001B[1;33m             \u001B[1;32mreturn\u001B[0m \u001B[0mfuture\u001B[0m\u001B[1;33m.\u001B[0m\u001B[0mresult\u001B[0m\u001B[1;33m(\u001B[0m\u001B[0mtimeout\u001B[0m\u001B[1;33m=\u001B[0m\u001B[0mtimeout\u001B[0m\u001B[1;33m)\u001B[0m\u001B[1;33m\u001B[0m\u001B[1;33m\u001B[0m\u001B[0m\n\u001B[0m\u001B[0;32m    543\u001B[0m         \u001B[1;32mexcept\u001B[0m \u001B[0mCfTimeoutError\u001B[0m \u001B[1;32mas\u001B[0m \u001B[0me\u001B[0m\u001B[1;33m:\u001B[0m\u001B[1;33m\u001B[0m\u001B[1;33m\u001B[0m\u001B[0m\n\u001B[0;32m    544\u001B[0m             \u001B[1;32mraise\u001B[0m \u001B[0mTimeoutError\u001B[0m \u001B[1;32mfrom\u001B[0m \u001B[0me\u001B[0m\u001B[1;33m\u001B[0m\u001B[1;33m\u001B[0m\u001B[0m\n",
      "\u001B[1;32mC:\\ProgramData\\Anaconda3\\envs\\EV_PY37\\lib\\concurrent\\futures\\_base.py\u001B[0m in \u001B[0;36mresult\u001B[1;34m(self, timeout)\u001B[0m\n\u001B[0;32m    426\u001B[0m                 \u001B[1;32mraise\u001B[0m \u001B[0mCancelledError\u001B[0m\u001B[1;33m(\u001B[0m\u001B[1;33m)\u001B[0m\u001B[1;33m\u001B[0m\u001B[1;33m\u001B[0m\u001B[0m\n\u001B[0;32m    427\u001B[0m             \u001B[1;32melif\u001B[0m \u001B[0mself\u001B[0m\u001B[1;33m.\u001B[0m\u001B[0m_state\u001B[0m \u001B[1;33m==\u001B[0m \u001B[0mFINISHED\u001B[0m\u001B[1;33m:\u001B[0m\u001B[1;33m\u001B[0m\u001B[1;33m\u001B[0m\u001B[0m\n\u001B[1;32m--> 428\u001B[1;33m                 \u001B[1;32mreturn\u001B[0m \u001B[0mself\u001B[0m\u001B[1;33m.\u001B[0m\u001B[0m__get_result\u001B[0m\u001B[1;33m(\u001B[0m\u001B[1;33m)\u001B[0m\u001B[1;33m\u001B[0m\u001B[1;33m\u001B[0m\u001B[0m\n\u001B[0m\u001B[0;32m    429\u001B[0m \u001B[1;33m\u001B[0m\u001B[0m\n\u001B[0;32m    430\u001B[0m             \u001B[0mself\u001B[0m\u001B[1;33m.\u001B[0m\u001B[0m_condition\u001B[0m\u001B[1;33m.\u001B[0m\u001B[0mwait\u001B[0m\u001B[1;33m(\u001B[0m\u001B[0mtimeout\u001B[0m\u001B[1;33m)\u001B[0m\u001B[1;33m\u001B[0m\u001B[1;33m\u001B[0m\u001B[0m\n",
      "\u001B[1;32mC:\\ProgramData\\Anaconda3\\envs\\EV_PY37\\lib\\concurrent\\futures\\_base.py\u001B[0m in \u001B[0;36m__get_result\u001B[1;34m(self)\u001B[0m\n\u001B[0;32m    382\u001B[0m     \u001B[1;32mdef\u001B[0m \u001B[0m__get_result\u001B[0m\u001B[1;33m(\u001B[0m\u001B[0mself\u001B[0m\u001B[1;33m)\u001B[0m\u001B[1;33m:\u001B[0m\u001B[1;33m\u001B[0m\u001B[1;33m\u001B[0m\u001B[0m\n\u001B[0;32m    383\u001B[0m         \u001B[1;32mif\u001B[0m \u001B[0mself\u001B[0m\u001B[1;33m.\u001B[0m\u001B[0m_exception\u001B[0m\u001B[1;33m:\u001B[0m\u001B[1;33m\u001B[0m\u001B[1;33m\u001B[0m\u001B[0m\n\u001B[1;32m--> 384\u001B[1;33m             \u001B[1;32mraise\u001B[0m \u001B[0mself\u001B[0m\u001B[1;33m.\u001B[0m\u001B[0m_exception\u001B[0m\u001B[1;33m\u001B[0m\u001B[1;33m\u001B[0m\u001B[0m\n\u001B[0m\u001B[0;32m    385\u001B[0m         \u001B[1;32melse\u001B[0m\u001B[1;33m:\u001B[0m\u001B[1;33m\u001B[0m\u001B[1;33m\u001B[0m\u001B[0m\n\u001B[0;32m    386\u001B[0m             \u001B[1;32mreturn\u001B[0m \u001B[0mself\u001B[0m\u001B[1;33m.\u001B[0m\u001B[0m_result\u001B[0m\u001B[1;33m\u001B[0m\u001B[1;33m\u001B[0m\u001B[0m\n",
      "\u001B[1;31mValueError\u001B[0m: Invalid parameter nodes for estimator KerasClassifier.\nThis issue can likely be resolved by setting this parameter in the KerasClassifier constructor:\n`KerasClassifier(nodes=91)`\nCheck the list of available parameters with `estimator.get_params().keys()`"
     ]
    }
   ],
   "source": [
    "model_best.fit(input_data_pca, target_data)"
   ],
   "metadata": {
    "collapsed": false,
    "pycharm": {
     "name": "#%%\n"
    }
   }
  },
  {
   "cell_type": "code",
   "execution_count": null,
   "outputs": [],
   "source": [],
   "metadata": {
    "collapsed": false,
    "pycharm": {
     "name": "#%%\n"
    }
   }
  }
 ],
 "metadata": {
  "kernelspec": {
   "display_name": "Python 3",
   "language": "python",
   "name": "python3"
  },
  "language_info": {
   "codemirror_mode": {
    "name": "ipython",
    "version": 2
   },
   "file_extension": ".py",
   "mimetype": "text/x-python",
   "name": "python",
   "nbconvert_exporter": "python",
   "pygments_lexer": "ipython2",
   "version": "2.7.6"
  }
 },
 "nbformat": 4,
 "nbformat_minor": 0
}