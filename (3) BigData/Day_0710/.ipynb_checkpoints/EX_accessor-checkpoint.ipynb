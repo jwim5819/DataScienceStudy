{
 "cells": [
  {
   "cell_type": "markdown",
   "id": "c794b921",
   "metadata": {},
   "source": [
    "# 접근자(Accessor) 실습\n",
    "- DF/SR에 속성으로 제공되며, 다른 객체의 기능/속성을 사용할 수 있도록 해줌\n",
    "- 종류\n",
    "    - Series.dt : datetime관련 속성 사용할 수 있도록 해줌\n",
    "    - Series.str : string관련 메서드 사용할 수 있도록 해줌\n",
    "    - Dataframe.spare : spare관련 속성/메서드 사용할 수 있도록 해줌"
   ]
  },
  {
   "cell_type": "code",
   "execution_count": 15,
   "id": "615ba20a",
   "metadata": {},
   "outputs": [
    {
     "data": {
      "text/html": [
       "<div>\n",
       "<style scoped>\n",
       "    .dataframe tbody tr th:only-of-type {\n",
       "        vertical-align: middle;\n",
       "    }\n",
       "\n",
       "    .dataframe tbody tr th {\n",
       "        vertical-align: top;\n",
       "    }\n",
       "\n",
       "    .dataframe thead th {\n",
       "        text-align: right;\n",
       "    }\n",
       "</style>\n",
       "<table border=\"1\" class=\"dataframe\">\n",
       "  <thead>\n",
       "    <tr style=\"text-align: right;\">\n",
       "      <th></th>\n",
       "      <th>Name</th>\n",
       "      <th>Birth</th>\n",
       "      <th>Age</th>\n",
       "    </tr>\n",
       "  </thead>\n",
       "  <tbody>\n",
       "    <tr>\n",
       "      <th>0</th>\n",
       "      <td>Lim Jae</td>\n",
       "      <td>1996-02-01</td>\n",
       "      <td>27</td>\n",
       "    </tr>\n",
       "    <tr>\n",
       "      <th>1</th>\n",
       "      <td>Tom Kim</td>\n",
       "      <td>1996-03-01</td>\n",
       "      <td>27</td>\n",
       "    </tr>\n",
       "    <tr>\n",
       "      <th>2</th>\n",
       "      <td>Hong Ju</td>\n",
       "      <td>1996-04-01</td>\n",
       "      <td>27</td>\n",
       "    </tr>\n",
       "    <tr>\n",
       "      <th>3</th>\n",
       "      <td>Park soo</td>\n",
       "      <td>1996-05-01</td>\n",
       "      <td>27</td>\n",
       "    </tr>\n",
       "    <tr>\n",
       "      <th>4</th>\n",
       "      <td>Lim Chae</td>\n",
       "      <td>1996-06-01</td>\n",
       "      <td>27</td>\n",
       "    </tr>\n",
       "    <tr>\n",
       "      <th>5</th>\n",
       "      <td>Ma JingGa</td>\n",
       "      <td>1996-07-01</td>\n",
       "      <td>27</td>\n",
       "    </tr>\n",
       "    <tr>\n",
       "      <th>6</th>\n",
       "      <td>Chul Su</td>\n",
       "      <td>1996-08-01</td>\n",
       "      <td>27</td>\n",
       "    </tr>\n",
       "    <tr>\n",
       "      <th>7</th>\n",
       "      <td>Young Hee</td>\n",
       "      <td>1996-09-01</td>\n",
       "      <td>27</td>\n",
       "    </tr>\n",
       "    <tr>\n",
       "      <th>8</th>\n",
       "      <td>Red Park</td>\n",
       "      <td>1996-10-01</td>\n",
       "      <td>27</td>\n",
       "    </tr>\n",
       "    <tr>\n",
       "      <th>9</th>\n",
       "      <td>Young Woo</td>\n",
       "      <td>1996-11-01</td>\n",
       "      <td>27</td>\n",
       "    </tr>\n",
       "  </tbody>\n",
       "</table>\n",
       "</div>"
      ],
      "text/plain": [
       "        Name      Birth  Age\n",
       "0    Lim Jae 1996-02-01   27\n",
       "1    Tom Kim 1996-03-01   27\n",
       "2    Hong Ju 1996-04-01   27\n",
       "3   Park soo 1996-05-01   27\n",
       "4   Lim Chae 1996-06-01   27\n",
       "5  Ma JingGa 1996-07-01   27\n",
       "6    Chul Su 1996-08-01   27\n",
       "7  Young Hee 1996-09-01   27\n",
       "8   Red Park 1996-10-01   27\n",
       "9  Young Woo 1996-11-01   27"
      ]
     },
     "execution_count": 15,
     "metadata": {},
     "output_type": "execute_result"
    }
   ],
   "source": [
    "# 모듈 로딩\n",
    "import pandas as pd\n",
    "import datetime\n",
    "\n",
    "# 데이터 생성\n",
    "# 이름, 생년월일, 나이 3개 컬럼으로 구성, 총 10명\n",
    "# 생년월일 : 동년해, 동일날짜\n",
    "# 이름 : 영문(ex. Tom Kim)\n",
    "dataDF = pd.DataFrame({'Name':['Lim Jae', 'Tom Kim','Hong Ju', 'Park soo', 'Lim Chae', 'Ma JingGa', 'Chul Su', 'Young Hee', 'Red Park', 'Young Woo'],\n",
    "                      'Birth':pd.date_range('1996-01-07', periods=10, freq='MS'),\n",
    "                      'Age':[27,27,27,27,27,27,27,27,27,27]})\n",
    "dataDF"
   ]
  },
  {
   "cell_type": "code",
   "execution_count": 16,
   "id": "3ce5bb20",
   "metadata": {},
   "outputs": [
    {
     "data": {
      "text/plain": [
       "'Lim Jae'"
      ]
     },
     "execution_count": 16,
     "metadata": {},
     "output_type": "execute_result"
    }
   ],
   "source": [
    "# Name에서 성. 이름 분리하기\n",
    "dataDF['Name'][0]"
   ]
  },
  {
   "cell_type": "code",
   "execution_count": 17,
   "id": "00ff2cb5",
   "metadata": {},
   "outputs": [
    {
     "data": {
      "text/plain": [
       "['Lim', 'Jae']"
      ]
     },
     "execution_count": 17,
     "metadata": {},
     "output_type": "execute_result"
    }
   ],
   "source": [
    "dataDF['Name'][0].split(' ')"
   ]
  },
  {
   "cell_type": "markdown",
   "id": "b2b19a25",
   "metadata": {},
   "source": [
    "# Str 데이터로 구성된 Series에서 str 접근자 사용\n",
    "- 전체 컬럼의 요소에 str관련 메서드 사용 가능하도록 하는 접근자\n",
    "- 사용법\n",
    "    - 객체변수(컬럼명).str.사용메서드()\n",
    "    - 객체변수(컬럼명).str.get(인덱스) => 분리 문자리스트에서 특정 요소 추출"
   ]
  },
  {
   "cell_type": "code",
   "execution_count": 18,
   "id": "f8d907b6",
   "metadata": {
    "collapsed": true
   },
   "outputs": [
    {
     "data": {
      "text/plain": [
       "0      [Lim, Jae]\n",
       "1      [Tom, Kim]\n",
       "2      [Hong, Ju]\n",
       "3     [Park, soo]\n",
       "4     [Lim, Chae]\n",
       "5    [Ma, JingGa]\n",
       "6      [Chul, Su]\n",
       "7    [Young, Hee]\n",
       "8     [Red, Park]\n",
       "9    [Young, Woo]\n",
       "Name: Name, dtype: object"
      ]
     },
     "execution_count": 18,
     "metadata": {},
     "output_type": "execute_result"
    }
   ],
   "source": [
    "# 그렇다면 Seires 객체에 split을 사용할 수는 없을까? => str 접근자 사용\n",
    "dataDF['Name'].str.split()"
   ]
  },
  {
   "cell_type": "code",
   "execution_count": 19,
   "id": "7290bf20",
   "metadata": {},
   "outputs": [
    {
     "data": {
      "text/plain": [
       "0      Lim\n",
       "1      Tom\n",
       "2     Hong\n",
       "3     Park\n",
       "4      Lim\n",
       "5       Ma\n",
       "6     Chul\n",
       "7    Young\n",
       "8      Red\n",
       "9    Young\n",
       "Name: Name, dtype: object"
      ]
     },
     "execution_count": 19,
     "metadata": {},
     "output_type": "execute_result"
    }
   ],
   "source": [
    "# 문자열 분리\n",
    "flname = dataDF['Name'].str.split()\n",
    "flname.str.get(0)"
   ]
  },
  {
   "cell_type": "code",
   "execution_count": 20,
   "id": "0984d8cb",
   "metadata": {},
   "outputs": [],
   "source": [
    "# 분리된 문자열 리스트에서 특정 값 가져와서 column insert 시키기\n",
    "dataDF.insert(1, 'First Name', flname.str.get(0))\n",
    "dataDF.insert(2, 'Last Name', flname.str.get(1))"
   ]
  },
  {
   "cell_type": "code",
   "execution_count": 21,
   "id": "dc8a7aa9",
   "metadata": {},
   "outputs": [
    {
     "data": {
      "text/html": [
       "<div>\n",
       "<style scoped>\n",
       "    .dataframe tbody tr th:only-of-type {\n",
       "        vertical-align: middle;\n",
       "    }\n",
       "\n",
       "    .dataframe tbody tr th {\n",
       "        vertical-align: top;\n",
       "    }\n",
       "\n",
       "    .dataframe thead th {\n",
       "        text-align: right;\n",
       "    }\n",
       "</style>\n",
       "<table border=\"1\" class=\"dataframe\">\n",
       "  <thead>\n",
       "    <tr style=\"text-align: right;\">\n",
       "      <th></th>\n",
       "      <th>Name</th>\n",
       "      <th>First Name</th>\n",
       "      <th>Last Name</th>\n",
       "      <th>Birth</th>\n",
       "      <th>Age</th>\n",
       "    </tr>\n",
       "  </thead>\n",
       "  <tbody>\n",
       "    <tr>\n",
       "      <th>0</th>\n",
       "      <td>Lim Jae</td>\n",
       "      <td>Lim</td>\n",
       "      <td>Jae</td>\n",
       "      <td>1996-02-01</td>\n",
       "      <td>27</td>\n",
       "    </tr>\n",
       "    <tr>\n",
       "      <th>1</th>\n",
       "      <td>Tom Kim</td>\n",
       "      <td>Tom</td>\n",
       "      <td>Kim</td>\n",
       "      <td>1996-03-01</td>\n",
       "      <td>27</td>\n",
       "    </tr>\n",
       "    <tr>\n",
       "      <th>2</th>\n",
       "      <td>Hong Ju</td>\n",
       "      <td>Hong</td>\n",
       "      <td>Ju</td>\n",
       "      <td>1996-04-01</td>\n",
       "      <td>27</td>\n",
       "    </tr>\n",
       "    <tr>\n",
       "      <th>3</th>\n",
       "      <td>Park soo</td>\n",
       "      <td>Park</td>\n",
       "      <td>soo</td>\n",
       "      <td>1996-05-01</td>\n",
       "      <td>27</td>\n",
       "    </tr>\n",
       "    <tr>\n",
       "      <th>4</th>\n",
       "      <td>Lim Chae</td>\n",
       "      <td>Lim</td>\n",
       "      <td>Chae</td>\n",
       "      <td>1996-06-01</td>\n",
       "      <td>27</td>\n",
       "    </tr>\n",
       "    <tr>\n",
       "      <th>5</th>\n",
       "      <td>Ma JingGa</td>\n",
       "      <td>Ma</td>\n",
       "      <td>JingGa</td>\n",
       "      <td>1996-07-01</td>\n",
       "      <td>27</td>\n",
       "    </tr>\n",
       "    <tr>\n",
       "      <th>6</th>\n",
       "      <td>Chul Su</td>\n",
       "      <td>Chul</td>\n",
       "      <td>Su</td>\n",
       "      <td>1996-08-01</td>\n",
       "      <td>27</td>\n",
       "    </tr>\n",
       "    <tr>\n",
       "      <th>7</th>\n",
       "      <td>Young Hee</td>\n",
       "      <td>Young</td>\n",
       "      <td>Hee</td>\n",
       "      <td>1996-09-01</td>\n",
       "      <td>27</td>\n",
       "    </tr>\n",
       "    <tr>\n",
       "      <th>8</th>\n",
       "      <td>Red Park</td>\n",
       "      <td>Red</td>\n",
       "      <td>Park</td>\n",
       "      <td>1996-10-01</td>\n",
       "      <td>27</td>\n",
       "    </tr>\n",
       "    <tr>\n",
       "      <th>9</th>\n",
       "      <td>Young Woo</td>\n",
       "      <td>Young</td>\n",
       "      <td>Woo</td>\n",
       "      <td>1996-11-01</td>\n",
       "      <td>27</td>\n",
       "    </tr>\n",
       "  </tbody>\n",
       "</table>\n",
       "</div>"
      ],
      "text/plain": [
       "        Name First Name Last Name      Birth  Age\n",
       "0    Lim Jae        Lim       Jae 1996-02-01   27\n",
       "1    Tom Kim        Tom       Kim 1996-03-01   27\n",
       "2    Hong Ju       Hong        Ju 1996-04-01   27\n",
       "3   Park soo       Park       soo 1996-05-01   27\n",
       "4   Lim Chae        Lim      Chae 1996-06-01   27\n",
       "5  Ma JingGa         Ma    JingGa 1996-07-01   27\n",
       "6    Chul Su       Chul        Su 1996-08-01   27\n",
       "7  Young Hee      Young       Hee 1996-09-01   27\n",
       "8   Red Park        Red      Park 1996-10-01   27\n",
       "9  Young Woo      Young       Woo 1996-11-01   27"
      ]
     },
     "execution_count": 21,
     "metadata": {},
     "output_type": "execute_result"
    }
   ],
   "source": [
    "dataDF"
   ]
  },
  {
   "cell_type": "code",
   "execution_count": null,
   "id": "67b3d6e3",
   "metadata": {},
   "outputs": [],
   "source": []
  }
 ],
 "metadata": {
  "kernelspec": {
   "display_name": "Python 3 (ipykernel)",
   "language": "python",
   "name": "python3"
  },
  "language_info": {
   "codemirror_mode": {
    "name": "ipython",
    "version": 3
   },
   "file_extension": ".py",
   "mimetype": "text/x-python",
   "name": "python",
   "nbconvert_exporter": "python",
   "pygments_lexer": "ipython3",
   "version": "3.9.12"
  }
 },
 "nbformat": 4,
 "nbformat_minor": 5
}
