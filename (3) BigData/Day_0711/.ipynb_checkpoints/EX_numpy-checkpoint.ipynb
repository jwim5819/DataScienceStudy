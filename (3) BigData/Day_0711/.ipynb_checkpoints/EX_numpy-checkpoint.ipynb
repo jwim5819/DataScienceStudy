{
 "cells": [
  {
   "cell_type": "markdown",
   "id": "dd57779e",
   "metadata": {},
   "source": [
    "# Numpy 패키지 실습\n",
    "- pandas에서 데이터를 저장 및 처리에 사용되는 패키지\n",
    "- 외부 패키지로 반드시 설치가 필요함\n",
    "- 고속의 데이터 처리, 수치 계산 수행 패키지\n",
    "- 머신러닝/딥러닝용 패키지인 Scikit-lern, Tensorflow, PyTorch, Keras 등에서도 \n",
    "  내부 데이터 저장 및 수치계산에 사용되는 패키지임\n",
    "- [중요] 동일한 데이터 타입의 데이터를 저장하는 배열(Array) 타입!\n",
    "- 설치 : !pip install numpy (주피터 노트북)"
   ]
  },
  {
   "cell_type": "code",
   "execution_count": 2,
   "id": "86e77f67",
   "metadata": {},
   "outputs": [
    {
     "data": {
      "text/plain": [
       "'1.21.5'"
      ]
     },
     "execution_count": 2,
     "metadata": {},
     "output_type": "execute_result"
    }
   ],
   "source": [
    "# 버전 확인\n",
    "import numpy as np\n",
    "\n",
    "np.__version__"
   ]
  },
  {
   "cell_type": "code",
   "execution_count": 13,
   "id": "388ed4e5",
   "metadata": {},
   "outputs": [
    {
     "data": {
      "text/plain": [
       "array([1, 2, 3])"
      ]
     },
     "execution_count": 13,
     "metadata": {},
     "output_type": "execute_result"
    }
   ],
   "source": [
    "# ndarray 객체 생성하기 => numpy.array()\n",
    "\n",
    "arr1=np.array([1,2,3])\n",
    "arr1"
   ]
  },
  {
   "cell_type": "code",
   "execution_count": 14,
   "id": "2f24a2d4",
   "metadata": {},
   "outputs": [
    {
     "data": {
      "text/plain": [
       "numpy.ndarray"
      ]
     },
     "execution_count": 14,
     "metadata": {},
     "output_type": "execute_result"
    }
   ],
   "source": [
    "type(arr1)"
   ]
  },
  {
   "cell_type": "code",
   "execution_count": 15,
   "id": "e88af3a9",
   "metadata": {},
   "outputs": [
    {
     "name": "stdout",
     "output_type": "stream",
     "text": [
      "1\n",
      "(3,)\n",
      "int32\n",
      "4\n",
      "3\n"
     ]
    }
   ],
   "source": [
    "# ndarray 객체 속성 확인하기\n",
    "# 객체변수명.속성명\n",
    "# ndim : 차원(ex. 1, 2, 3, ...)\n",
    "# shape : 형태(ex. 갯수, 행/열, 면/행/열)\n",
    "# type : 데이터 타입\n",
    "# itemsize : 배열 요소의 byte 크기\n",
    "# size : 배열 요소 갯수\n",
    "print(arr1.ndim, arr1.shape, arr1.dtype, arr1.itemsize, arr1.size, sep='\\n')"
   ]
  },
  {
   "cell_type": "code",
   "execution_count": 18,
   "id": "fc79282a",
   "metadata": {},
   "outputs": [
    {
     "name": "stdout",
     "output_type": "stream",
     "text": [
      "객체변수명 : arr1 => [1 2 3]\n",
      "객체변수명 : arr1[0] => 1\n"
     ]
    }
   ],
   "source": [
    "# 배열의 요소 즉, 아이템, 원소 접근하기\n",
    "# 0-base 인덱스 자동 지정 =. 객체변수명[인덱스]\n",
    "print(f'객체변수명 : arr1 => {arr1}')\n",
    "print(f'객체변수명 : arr1[0] => {arr1[0]}')"
   ]
  },
  {
   "cell_type": "code",
   "execution_count": 29,
   "id": "5630b66c",
   "metadata": {},
   "outputs": [
    {
     "name": "stdout",
     "output_type": "stream",
     "text": [
      "[1 1 1 1]\n",
      "[1 1 1 1]\n"
     ]
    }
   ],
   "source": [
    "# 모든 값을 0으로 채워서 ndarray 객체 생성 함수 => ones()\n",
    "arr2 = np.array([1,1,1,1])\n",
    "arr3 = np.ones(4, dtype=np.int8)    # 0으로 채우고 싶으면 zeros()도 있음\n",
    "print(arr2, arr3, sep='\\n')"
   ]
  },
  {
   "cell_type": "code",
   "execution_count": 31,
   "id": "88219241",
   "metadata": {},
   "outputs": [
    {
     "name": "stdout",
     "output_type": "stream",
     "text": [
      "1\n",
      "(4,)\n",
      "int8\n",
      "1\n",
      "4\n",
      "객체변수명 : arr3 => [1 1 1 1]\n",
      "객체변수명 : arr3[0] => 1\n"
     ]
    }
   ],
   "source": [
    "print(arr3.ndim, arr3.shape, arr3.dtype, arr3.itemsize, arr3.size, sep='\\n')\n",
    "print(f'객체변수명 : arr3 => {arr3}')\n",
    "print(f'객체변수명 : arr3[0] => {arr3[0]}')"
   ]
  },
  {
   "cell_type": "code",
   "execution_count": 33,
   "id": "c828cb7d",
   "metadata": {},
   "outputs": [
    {
     "data": {
      "text/plain": [
       "array([[0., 0., 0.],\n",
       "       [0., 0., 0.]])"
      ]
     },
     "execution_count": 33,
     "metadata": {},
     "output_type": "execute_result"
    }
   ],
   "source": [
    "# 초기화하지 않고 ndarray 객체 생성 => np.empty()\n",
    "arr4 = np.empty((2,3))\n",
    "arr4"
   ]
  },
  {
   "cell_type": "code",
   "execution_count": 36,
   "id": "6ed7e3d3",
   "metadata": {},
   "outputs": [
    {
     "data": {
      "text/plain": [
       "array([[0, 0, 0, 0, 0],\n",
       "       [0, 0, 0, 0, 0],\n",
       "       [0, 0, 0, 0, 0],\n",
       "       [0, 0, 0, 0, 0],\n",
       "       [0, 0, 0, 0, 0]], dtype=int64)"
      ]
     },
     "execution_count": 36,
     "metadata": {},
     "output_type": "execute_result"
    }
   ],
   "source": [
    "# 2차원 형태의 ndarray 객체 생성\n",
    "arr5 = np.zeros((5,5), dtype=np.int64)\n",
    "arr5"
   ]
  },
  {
   "cell_type": "code",
   "execution_count": 37,
   "id": "af5097b2",
   "metadata": {},
   "outputs": [
    {
     "data": {
      "text/plain": [
       "((5, 5), 2)"
      ]
     },
     "execution_count": 37,
     "metadata": {},
     "output_type": "execute_result"
    }
   ],
   "source": [
    "arr5.shape, arr5.ndim"
   ]
  },
  {
   "cell_type": "code",
   "execution_count": 39,
   "id": "014974c5",
   "metadata": {},
   "outputs": [
    {
     "data": {
      "text/plain": [
       "array([0, 0, 0, 0, 0, 0, 0, 0, 0, 0, 0, 0, 0, 0, 0, 0, 0, 0, 0, 0, 0, 0,\n",
       "       0, 0, 0], dtype=int64)"
      ]
     },
     "execution_count": 39,
     "metadata": {},
     "output_type": "execute_result"
    }
   ],
   "source": [
    "# 2차원 => 1차원 배열로 만들기 flatten()\n",
    "arr6 = arr5.flatten()\n",
    "arr6"
   ]
  },
  {
   "cell_type": "code",
   "execution_count": 42,
   "id": "4076384e",
   "metadata": {},
   "outputs": [
    {
     "data": {
      "text/plain": [
       "array([[0, 0, 0, 0, 0],\n",
       "       [0, 0, 0, 0, 0],\n",
       "       [0, 0, 0, 0, 0],\n",
       "       [0, 0, 0, 0, 0],\n",
       "       [0, 0, 0, 0, 0]], dtype=int64)"
      ]
     },
     "execution_count": 42,
     "metadata": {},
     "output_type": "execute_result"
    }
   ],
   "source": [
    "# 1차원 => 다른 차원으로 변경 reshape()\n",
    "arr7 = arr6.reshape((5,5))\n",
    "arr7"
   ]
  },
  {
   "cell_type": "code",
   "execution_count": 48,
   "id": "ac86c8af",
   "metadata": {},
   "outputs": [
    {
     "data": {
      "text/plain": [
       "array([0, 1, 2, 3, 4, 5, 6, 7])"
      ]
     },
     "execution_count": 48,
     "metadata": {},
     "output_type": "execute_result"
    }
   ],
   "source": [
    "# 차원/형태 변환 => reshape(-1, n) 또는  (n, -1)\n",
    "# 열이나 행이 몇줄인지 모를 때 -1 적으면 알아서 계산 후 형태를 맞춰줌\n",
    "arr8 = np.arange(8)\n",
    "arr8"
   ]
  },
  {
   "cell_type": "code",
   "execution_count": 49,
   "id": "d05962d4",
   "metadata": {},
   "outputs": [
    {
     "data": {
      "text/plain": [
       "array([[0, 1],\n",
       "       [2, 3],\n",
       "       [4, 5],\n",
       "       [6, 7]])"
      ]
     },
     "execution_count": 49,
     "metadata": {},
     "output_type": "execute_result"
    }
   ],
   "source": [
    "arr9 = arr8.reshape(-1,2)\n",
    "arr9"
   ]
  },
  {
   "cell_type": "code",
   "execution_count": 53,
   "id": "5113cf1e",
   "metadata": {},
   "outputs": [
    {
     "data": {
      "text/plain": [
       "array([[0, 1, 2, 3],\n",
       "       [4, 5, 6, 7]])"
      ]
     },
     "execution_count": 53,
     "metadata": {},
     "output_type": "execute_result"
    }
   ],
   "source": [
    "arr9 = arr8.reshape(-1,4)\n",
    "arr9"
   ]
  },
  {
   "cell_type": "code",
   "execution_count": 55,
   "id": "8ecf822f",
   "metadata": {},
   "outputs": [
    {
     "data": {
      "text/plain": [
       "array([[0, 1],\n",
       "       [2, 3],\n",
       "       [4, 5],\n",
       "       [6, 7]])"
      ]
     },
     "execution_count": 55,
     "metadata": {},
     "output_type": "execute_result"
    }
   ],
   "source": [
    "arr9 = arr8.reshape(4,-1)\n",
    "arr9"
   ]
  },
  {
   "cell_type": "code",
   "execution_count": null,
   "id": "6ede00b9",
   "metadata": {},
   "outputs": [],
   "source": []
  }
 ],
 "metadata": {
  "kernelspec": {
   "display_name": "Python 3 (ipykernel)",
   "language": "python",
   "name": "python3"
  },
  "language_info": {
   "codemirror_mode": {
    "name": "ipython",
    "version": 3
   },
   "file_extension": ".py",
   "mimetype": "text/x-python",
   "name": "python",
   "nbconvert_exporter": "python",
   "pygments_lexer": "ipython3",
   "version": "3.9.12"
  }
 },
 "nbformat": 4,
 "nbformat_minor": 5
}
