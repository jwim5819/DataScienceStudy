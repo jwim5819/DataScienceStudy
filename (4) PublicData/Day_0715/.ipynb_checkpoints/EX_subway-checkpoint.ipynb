{
 "cells": [
  {
   "cell_type": "code",
   "execution_count": 15,
   "id": "b225f4ab",
   "metadata": {},
   "outputs": [
    {
     "name": "stdout",
     "output_type": "stream",
     "text": [
      "['사용월', '호선명', '역ID', '지하철역', '유임승차', '유임하차', '무임승차', '무임하차']\n",
      "['Jun.22', '1호선', '150', '서울역', '1150754 ', '1123193', '194717', '187155']\n",
      "['Jun.22', '1호선', '151', '시청', '537067 ', '543569', '80671', '78279']\n",
      "['Jun.22', '1호선', '152', '종각', '834173 ', '815704', '131987', '121717']\n",
      "['Jun.22', '1호선', '153', '종로3가', '450317 ', '404106', '299617', '278151']\n",
      "['Jun.22', '1호선', '154', '종로5가', '394420 ', '404105', '254236', '244555']\n",
      "['Jun.22', '1호선', '155', '동대문', '212719 ', '198987', '117499', '118515']\n",
      "['Jun.22', '1호선', '156', '신설동', '264825 ', '252339', '112362', '106855']\n"
     ]
    }
   ],
   "source": [
    "import csv\n",
    "f = open('subwayfee.csv', encoding='utf-8-sig')\n",
    "\n",
    "data = csv.reader(f)\n",
    "header = next(data)\n",
    "print(header)\n",
    "i = 0\n",
    "for row in data:\n",
    "    print(row)\n",
    "    if i >5:\n",
    "        break\n",
    "    i += 1\n",
    "f.close()"
   ]
  },
  {
   "cell_type": "markdown",
   "id": "aa35c9b1",
   "metadata": {},
   "source": [
    "## 유임 승차 / 무임 승차 비율이 가장 높은 역은?\n",
    "- $rate = {유임 승차 인원 \\over 무임 승차 인원}$"
   ]
  },
  {
   "cell_type": "code",
   "execution_count": 20,
   "id": "a9528129",
   "metadata": {},
   "outputs": [
    {
     "name": "stdout",
     "output_type": "stream",
     "text": [
      "무임승차 인원이 없는 역은 : \n",
      "['Jun.22', '일산선', '1949', '지축', 10, 0, 0, 0]\n",
      "['Jun.22', '경의선', '1296', '계양', 10, 0, 0, 0]\n",
      "['Jun.22', '경의선', '1297', '검암', 2, 0, 0, 0]\n",
      "['Jun.22', '6호선', '2615', '연신내', 31, 0, 0, 0]\n",
      "['Jun.22', '6호선', '2649', '신내', 4, 0, 0, 0]\n",
      "['Jun.22', '7호선', '2753', '까치울', 1, 0, 0, 0]\n",
      "['Jun.22', '7호선', '2758', '상동', 1, 0, 0, 0]\n",
      "['Jun.22', '7호선', '2761', '부평구청', 1, 0, 0, 0]\n"
     ]
    }
   ],
   "source": [
    "f = open('subwayfee.csv', encoding='utf-8-sig')\n",
    "data = csv.reader(f)\n",
    "header = next(data)\n",
    "max_rate =0\n",
    "rate = 0\n",
    "i = 0\n",
    "print(f'무임승차 인원이 없는 역은 : ')\n",
    "for row in data:\n",
    "    for i in range(4, 8):\n",
    "        row[i] = int(row[i]) # 4, 5, 6, 7 컬럼값을 정수로 변환\n",
    "    rate = row[4] / (row[4] + row[6])    # 유임 / 유임+무임\n",
    "    if row[6] == 0: # 무임승차 인원[6]이 없는 역 출력\n",
    "        print(row)\n",
    "\n",
    "f.close()"
   ]
  },
  {
   "cell_type": "markdown",
   "id": "b8b7cf08",
   "metadata": {},
   "source": [
    "## 유임승차 비율이 가장 낮은 역은?"
   ]
  },
  {
   "cell_type": "code",
   "execution_count": 22,
   "id": "75a7f2a1",
   "metadata": {},
   "outputs": [
    {
     "name": "stdout",
     "output_type": "stream",
     "text": [
      "['사용월', '호선명', '역ID', '지하철역', '유임승차', '유임하차', '무임승차', '무임하차']\n",
      "['Jun.22', '1호선', '157', '제기동', 218782, '209109', 263173, '281985'] 0.45\n",
      "['Jun.22', '1호선', '159', '동묘앞', 122460, '131299', 146455, '147539'] 0.46\n",
      "['Jun.22', '경원선', '1916', '소요산', 32659, '25998', 62990, '56806'] 0.34\n",
      "['Jun.22', '중앙선', '1218', '원덕', 5854, '5749', 6959, '6739'] 0.46\n",
      "['Jun.22', '중앙선', '1219', '용문', 34168, '34477', 38467, '38202'] 0.47\n",
      "유임 승차 비율이 가장 낮은 역: 소요산, 전체 인원:95,649, 유임승차인원:32,659, 유임승차비율:0.34\n"
     ]
    }
   ],
   "source": [
    "import csv\n",
    "import matplotlib.pyplot as plt\n",
    "import platform\n",
    "f = open('subwayfee.csv', encoding='utf-8-sig')\n",
    "data = csv.reader(f)\n",
    "header = next(data)\n",
    "print(header)\n",
    "min_rate = 100\n",
    "rate = 0\n",
    "min_row = []\n",
    "total_count = 0\n",
    "min_total_count = 0\n",
    "for row in data:\n",
    "    for i in [4,6]:\n",
    "        row[i] = int(row[i])\n",
    "    total_count = row[4] + row[6]\n",
    "    if (row[6] != 0) and (total_count >= 10000): # 무임승차 인원이 없고, 총 승차인원이 1만명 이상\n",
    "        rate = row[4] / total_count\n",
    "        if rate <= 0.5:\n",
    "            print(row, round(rate, 2))\n",
    "            if rate < min_rate: # 유임 승차 비율이 가장 낮은 역 찾기\n",
    "                min_rate = rate\n",
    "                min_row = row\n",
    "                min_total_count = total_count\n",
    "print('유임 승차 비율이 가장 낮은 역: {0}, 전체 인원:{1:,}, 유임승차인원:{2:,}, 유임승차비율:{3:,}'.\n",
    "    format(min_row[3], min_total_count, min_row[4], round(min_rate, 2)))\n",
    "f.close()"
   ]
  },
  {
   "cell_type": "code",
   "execution_count": 41,
   "id": "a971adaa",
   "metadata": {},
   "outputs": [
    {
     "data": {
      "image/png": "[encoded data removed]",
      "text/plain": [
       "<Figure size 432x288 with 1 Axes>"
      ]
     },
     "metadata": {},
     "output_type": "display_data"
    }
   ],
   "source": [
    "# 파이 그래프로 그려보기\n",
    "plt.rc('font', family='Malgun Gothic')\n",
    "plt.title(f'[{min_row[3]}]역의 유,무임 승차 비율')\n",
    "plt.pie([min_row[4], min_row[6]], labels=['유임승차','무임승차'],autopct='%.2f%%') # %는 특수기호이기 때문에 %%를 써줬다.\n",
    "plt.show()\n"
   ]
  },
  {
   "cell_type": "markdown",
   "id": "1e4f96e3",
   "metadata": {},
   "source": [
    "## 승·하차 인원이 가장 많은 역은?"
   ]
  },
  {
   "cell_type": "code",
   "execution_count": 47,
   "id": "5de6a36e",
   "metadata": {},
   "outputs": [],
   "source": [
    "import csv\n",
    "import matplotlib.pyplot as plt\n",
    "import platform\n",
    "\n",
    "label = ['유임승차', '유임하차', '무임승차', '무임하차']\n",
    "c = ['#14CCC0', '#389993', '#FF1C6A', '#CC14AF'] # 파이차트 컬러 값\n",
    "pic_count = 0\n",
    "with open('subwayfee.csv', encoding='utf-8-sig') as f:\n",
    "    data = csv.reader(f)\n",
    "    next(data)\n",
    "    if(platform.system() == 'Windows'):\n",
    "        plt.rc('font', family='Malgun Gothic')\n",
    "    else:\n",
    "        plt.rc('font', family='AppleGothic')\n",
    "    for row in data:\n",
    "        for i in range(4, 8):\n",
    "            row[i] = int(row[i])\n",
    "        plt.figure(dpi=200) # 저장할 그림파일의 dpi 설정\n",
    "        plt.title(row[3] + ' ' + row[1])\n",
    "        plt.pie(row[4:8], labels=label, colors=c, autopct = '%.1f%%')\n",
    "        plt.savefig(row[3] + ' ' + row[1] + '.png')\n",
    "        plt.close() # 파일 닫기\n",
    "        pic_count += 1\n",
    "        if pic_count >= 10:\n",
    "            break"
   ]
  },
  {
   "cell_type": "code",
   "execution_count": 48,
   "id": "4e23b04c",
   "metadata": {},
   "outputs": [
    {
     "name": "stdout",
     "output_type": "stream",
     "text": [
      "['사용월', '호선명', '역ID', '지하철역', '04:00:00~04:59:59', '', '05:00:00~05:59:59', '', '06:00:00~06:59:59', '', '07:00:00~07:59:59', '', '08:00:00~08:59:59', '', '09:00:00~09:59:59', '', '10:00:00~10:59:59', '', '11:00:00~11:59:59', '', '12:00:00~12:59:59', '', '13:00:00~13:59:59', '', '14:00:00~14:59:59', '', '15:00:00~15:59:59', '', '16:00:00~16:59:59', '', '17:00:00~17:59:59', '', '18:00:00~18:59:59', '', '19:00:00~19:59:59', '', '20:00:00~20:59:59', '', '21:00:00~21:59:59', '', '22:00:00~22:59:59', '', '23:00:00~23:59:59', '', '00:00:00~00:59:59', '', '01:00:00~01:59:59', '', '02:00:00~02:59:59', '', '03:00:00~03:59:59', '']\n"
     ]
    }
   ],
   "source": [
    "with open('subwaytime.csv', encoding='utf-8-sig') as f:\n",
    "    data = csv.reader(f)\n",
    "    header = next(data)\n",
    "    print(header)"
   ]
  },
  {
   "cell_type": "markdown",
   "id": "132789ba",
   "metadata": {},
   "source": [
    "## sort(), sorted() 차이\n",
    "- sort() : 자기 자신이 바뀌면서 정렬을 한다.\n",
    "- sorted(변수명) : 자기 자신은 유지하되, 정렬된 값을 return해준다."
   ]
  },
  {
   "cell_type": "markdown",
   "id": "e4195b93",
   "metadata": {},
   "source": [
    "## map함수로 포메팅하기"
   ]
  },
  {
   "cell_type": "code",
   "execution_count": 52,
   "id": "55d78767",
   "metadata": {},
   "outputs": [
    {
     "name": "stdout",
     "output_type": "stream",
     "text": [
      "[5, 10, 15, 20]\n",
      "[1, 2, 3, 4]\n"
     ]
    }
   ],
   "source": [
    "def func(x):\n",
    "    return x * 5\n",
    "\n",
    "a=[1,2,3,4]\n",
    "a=list(map(func,a))\n",
    "print(a)\n",
    "\n",
    "b=['1','2','3','4']\n",
    "b=list(map(int,b))\n",
    "print(b)"
   ]
  },
  {
   "cell_type": "code",
   "execution_count": 68,
   "id": "def2d65a",
   "metadata": {},
   "outputs": [
    {
     "name": "stdout",
     "output_type": "stream",
     "text": [
      "새벽 4시 승차 인원수: 135,398\n",
      "최대 승차역: 구로, 인원수:11,784\n"
     ]
    },
    {
     "data": {
      "image/png": "[encoded data removed]",
      "text/plain": [
       "<Figure size 1200x800 with 1 Axes>"
      ]
     },
     "metadata": {
      "needs_background": "light"
     },
     "output_type": "display_data"
    }
   ],
   "source": [
    "with open('subwaytime.csv', encoding='utf-8-sig') as f:\n",
    "    data = csv.reader(f)\n",
    "    next(data) # 2줄의 헤더 정보 건너뜀\n",
    "    next(data)\n",
    "    result = []\n",
    "    total_number = 0\n",
    "    max_num = 0\n",
    "    max_station = ''\n",
    "    for row in data:\n",
    "        row[4:] = map(int, row[4:])\n",
    "        total_number += row[4]\n",
    "        result.append(row[4])\n",
    "        if(row[4] > max_num):\n",
    "            max_num = row[4]\n",
    "            max_station = row[3]\n",
    "print('새벽 4시 승차 인원수: {0:,}'.format(total_number))\n",
    "print('최대 승차역: {0}, 인원수:{1:,}'.format(max_station, max_num))\n",
    "result.sort() # 오름 차순으로 정렬, 내림차순: result.sort(reverse=True)\n",
    "plt.figure(dpi=200)\n",
    "plt.bar(range(len(result)), result)\n",
    "plt.show()"
   ]
  },
  {
   "cell_type": "code",
   "execution_count": 67,
   "id": "06c85c5d",
   "metadata": {},
   "outputs": [
    {
     "name": "stdout",
     "output_type": "stream",
     "text": [
      "최대 인원 승차역은 신림(2호선)역이고, 승차인원은 638753명입니다.\n"
     ]
    },
    {
     "data": {
      "image/png": "[encoded data removed]",
      "text/plain": [
       "<Figure size 600x400 with 1 Axes>"
      ]
     },
     "metadata": {
      "needs_background": "light"
     },
     "output_type": "display_data"
    }
   ],
   "source": [
    "with open('subwaytime.csv', encoding='utf-8-sig') as f:\n",
    "    data = csv.reader(f)\n",
    "    next(data) # 2줄의 헤더 정보 건너뜀\n",
    "    next(data)\n",
    "    result = []\n",
    "    total_number = 0\n",
    "    max_num = 0\n",
    "    max_station = ''\n",
    "    for row in data:\n",
    "        row[4:] = map(int, row[4:])\n",
    "        row_sum = sum(row[10:15:2]) # index 10, 12, 14\n",
    "        # row_sum = row[10] + row[12] + row[14]\n",
    "        result.append(row_sum)\n",
    "        if row_sum > max_num:\n",
    "            max_num = row_sum\n",
    "            max_station = row[3] + '(' + row[1] + ')'\n",
    "print(f'최대 인원 승차역은 {max_station}역이고, 승차인원은 {max_num}명입니다.')\n",
    "\n",
    "result.sort(reverse=True)    # 여기선 sort를 reverse로 했음.\n",
    "plt.figure(dpi=100)\n",
    "plt.bar(range(len(result)), result)\n",
    "plt.show()"
   ]
  },
  {
   "cell_type": "markdown",
   "id": "6fafa494",
   "metadata": {},
   "source": [
    "## 시간대별 가장 많이 승차하는 역 정보 분석"
   ]
  },
  {
   "cell_type": "code",
   "execution_count": 74,
   "id": "3fd65ed6",
   "metadata": {},
   "outputs": [
    {
     "name": "stdout",
     "output_type": "stream",
     "text": [
      "4시:구로: 11,784, 5시:신림: 38,809, 6시:신림: 73,523, 7시:신림: 188,110, \n",
      "8시:신림: 281,017, 9시:신림: 169,626, 10시:신림: 91,989, 11시:신림: 77,496, \n",
      "12시:잠실(송파구청): 84,383, 13시:강남: 95,697, 14시:강남: 106,394, 15시:강남: 131,625, \n",
      "16시:강남: 154,526, 17시:강남: 231,839, 18시:강남: 314,775, 19시:강남: 196,425, \n",
      "20시:강남: 155,347, 21시:강남: 180,108, 22시:강남: 176,473, 23시:강남: 81,016, \n",
      "0시:강남: 12,407, 1시:건대입구: 8, 2시:동묘앞: 1, "
     ]
    },
    {
     "data": {
      "image/png": "[encoded data removed]",
      "text/plain": [
       "<Figure size 600x400 with 1 Axes>"
      ]
     },
     "metadata": {
      "needs_background": "light"
     },
     "output_type": "display_data"
    }
   ],
   "source": [
    "import csv\n",
    "import matplotlib.pyplot as plt\n",
    "import platform\n",
    "\n",
    "with open('subwaytime.csv', encoding='utf-8-sig') as f:\n",
    "    data = csv.reader(f)\n",
    "    next(data) # 2줄의 헤더 정보 건너뜀\n",
    "    next(data)\n",
    "    max = [0] * 23\n",
    "    max_station = [''] * 23\n",
    "    xtick_list = []\n",
    "    for i in range(4, 27):\n",
    "        n = i % 24 # 4, 5, 6, ... 23, 0, 1, 2시로 표시\n",
    "        xtick_list.append(str(n))\n",
    "        \n",
    "    for row in data:\n",
    "        row[4:] = map(int, row[4:])\n",
    "        for j in range(23):\n",
    "            a = row[j * 2 + 4] # j=0: data[j*2+4]의 값을 max[0]에 저장하기 위함\n",
    "            if a > max[j]:\n",
    "                max[j] = a\n",
    "                max_station[j] = xtick_list[j] + '시:' + row[3] # 4시: 구로\n",
    "                \n",
    "    for i in range(len(max)):\n",
    "        print('{0}: {1:,}'.format(max_station[i], max[i]), end=', ')\n",
    "        if (i+1) % 4 == 0: # 한 줄에 6개씩 출력\n",
    "            print()\n",
    "if(platform.system() == 'Windows'):\n",
    "    plt.rc('font', family = 'Malgun Gothic')\n",
    "else:\n",
    "    plt.rc('font', family = 'AppleGothic')\n",
    "plt.figure(dpi=100)\n",
    "plt.bar(range(23), max)\n",
    "plt.xticks(range(23), max_station, rotation=80)\n",
    "plt.show()"
   ]
  },
  {
   "cell_type": "markdown",
   "id": "e877b416",
   "metadata": {},
   "source": [
    "## Dictionary 정렬\n",
    "- lambda 사용"
   ]
  },
  {
   "cell_type": "code",
   "execution_count": 78,
   "id": "eff59f7d",
   "metadata": {},
   "outputs": [
    {
     "name": "stdout",
     "output_type": "stream",
     "text": [
      "dict 정렬: key기준 오름차순\n",
      "[('Aimy', 9778), ('Bob', 5887), ('Kelly', 7855), ('Mary', 10999), ('Michale', 27115), ('Sams', 2111), ('Tom', 20245)]\n",
      "dict정렬: value기준, 내림차순\n",
      "[('Michale', 27115), ('Tom', 20245), ('Mary', 10999), ('Aimy', 9778), ('Kelly', 7855), ('Bob', 5887), ('Sams', 2111)]\n",
      "\n",
      "[('Aimy', 9778), ('Bob', 5887), ('Kelly', 7855), ('Mary', 10999), ('Michale', 27115), ('Sams', 2111), ('Tom', 20245)]\n",
      "\n",
      "[('Michale', 27115), ('Tom', 20245), ('Mary', 10999), ('Aimy', 9778), ('Kelly', 7855), ('Bob', 5887), ('Sams', 2111)]\n"
     ]
    }
   ],
   "source": [
    "import operator\n",
    "\n",
    "names = {'Mary':10999, 'Sams':2111, 'Aimy':9778, 'Tom':20245, 'Michale':27115, 'Bob':5887, 'Kelly':7855}\n",
    "\n",
    "# Key를 기준으로 정렬 (기본: 오름차순)\n",
    "print(\"dict 정렬: key기준 오름차순\")\n",
    "res = sorted(names.items(), key=(lambda x: x[0]))\n",
    "print(res)\n",
    "\n",
    "# Value를 기준으로 정렬, 내림차순: reverse=True\n",
    "print(\"dict정렬: value기준, 내림차순\")\n",
    "res = sorted(names.items(), key=(lambda x: x[1]), reverse=True)\n",
    "print(res)\n",
    "print()\n",
    "\n",
    "# key를 기준으로 정렬 (오름차순)\n",
    "sorted_x = sorted(names.items(), key=operator.itemgetter(0))\n",
    "print(sorted_x)\n",
    "print()\n",
    "\n",
    "# value를 기준으로 정렬 (내림차순)\n",
    "sorted_x = sorted(names.items(), key=operator.itemgetter(1), reverse=True)\n",
    "print(sorted_x)"
   ]
  },
  {
   "cell_type": "markdown",
   "id": "c6a920a0",
   "metadata": {},
   "source": [
    "# Pandas 활용 실습"
   ]
  },
  {
   "cell_type": "code",
   "execution_count": 80,
   "id": "b9b81c7d",
   "metadata": {
    "scrolled": false
   },
   "outputs": [
    {
     "data": {
      "text/html": [
       "<div>\n",
       "<style scoped>\n",
       "    .dataframe tbody tr th:only-of-type {\n",
       "        vertical-align: middle;\n",
       "    }\n",
       "\n",
       "    .dataframe tbody tr th {\n",
       "        vertical-align: top;\n",
       "    }\n",
       "\n",
       "    .dataframe thead tr th {\n",
       "        text-align: left;\n",
       "    }\n",
       "</style>\n",
       "<table border=\"1\" class=\"dataframe\">\n",
       "  <thead>\n",
       "    <tr>\n",
       "      <th></th>\n",
       "      <th>사용월</th>\n",
       "      <th>호선명</th>\n",
       "      <th>역ID</th>\n",
       "      <th>지하철역</th>\n",
       "      <th colspan=\"2\" halign=\"left\">04:00:00~04:59:59</th>\n",
       "      <th colspan=\"2\" halign=\"left\">05:00:00~05:59:59</th>\n",
       "      <th colspan=\"2\" halign=\"left\">06:00:00~06:59:59</th>\n",
       "      <th>...</th>\n",
       "      <th>23:00:00~23:59:59</th>\n",
       "      <th colspan=\"2\" halign=\"left\">00:00:00~00:59:59</th>\n",
       "      <th colspan=\"2\" halign=\"left\">01:00:00~01:59:59</th>\n",
       "      <th colspan=\"2\" halign=\"left\">02:00:00~02:59:59</th>\n",
       "      <th colspan=\"2\" halign=\"left\">03:00:00~03:59:59</th>\n",
       "      <th>작업일시</th>\n",
       "    </tr>\n",
       "    <tr>\n",
       "      <th></th>\n",
       "      <th>Unnamed: 0_level_1</th>\n",
       "      <th>Unnamed: 1_level_1</th>\n",
       "      <th>Unnamed: 2_level_1</th>\n",
       "      <th>Unnamed: 3_level_1</th>\n",
       "      <th>승차</th>\n",
       "      <th>하차</th>\n",
       "      <th>승차</th>\n",
       "      <th>하차</th>\n",
       "      <th>승차</th>\n",
       "      <th>하차</th>\n",
       "      <th>...</th>\n",
       "      <th>하차</th>\n",
       "      <th>승차</th>\n",
       "      <th>하차</th>\n",
       "      <th>승차</th>\n",
       "      <th>하차</th>\n",
       "      <th>승차</th>\n",
       "      <th>하차</th>\n",
       "      <th>승차</th>\n",
       "      <th>하차</th>\n",
       "      <th>Unnamed: 52_level_1</th>\n",
       "    </tr>\n",
       "  </thead>\n",
       "  <tbody>\n",
       "    <tr>\n",
       "      <th>0</th>\n",
       "      <td>2022-06</td>\n",
       "      <td>1호선</td>\n",
       "      <td>150</td>\n",
       "      <td>서울역</td>\n",
       "      <td>646</td>\n",
       "      <td>24</td>\n",
       "      <td>8,433</td>\n",
       "      <td>7,694</td>\n",
       "      <td>12,608</td>\n",
       "      <td>46,963</td>\n",
       "      <td>...</td>\n",
       "      <td>15,480</td>\n",
       "      <td>158</td>\n",
       "      <td>1,332</td>\n",
       "      <td>1</td>\n",
       "      <td>4</td>\n",
       "      <td>0</td>\n",
       "      <td>1</td>\n",
       "      <td>0</td>\n",
       "      <td>0</td>\n",
       "      <td>2022-07-03 09:48:05</td>\n",
       "    </tr>\n",
       "    <tr>\n",
       "      <th>1</th>\n",
       "      <td>2022-06</td>\n",
       "      <td>1호선</td>\n",
       "      <td>151</td>\n",
       "      <td>시청</td>\n",
       "      <td>271</td>\n",
       "      <td>7</td>\n",
       "      <td>3,133</td>\n",
       "      <td>4,802</td>\n",
       "      <td>3,321</td>\n",
       "      <td>23,621</td>\n",
       "      <td>...</td>\n",
       "      <td>2,938</td>\n",
       "      <td>72</td>\n",
       "      <td>422</td>\n",
       "      <td>0</td>\n",
       "      <td>2</td>\n",
       "      <td>0</td>\n",
       "      <td>0</td>\n",
       "      <td>0</td>\n",
       "      <td>0</td>\n",
       "      <td>2022-07-03 09:48:05</td>\n",
       "    </tr>\n",
       "    <tr>\n",
       "      <th>2</th>\n",
       "      <td>2022-06</td>\n",
       "      <td>1호선</td>\n",
       "      <td>152</td>\n",
       "      <td>종각</td>\n",
       "      <td>91</td>\n",
       "      <td>9</td>\n",
       "      <td>4,007</td>\n",
       "      <td>3,960</td>\n",
       "      <td>3,682</td>\n",
       "      <td>22,533</td>\n",
       "      <td>...</td>\n",
       "      <td>3,590</td>\n",
       "      <td>315</td>\n",
       "      <td>394</td>\n",
       "      <td>0</td>\n",
       "      <td>1</td>\n",
       "      <td>0</td>\n",
       "      <td>0</td>\n",
       "      <td>0</td>\n",
       "      <td>0</td>\n",
       "      <td>2022-07-03 09:48:05</td>\n",
       "    </tr>\n",
       "    <tr>\n",
       "      <th>3</th>\n",
       "      <td>2022-06</td>\n",
       "      <td>1호선</td>\n",
       "      <td>153</td>\n",
       "      <td>종로3가</td>\n",
       "      <td>190</td>\n",
       "      <td>12</td>\n",
       "      <td>3,882</td>\n",
       "      <td>3,261</td>\n",
       "      <td>3,570</td>\n",
       "      <td>14,038</td>\n",
       "      <td>...</td>\n",
       "      <td>4,119</td>\n",
       "      <td>310</td>\n",
       "      <td>843</td>\n",
       "      <td>3</td>\n",
       "      <td>3</td>\n",
       "      <td>0</td>\n",
       "      <td>0</td>\n",
       "      <td>0</td>\n",
       "      <td>0</td>\n",
       "      <td>2022-07-03 09:48:05</td>\n",
       "    </tr>\n",
       "    <tr>\n",
       "      <th>4</th>\n",
       "      <td>2022-06</td>\n",
       "      <td>1호선</td>\n",
       "      <td>154</td>\n",
       "      <td>종로5가</td>\n",
       "      <td>34</td>\n",
       "      <td>0</td>\n",
       "      <td>1,730</td>\n",
       "      <td>3,909</td>\n",
       "      <td>2,986</td>\n",
       "      <td>16,406</td>\n",
       "      <td>...</td>\n",
       "      <td>2,628</td>\n",
       "      <td>98</td>\n",
       "      <td>668</td>\n",
       "      <td>0</td>\n",
       "      <td>0</td>\n",
       "      <td>0</td>\n",
       "      <td>0</td>\n",
       "      <td>0</td>\n",
       "      <td>0</td>\n",
       "      <td>2022-07-03 09:48:05</td>\n",
       "    </tr>\n",
       "  </tbody>\n",
       "</table>\n",
       "<p>5 rows × 53 columns</p>\n",
       "</div>"
      ],
      "text/plain": [
       "                 사용월                호선명                역ID               지하철역  \\\n",
       "  Unnamed: 0_level_1 Unnamed: 1_level_1 Unnamed: 2_level_1 Unnamed: 3_level_1   \n",
       "0            2022-06                1호선                150                서울역   \n",
       "1            2022-06                1호선                151                 시청   \n",
       "2            2022-06                1호선                152                 종각   \n",
       "3            2022-06                1호선                153               종로3가   \n",
       "4            2022-06                1호선                154               종로5가   \n",
       "\n",
       "  04:00:00~04:59:59     05:00:00~05:59:59        06:00:00~06:59:59          \\\n",
       "                 승차  하차                승차     하차                승차      하차   \n",
       "0               646  24             8,433  7,694            12,608  46,963   \n",
       "1               271   7             3,133  4,802             3,321  23,621   \n",
       "2                91   9             4,007  3,960             3,682  22,533   \n",
       "3               190  12             3,882  3,261             3,570  14,038   \n",
       "4                34   0             1,730  3,909             2,986  16,406   \n",
       "\n",
       "   ... 23:00:00~23:59:59 00:00:00~00:59:59        01:00:00~01:59:59     \\\n",
       "   ...                하차                승차     하차                승차 하차   \n",
       "0  ...            15,480               158  1,332                 1  4   \n",
       "1  ...             2,938                72    422                 0  2   \n",
       "2  ...             3,590               315    394                 0  1   \n",
       "3  ...             4,119               310    843                 3  3   \n",
       "4  ...             2,628                98    668                 0  0   \n",
       "\n",
       "  02:00:00~02:59:59    03:00:00~03:59:59                    작업일시  \n",
       "                 승차 하차                승차 하차  Unnamed: 52_level_1  \n",
       "0                 0  1                 0  0  2022-07-03 09:48:05  \n",
       "1                 0  0                 0  0  2022-07-03 09:48:05  \n",
       "2                 0  0                 0  0  2022-07-03 09:48:05  \n",
       "3                 0  0                 0  0  2022-07-03 09:48:05  \n",
       "4                 0  0                 0  0  2022-07-03 09:48:05  \n",
       "\n",
       "[5 rows x 53 columns]"
      ]
     },
     "execution_count": 80,
     "metadata": {},
     "output_type": "execute_result"
    }
   ],
   "source": [
    "import pandas as pd\n",
    "\n",
    "df = pd.read_excel('subway.xls', sheet_name='지하철 시간대별 이용현황', header=[0, 1])\n",
    "df.head(5)"
   ]
  },
  {
   "cell_type": "code",
   "execution_count": 128,
   "id": "2af52250",
   "metadata": {},
   "outputs": [
    {
     "name": "stdout",
     "output_type": "stream",
     "text": [
      "0      1호선\n",
      "1      1호선\n",
      "2      1호선\n",
      "3      1호선\n",
      "4      1호선\n",
      "      ... \n",
      "610    신림선\n",
      "611    신림선\n",
      "612    신림선\n",
      "613    신림선\n",
      "614    신림선\n",
      "Name: (호선명, Unnamed: 1_level_1), Length: 615, dtype: object\n",
      "0      646\n",
      "1      271\n",
      "2       91\n",
      "3      190\n",
      "4       34\n",
      "      ... \n",
      "610      0\n",
      "611      2\n",
      "612      2\n",
      "613     10\n",
      "614      2\n",
      "Name: (04:00:00~04:59:59, 승차), Length: 615, dtype: object\n"
     ]
    }
   ],
   "source": [
    "# 멀티 인덱스에서 특정 컬럼 가져오기 : 멀티 인덱스의 경우 튜플 형태로 접근 해야함.\n",
    "# df[('첫 번쨰 행','두 번째 행')]\n",
    "print(df[('호선명','Unnamed: 1_level_1')])\n",
    "print(df[('04:00:00~04:59:59','승차')])"
   ]
  },
  {
   "cell_type": "code",
   "execution_count": 132,
   "id": "bdfe320a",
   "metadata": {},
   "outputs": [
    {
     "data": {
      "text/html": [
       "<div>\n",
       "<style scoped>\n",
       "    .dataframe tbody tr th:only-of-type {\n",
       "        vertical-align: middle;\n",
       "    }\n",
       "\n",
       "    .dataframe tbody tr th {\n",
       "        vertical-align: top;\n",
       "    }\n",
       "\n",
       "    .dataframe thead tr th {\n",
       "        text-align: left;\n",
       "    }\n",
       "</style>\n",
       "<table border=\"1\" class=\"dataframe\">\n",
       "  <thead>\n",
       "    <tr>\n",
       "      <th></th>\n",
       "      <th>호선명</th>\n",
       "      <th>지하철역</th>\n",
       "      <th>07:00:00~07:59:59</th>\n",
       "      <th>08:00:00~08:59:59</th>\n",
       "      <th>09:00:00~09:59:59</th>\n",
       "    </tr>\n",
       "    <tr>\n",
       "      <th></th>\n",
       "      <th>Unnamed: 1_level_1</th>\n",
       "      <th>Unnamed: 3_level_1</th>\n",
       "      <th>승차</th>\n",
       "      <th>승차</th>\n",
       "      <th>승차</th>\n",
       "    </tr>\n",
       "  </thead>\n",
       "  <tbody>\n",
       "    <tr>\n",
       "      <th>0</th>\n",
       "      <td>1호선</td>\n",
       "      <td>서울역</td>\n",
       "      <td>39,233</td>\n",
       "      <td>65,106</td>\n",
       "      <td>54,833</td>\n",
       "    </tr>\n",
       "    <tr>\n",
       "      <th>1</th>\n",
       "      <td>1호선</td>\n",
       "      <td>시청</td>\n",
       "      <td>6,647</td>\n",
       "      <td>8,294</td>\n",
       "      <td>9,211</td>\n",
       "    </tr>\n",
       "    <tr>\n",
       "      <th>2</th>\n",
       "      <td>1호선</td>\n",
       "      <td>종각</td>\n",
       "      <td>5,814</td>\n",
       "      <td>9,612</td>\n",
       "      <td>11,847</td>\n",
       "    </tr>\n",
       "    <tr>\n",
       "      <th>3</th>\n",
       "      <td>1호선</td>\n",
       "      <td>종로3가</td>\n",
       "      <td>4,746</td>\n",
       "      <td>8,589</td>\n",
       "      <td>13,179</td>\n",
       "    </tr>\n",
       "    <tr>\n",
       "      <th>4</th>\n",
       "      <td>1호선</td>\n",
       "      <td>종로5가</td>\n",
       "      <td>5,020</td>\n",
       "      <td>8,550</td>\n",
       "      <td>11,925</td>\n",
       "    </tr>\n",
       "  </tbody>\n",
       "</table>\n",
       "</div>"
      ],
      "text/plain": [
       "                 호선명               지하철역 07:00:00~07:59:59 08:00:00~08:59:59  \\\n",
       "  Unnamed: 1_level_1 Unnamed: 3_level_1                승차                승차   \n",
       "0                1호선                서울역            39,233            65,106   \n",
       "1                1호선                 시청             6,647             8,294   \n",
       "2                1호선                 종각             5,814             9,612   \n",
       "3                1호선               종로3가             4,746             8,589   \n",
       "4                1호선               종로5가             5,020             8,550   \n",
       "\n",
       "  09:00:00~09:59:59  \n",
       "                 승차  \n",
       "0            54,833  \n",
       "1             9,211  \n",
       "2            11,847  \n",
       "3            13,179  \n",
       "4            11,925  "
      ]
     },
     "execution_count": 132,
     "metadata": {},
     "output_type": "execute_result"
    }
   ],
   "source": [
    "# 멀티인덱스에서 여러 컬럼 선택\n",
    "commute_time_df = df.iloc[:, [1, 3, 10, 12, 14]]\n",
    "commute_time_df.head()"
   ]
  },
  {
   "cell_type": "code",
   "execution_count": 133,
   "id": "1eb1d168",
   "metadata": {},
   "outputs": [
    {
     "data": {
      "text/plain": [
       "호선명                Unnamed: 1_level_1    object\n",
       "지하철역               Unnamed: 3_level_1    object\n",
       "07:00:00~07:59:59  승차                    object\n",
       "08:00:00~08:59:59  승차                    object\n",
       "09:00:00~09:59:59  승차                    object\n",
       "dtype: object"
      ]
     },
     "execution_count": 133,
     "metadata": {},
     "output_type": "execute_result"
    }
   ],
   "source": [
    "# 뽑아온 컬럼의 데이터 타입 확인\n",
    "commute_time_df.dtypes"
   ]
  },
  {
   "cell_type": "code",
   "execution_count": 137,
   "id": "bff30fd3",
   "metadata": {
    "collapsed": true
   },
   "outputs": [
    {
     "name": "stderr",
     "output_type": "stream",
     "text": [
      "C:\\Users\\kry11\\AppData\\Local\\Temp\\ipykernel_15908\\2614101128.py:1: SettingWithCopyWarning: \n",
      "A value is trying to be set on a copy of a slice from a DataFrame.\n",
      "Try using .loc[row_indexer,col_indexer] = value instead\n",
      "\n",
      "See the caveats in the documentation: https://pandas.pydata.org/pandas-docs/stable/user_guide/indexing.html#returning-a-view-versus-a-copy\n",
      "  commute_time_df.iloc[:, 2] = commute_time_df.iloc[:, 2].apply(lambda x : x.replace(',',''))\n",
      "C:\\Users\\kry11\\AppData\\Local\\Temp\\ipykernel_15908\\2614101128.py:2: SettingWithCopyWarning: \n",
      "A value is trying to be set on a copy of a slice from a DataFrame.\n",
      "Try using .loc[row_indexer,col_indexer] = value instead\n",
      "\n",
      "See the caveats in the documentation: https://pandas.pydata.org/pandas-docs/stable/user_guide/indexing.html#returning-a-view-versus-a-copy\n",
      "  commute_time_df.iloc[:, 3] = commute_time_df.iloc[:, 3].apply(lambda x : x.replace(',',''))\n",
      "C:\\Users\\kry11\\AppData\\Local\\Temp\\ipykernel_15908\\2614101128.py:3: SettingWithCopyWarning: \n",
      "A value is trying to be set on a copy of a slice from a DataFrame.\n",
      "Try using .loc[row_indexer,col_indexer] = value instead\n",
      "\n",
      "See the caveats in the documentation: https://pandas.pydata.org/pandas-docs/stable/user_guide/indexing.html#returning-a-view-versus-a-copy\n",
      "  commute_time_df.iloc[:, 4] = commute_time_df.iloc[:, 4].apply(lambda x : x.replace(',',''))\n"
     ]
    }
   ],
   "source": [
    "commute_time_df.iloc[:, 2] = commute_time_df.iloc[:, 2].apply(lambda x : x.replace(',',''))\n",
    "commute_time_df.iloc[:, 3] = commute_time_df.iloc[:, 3].apply(lambda x : x.replace(',',''))\n",
    "commute_time_df.iloc[:, 4] = commute_time_df.iloc[:, 4].apply(lambda x : x.replace(',',''))"
   ]
  },
  {
   "cell_type": "code",
   "execution_count": 138,
   "id": "20522aac",
   "metadata": {
    "scrolled": true
   },
   "outputs": [
    {
     "data": {
      "text/html": [
       "<div>\n",
       "<style scoped>\n",
       "    .dataframe tbody tr th:only-of-type {\n",
       "        vertical-align: middle;\n",
       "    }\n",
       "\n",
       "    .dataframe tbody tr th {\n",
       "        vertical-align: top;\n",
       "    }\n",
       "\n",
       "    .dataframe thead tr th {\n",
       "        text-align: left;\n",
       "    }\n",
       "</style>\n",
       "<table border=\"1\" class=\"dataframe\">\n",
       "  <thead>\n",
       "    <tr>\n",
       "      <th></th>\n",
       "      <th>호선명</th>\n",
       "      <th>지하철역</th>\n",
       "      <th>07:00:00~07:59:59</th>\n",
       "      <th>08:00:00~08:59:59</th>\n",
       "      <th>09:00:00~09:59:59</th>\n",
       "    </tr>\n",
       "    <tr>\n",
       "      <th></th>\n",
       "      <th>Unnamed: 1_level_1</th>\n",
       "      <th>Unnamed: 3_level_1</th>\n",
       "      <th>승차</th>\n",
       "      <th>승차</th>\n",
       "      <th>승차</th>\n",
       "    </tr>\n",
       "  </thead>\n",
       "  <tbody>\n",
       "    <tr>\n",
       "      <th>0</th>\n",
       "      <td>1호선</td>\n",
       "      <td>서울역</td>\n",
       "      <td>39233</td>\n",
       "      <td>65106</td>\n",
       "      <td>54833</td>\n",
       "    </tr>\n",
       "    <tr>\n",
       "      <th>1</th>\n",
       "      <td>1호선</td>\n",
       "      <td>시청</td>\n",
       "      <td>6647</td>\n",
       "      <td>8294</td>\n",
       "      <td>9211</td>\n",
       "    </tr>\n",
       "    <tr>\n",
       "      <th>2</th>\n",
       "      <td>1호선</td>\n",
       "      <td>종각</td>\n",
       "      <td>5814</td>\n",
       "      <td>9612</td>\n",
       "      <td>11847</td>\n",
       "    </tr>\n",
       "    <tr>\n",
       "      <th>3</th>\n",
       "      <td>1호선</td>\n",
       "      <td>종로3가</td>\n",
       "      <td>4746</td>\n",
       "      <td>8589</td>\n",
       "      <td>13179</td>\n",
       "    </tr>\n",
       "    <tr>\n",
       "      <th>4</th>\n",
       "      <td>1호선</td>\n",
       "      <td>종로5가</td>\n",
       "      <td>5020</td>\n",
       "      <td>8550</td>\n",
       "      <td>11925</td>\n",
       "    </tr>\n",
       "    <tr>\n",
       "      <th>...</th>\n",
       "      <td>...</td>\n",
       "      <td>...</td>\n",
       "      <td>...</td>\n",
       "      <td>...</td>\n",
       "      <td>...</td>\n",
       "    </tr>\n",
       "    <tr>\n",
       "      <th>610</th>\n",
       "      <td>신림선</td>\n",
       "      <td>당곡</td>\n",
       "      <td>7708</td>\n",
       "      <td>11603</td>\n",
       "      <td>6862</td>\n",
       "    </tr>\n",
       "    <tr>\n",
       "      <th>611</th>\n",
       "      <td>신림선</td>\n",
       "      <td>신림</td>\n",
       "      <td>3099</td>\n",
       "      <td>5402</td>\n",
       "      <td>2941</td>\n",
       "    </tr>\n",
       "    <tr>\n",
       "      <th>612</th>\n",
       "      <td>신림선</td>\n",
       "      <td>서원</td>\n",
       "      <td>8427</td>\n",
       "      <td>12646</td>\n",
       "      <td>7590</td>\n",
       "    </tr>\n",
       "    <tr>\n",
       "      <th>613</th>\n",
       "      <td>신림선</td>\n",
       "      <td>서울대벤처타운</td>\n",
       "      <td>16194</td>\n",
       "      <td>22232</td>\n",
       "      <td>13280</td>\n",
       "    </tr>\n",
       "    <tr>\n",
       "      <th>614</th>\n",
       "      <td>신림선</td>\n",
       "      <td>관악산(서울대)</td>\n",
       "      <td>4086</td>\n",
       "      <td>4382</td>\n",
       "      <td>3446</td>\n",
       "    </tr>\n",
       "  </tbody>\n",
       "</table>\n",
       "<p>615 rows × 5 columns</p>\n",
       "</div>"
      ],
      "text/plain": [
       "                   호선명               지하철역 07:00:00~07:59:59 08:00:00~08:59:59  \\\n",
       "    Unnamed: 1_level_1 Unnamed: 3_level_1                승차                승차   \n",
       "0                  1호선                서울역             39233             65106   \n",
       "1                  1호선                 시청              6647              8294   \n",
       "2                  1호선                 종각              5814              9612   \n",
       "3                  1호선               종로3가              4746              8589   \n",
       "4                  1호선               종로5가              5020              8550   \n",
       "..                 ...                ...               ...               ...   \n",
       "610                신림선                 당곡              7708             11603   \n",
       "611                신림선                 신림              3099              5402   \n",
       "612                신림선                 서원              8427             12646   \n",
       "613                신림선            서울대벤처타운             16194             22232   \n",
       "614                신림선           관악산(서울대)              4086              4382   \n",
       "\n",
       "    09:00:00~09:59:59  \n",
       "                   승차  \n",
       "0               54833  \n",
       "1                9211  \n",
       "2               11847  \n",
       "3               13179  \n",
       "4               11925  \n",
       "..                ...  \n",
       "610              6862  \n",
       "611              2941  \n",
       "612              7590  \n",
       "613             13280  \n",
       "614              3446  \n",
       "\n",
       "[615 rows x 5 columns]"
      ]
     },
     "execution_count": 138,
     "metadata": {},
     "output_type": "execute_result"
    }
   ],
   "source": [
    "commute_time_df"
   ]
  },
  {
   "cell_type": "code",
   "execution_count": 139,
   "id": "fe368056",
   "metadata": {
    "collapsed": true
   },
   "outputs": [
    {
     "name": "stderr",
     "output_type": "stream",
     "text": [
      "C:\\Users\\kry11\\AppData\\Local\\Temp\\ipykernel_15908\\963905689.py:1: SettingWithCopyWarning: \n",
      "A value is trying to be set on a copy of a slice from a DataFrame.\n",
      "Try using .loc[row_indexer,col_indexer] = value instead\n",
      "\n",
      "See the caveats in the documentation: https://pandas.pydata.org/pandas-docs/stable/user_guide/indexing.html#returning-a-view-versus-a-copy\n",
      "  commute_time_df.iloc[:, 2]=commute_time_df.iloc[:, 2].astype(int)\n",
      "C:\\Users\\kry11\\AppData\\Local\\Temp\\ipykernel_15908\\963905689.py:2: SettingWithCopyWarning: \n",
      "A value is trying to be set on a copy of a slice from a DataFrame.\n",
      "Try using .loc[row_indexer,col_indexer] = value instead\n",
      "\n",
      "See the caveats in the documentation: https://pandas.pydata.org/pandas-docs/stable/user_guide/indexing.html#returning-a-view-versus-a-copy\n",
      "  commute_time_df.iloc[:, 3]=commute_time_df.iloc[:, 3].astype(int)\n",
      "C:\\Users\\kry11\\AppData\\Local\\Temp\\ipykernel_15908\\963905689.py:3: SettingWithCopyWarning: \n",
      "A value is trying to be set on a copy of a slice from a DataFrame.\n",
      "Try using .loc[row_indexer,col_indexer] = value instead\n",
      "\n",
      "See the caveats in the documentation: https://pandas.pydata.org/pandas-docs/stable/user_guide/indexing.html#returning-a-view-versus-a-copy\n",
      "  commute_time_df.iloc[:, 4]=commute_time_df.iloc[:, 4].astype(int)\n"
     ]
    }
   ],
   "source": [
    "commute_time_df.iloc[:, 2]=commute_time_df.iloc[:, 2].astype(int)\n",
    "commute_time_df.iloc[:, 3]=commute_time_df.iloc[:, 3].astype(int)\n",
    "commute_time_df.iloc[:, 4]=commute_time_df.iloc[:, 4].astype(int)"
   ]
  },
  {
   "cell_type": "code",
   "execution_count": 140,
   "id": "c90a16fc",
   "metadata": {},
   "outputs": [
    {
     "data": {
      "text/plain": [
       "호선명                Unnamed: 1_level_1    object\n",
       "지하철역               Unnamed: 3_level_1    object\n",
       "07:00:00~07:59:59  승차                     int32\n",
       "08:00:00~08:59:59  승차                     int32\n",
       "09:00:00~09:59:59  승차                     int32\n",
       "dtype: object"
      ]
     },
     "execution_count": 140,
     "metadata": {},
     "output_type": "execute_result"
    }
   ],
   "source": [
    "commute_time_df.dtypes"
   ]
  },
  {
   "cell_type": "code",
   "execution_count": null,
   "id": "2cd08e05",
   "metadata": {},
   "outputs": [],
   "source": []
  }
 ],
 "metadata": {
  "kernelspec": {
   "display_name": "Python 3 (ipykernel)",
   "language": "python",
   "name": "python3"
  },
  "language_info": {
   "codemirror_mode": {
    "name": "ipython",
    "version": 3
   },
   "file_extension": ".py",
   "mimetype": "text/x-python",
   "name": "python",
   "nbconvert_exporter": "python",
   "pygments_lexer": "ipython3",
   "version": "3.9.12"
  }
 },
 "nbformat": 4,
 "nbformat_minor": 5
}
