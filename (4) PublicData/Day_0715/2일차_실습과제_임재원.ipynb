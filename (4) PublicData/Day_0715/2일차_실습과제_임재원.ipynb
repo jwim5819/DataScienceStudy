{
 "cells": [
  {
   "cell_type": "markdown",
   "id": "9cd7478f",
   "metadata": {
    "pycharm": {
     "name": "#%% md\n"
    }
   },
   "source": [
    "### Pandas 사용"
   ]
  },
  {
   "cell_type": "code",
   "execution_count": 139,
   "id": "191f54bc",
   "metadata": {
    "pycharm": {
     "name": "#%%\n"
    }
   },
   "outputs": [],
   "source": [
    "# 모듈 로딩\n",
    "import pandas as pd\n",
    "import matplotlib.pyplot as plt\n",
    "import matplotlib.font_manager as fm\n",
    "import numpy as np\n",
    "import platform\n",
    "\n",
    "# DF객체 생성하기\n",
    "subwayDF = pd.read_csv('subwaytime.csv', header=[0,1])\n",
    "subwayDF\n",
    "\n",
    "# 사용할 데이터 전처리 과정\n",
    "subway_nameDF=subwayDF.iloc[:, [1,3]]\n",
    "subway_peopleDF=subwayDF.iloc[:, [11,13]]\n",
    "subway_people_sumDF=subway_peopleDF.sum(axis=1)\n",
    "subway_dataDF = pd.concat([subway_nameDF,subway_people_sumDF],axis=1)\n",
    "subway_dataDF.columns = ['호선명','지하철역','출근시간 하차인원']\n",
    "subway_dataDF\n",
    "\n",
    "# 한글폰트 깨짐 해결\n",
    "if platform.system() == 'Windows':    # 윈도우\n",
    "        font_name = fm.FontProperties(fname='c:\\Windows\\Fonts\\malgun.ttf').get_name()\n",
    "        plt.rc('font', family=font_name)\n",
    "else:    # 그 외\n",
    "    plt.rc('font', family='AppleGothic', size=8)"
   ]
  },
  {
   "cell_type": "code",
   "execution_count": 157,
   "id": "31b76ed2",
   "metadata": {
    "pycharm": {
     "name": "#%%\n"
    }
   },
   "outputs": [
    {
     "name": "stdout",
     "output_type": "stream",
     "text": [
      "출근 시간대 1호선 최대 하차역은 종각역이고 하차인원은 330,536명 입니다.\n",
      "출근 시간대 2호선 최대 하차역은 역삼역이고 하차인원은 479,969명 입니다.\n",
      "출근 시간대 3호선 최대 하차역은 양재(서초구청)역이고 하차인원은 331,279명 입니다.\n",
      "출근 시간대 4호선 최대 하차역은 충무로역이고 하차인원은 208,776명 입니다.\n",
      "출근 시간대 5호선 최대 하차역은 여의도역이고 하차인원은 352,602명 입니다.\n",
      "출근 시간대 6호선 최대 하차역은 공덕역이고 하차인원은 134,342명 입니다.\n",
      "출근 시간대 7호선 최대 하차역은 가산디지털단지역이고 하차인원은 486,420명 입니다.\n"
     ]
    },
    {
     "data": {
      "image/png": "[encoded data removed]",
      "text/plain": [
       "<Figure size 720x360 with 1 Axes>"
      ]
     },
     "metadata": {
      "needs_background": "light"
     },
     "output_type": "display_data"
    }
   ],
   "source": [
    "# 데이터 계산\n",
    "station_name_list = []\n",
    "data_list = []\n",
    "\n",
    "for i in range(1,8):\n",
    "    line = str(i) + '호선'\n",
    "    filter = (subway_dataDF['호선명']==line)\n",
    "    value = subway_dataDF[filter]['출근시간 하차인원'].max()\n",
    "    idx = subway_dataDF[filter]['출근시간 하차인원'].idxmax()\n",
    "    station = subway_dataDF.iloc[idx]\n",
    "    station_name = station[0] + ':' + station[1]\n",
    "    station_name_list.append(station_name)\n",
    "    data_list.append(station[2])\n",
    "    print(f'출근 시간대 {station[0]} 최대 하차역은 {station[1]}역이고 하차인원은 {station[2]:,}명 입니다.')\n",
    "\n",
    "# 그래프 시각화\n",
    "plt.figure(figsize=(10,5))\n",
    "plt.bar(station_name_list,data_list)\n",
    "plt.title('출근 시간대 지하철 노선별 최대 하차 인원 및 하차역')\n",
    "plt.xticks(rotation=80)\n",
    "plt.show()"
   ]
  },
  {
   "cell_type": "markdown",
   "id": "594e07d9",
   "metadata": {
    "pycharm": {
     "name": "#%% md\n"
    }
   },
   "source": [
    "### Pandas 미사용"
   ]
  },
  {
   "cell_type": "code",
   "execution_count": 197,
   "id": "afa65872",
   "metadata": {
    "pycharm": {
     "name": "#%%\n"
    }
   },
   "outputs": [],
   "source": [
    "# 모듈 로딩\n",
    "import csv\n",
    "\n",
    "# 호선 리스트 생성\n",
    "line_list = []\n",
    "for i in range(1,8):\n",
    "    line_list.append(str(i)+'호선')\n",
    "    \n",
    "station_name_list = []\n",
    "peolple_data_list = []\n",
    "# 파일 불러오기\n",
    "with open('subwaytime.csv', encoding = 'utf-8-sig') as f:\n",
    "    data = csv.reader(f)\n",
    "    # 헤더 2개 날리기\n",
    "    next(data)\n",
    "    next(data)\n",
    "    for row in f:\n",
    "        row_data = row.split(',')\n",
    "        row_data[1]    # 호선 데이터\n",
    "        row_data[3]    # 역 데이터\n",
    "\n",
    "        "
   ]
  },
  {
   "cell_type": "code",
   "execution_count": null,
   "id": "ee9dd633",
   "metadata": {
    "pycharm": {
     "name": "#%%\n"
    }
   },
   "outputs": [],
   "source": []
  }
 ],
 "metadata": {
  "kernelspec": {
   "display_name": "Python 3 (ipykernel)",
   "language": "python",
   "name": "python3"
  },
  "language_info": {
   "codemirror_mode": {
    "name": "ipython",
    "version": 3
   },
   "file_extension": ".py",
   "mimetype": "text/x-python",
   "name": "python",
   "nbconvert_exporter": "python",
   "pygments_lexer": "ipython3",
   "version": "3.9.12"
  }
 },
 "nbformat": 4,
 "nbformat_minor": 5
}