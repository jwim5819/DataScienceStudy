{
 "cells": [
  {
   "cell_type": "code",
   "execution_count": 2,
   "outputs": [
    {
     "name": "stdout",
     "output_type": "stream",
     "text": [
      "[  0]: https://www.reuters.com/world/europe/\n",
      "[  1]: /world/\n",
      "[  2]: /world/europe/ukraine-russia-what-you-need-know-right-now-2022-07-03/\n",
      "[  3]: /world/europe/ukraine-says-18-medics-killed-hundreds-facilities-damaged-since-invasion-2022-07-24/\n",
      "[  4]: /world/europe/zelenskiy-says-ukraine-unbowed-even-russians-expect-defeat-2022-07-24/\n",
      "[  5]: /world/europe/lavrov-offers-reassurance-over-russian-grain-supplies-cairo-visit-2022-07-24/\n",
      "[  6]: /world/europe/russia-says-it-hit-military-boat-odesa-port-ukraine-2022-07-24/\n",
      "[  7]: /world/europe/odesa-strike-shows-it-will-not-be-easy-export-grain-via-ports-ukraine-2022-07-24/\n",
      "[  8]: /world/europe/russian-investigator-says-wants-new-tribunal-ukraine-2022-07-25/\n",
      "[  9]: /world/middle-east/ukraine-works-resume-grain-exports-flags-russian-strikes-risk-2022-07-24/\n",
      "[ 10]: /world/africa/tunisians-vote-constitution-expanding-presidents-power-2022-07-25/\n",
      "[ 11]: /world/africa/tunisias-turbulent-ride-revolution-presidential-power-bid-2022-07-25/\n",
      "[ 12]: /world/africa/tunisias-saied-unpicks-young-arab-spring-democracy-2022-07-25/\n",
      "[ 13]: /world/africa/whats-tunisias-new-constitution-2022-07-25/\n",
      "[ 14]: /world/americas/pope-arrives-canada-tour-penance-indigenous-abuse-2022-07-24/\n",
      "[ 15]: /world/china/chinas-population-expected-start-shrink-before-2025-2022-07-25/\n",
      "[ 16]: /world/europe/wildfires-burn-coastal-homes-forests-greece-europes-heatwave-spreads-east-2022-07-24/\n",
      "[ 17]: /world/asia-pacific/myanmar-junta-execute-four-democracy-activists-state-media-2022-07-25/\n",
      "[ 18]: /markets/macromatters/\n",
      "[ 19]: /markets/funds/no-longer-silent-japan-asset-managers-flex-muscle-legacy-abe-2022-07-24/\n",
      "[ 20]: /world/europe/monarch-butterfly-joins-global-endangered-species-list-2022-07-22/\n",
      "[ 21]: /world/ukrainian-villagers-count-dead-after-weeks-confined-school-basement-2022-04-08/\n",
      "[ 22]: /world/europe/pictures-inside-battle-ukraine-2022-02-28/\n",
      "[ 23]: /world/inside-besieged-mariupol-left-ruins-after-russian-bombardment-2022-03-24/\n",
      "[ 24]: /world/us/\n",
      "[ 25]: /business/\n",
      "[ 26]: /business/environment/thousands-evacuated-californias-oak-fire-grows-quickly-2022-07-24/\n",
      "[ 27]: /markets/\n",
      "[ 28]: /markets/us/us-economy-is-slowing-recession-not-inevitable-yellen-says-2022-07-24/\n",
      "[ 29]: /world/us/bidens-health-is-improving-no-close-contacts-tested-positive-covid-2022-07-24/\n",
      "[ 30]: /world/us/us-capitol-attack-probe-push-forward-with-new-witnesses-cheney-says-2022-07-24/\n",
      "[ 31]: /world/asia-pacific/\n",
      "[ 32]: /world/sherman-kennedy-visit-solomons-where-fathers-fought-us-now-vies-with-china-2022-07-24/\n",
      "[ 33]: /world/asia-pacific/us-host-virtual-meeting-tuesday-indo-pacific-trade-economic-ministers-2022-07-24/\n",
      "[ 34]: /world/china/\n",
      "[ 35]: /world/china/china-reports-800-new-covid-cases-july-24-vs-982-day-earlier-2022-07-25/\n",
      "[ 36]: /markets/europe/dollar-firm-fed-meeting-growth-risks-dominate-2022-07-25/\n",
      "[ 37]: /world/europe/\n",
      "[ 38]: /world/uk/\n",
      "[ 39]: /world/uk/british-pm-candidate-truss-sets-out-investment-plans-2022-07-24/\n",
      "[ 40]: /world/uk/diana-kennedy-british-food-writer-mexico-dies-99-2022-07-24/\n",
      "[ 41]: /world/europe/god-give-us-rain-romanian-monastery-prays-end-drought-2022-07-24/\n",
      "[ 42]: /markets/europe/european-central-bank-will-consider-economic-situation-when-deciding-rates-2022-07-24/\n",
      "[ 43]: /lifestyle/sports/\n",
      "[ 44]: /lifestyle/sports/nigerias-amusan-breaks-100-metres-hurdles-world-record-2022-07-25/\n",
      "[ 45]: /lifestyle/sports/unique-eugene-hosted-truly-global-world-championships-2022-07-25/\n",
      "[ 46]: /lifestyle/sports/dominant-ingebrigtsen-wins-world-5000m-gold-2022-07-25/\n",
      "[ 47]: /lifestyle/sports/quiet-man-vingegaard-wins-maiden-tour-de-france-title-2022-07-24/\n",
      "[ 48]: /lifestyle/sports/italys-stano-wins-mens-35km-race-walk-worlds-2022-07-24/\n",
      "[ 49]: /legal/\n",
      "[ 50]: /breakingviews/\n",
      "[ 51]: /technology/\n",
      "[ 52]: /investigates/\n",
      "[ 53]: /lifestyle/\n",
      "[ 54]: https://www.reutersagency.com/en/about/about-us/\n",
      "[ 55]: https://www.thomsonreuters.com/en/careers.html\n",
      "[ 56]: https://www.reutersagency.com/en/?utm_source=website&utm_medium=reuters&utm_campaign=site-referral&utm_content=us&utm_term=0\n",
      "[ 57]: https://www.reutersagency.com/en/about/about-us/brand-attribution-guidelines/\n",
      "[ 58]: https://www.reutersagency.com/en/about/leadership-team/\n",
      "[ 59]: https://www.reuters.com/fact-check/\n",
      "[ 60]: https://www.reuters.com/DiversityReportApril2022\n",
      "[ 61]: https://www.reuters.com/tools/mobile/us\n",
      "[ 62]: https://newslink.reuters.com/join/subscribe\n",
      "[ 63]: https://legal.thomsonreuters.com/en/products/westlaw\n",
      "[ 64]: https://tax.thomsonreuters.com/en/onesource\n",
      "[ 65]: https://tax.thomsonreuters.com/en/checkpoint\n",
      "[ 66]:  https://www.refinitiv.com/en/products/refinitiv-workspace\n",
      "[ 67]:  https://www.refinitiv.com/en/financial-data\n",
      "[ 68]: https://www.refinitiv.com/en/products/world-check-kyc-screening\n",
      "[ 69]: https://www.reutersagency.com/en/services/advertising-solutions/\n",
      "[ 70]: /info-pages/advertising-guidelines/\n",
      "[ 71]: https://www.thomsonreuters.com/en/privacy-statement.html#cookies\n",
      "[ 72]: /info-pages/terms-of-use/\n",
      "[ 73]: https://www.thomsonreuters.com/en/privacy-statement.html\n",
      "[ 74]: https://www.thomsonreuters.com/en/policies/digital-accessibility-policy.html\n",
      "[ 75]: /info-pages/contact-us/\n",
      "[ 76]: https://trdigital.iad1.qualtrics.com/jfe/form/SV_8kte8gArGyCGVhz\n",
      "[ 77]: https://www.reuters.com/info-pages/disclaimer/\n",
      "[ 78]: https://www.thomsonreuters.com/en/policies/copyright.html\n",
      "link_list 길이: 79\n"
     ]
    }
   ],
   "source": [
    "import requests\n",
    "from bs4 import BeautifulSoup\n",
    "\n",
    "url = 'https://www.reuters.com'\n",
    "link_list = []\n",
    "req = requests.get(url)\n",
    "soup = BeautifulSoup(req.text, 'html.parser')\n",
    "data_testid_links = soup.find_all('a', attrs={'data-testid' : ['Heading', 'Link']})\n",
    "i = 0\n",
    "for link in data_testid_links:\n",
    "    if link['href'] not in link_list:\n",
    "        link_list.append(link['href'])\n",
    "        print('[{0:3}]: {1}'.format(i, link['href']))\n",
    "        i += 1\n",
    "\n",
    "print('link_list 길이:', len(link_list))"
   ],
   "metadata": {
    "collapsed": false,
    "pycharm": {
     "name": "#%%\n"
    }
   }
  },
  {
   "cell_type": "code",
   "execution_count": null,
   "outputs": [],
   "source": [],
   "metadata": {
    "collapsed": false,
    "pycharm": {
     "name": "#%%\n"
    }
   }
  }
 ],
 "metadata": {
  "kernelspec": {
   "display_name": "Python 3",
   "language": "python",
   "name": "python3"
  },
  "language_info": {
   "codemirror_mode": {
    "name": "ipython",
    "version": 2
   },
   "file_extension": ".py",
   "mimetype": "text/x-python",
   "name": "python",
   "nbconvert_exporter": "python",
   "pygments_lexer": "ipython2",
   "version": "2.7.6"
  }
 },
 "nbformat": 4,
 "nbformat_minor": 0
}