{
 "cells": [
  {
   "cell_type": "code",
   "execution_count": 121,
   "outputs": [],
   "source": [
    "# 모듈 로딩\n",
    "from bs4 import BeautifulSoup\n",
    "import requests\n",
    "import re\n",
    "\n",
    "# 시가 총액 상위 10개 기업 가져올 url\n",
    "html = requests.get('https://finance.naver.com/sise/sise_market_sum.naver')\n",
    "soup = BeautifulSoup(html.text, 'html.parser')\n",
    "# 'tr' [7] ~ [19] 인덱스가 1~10위 까지임.\n",
    "# 단, [12~14]번 인덱스는 제외\n",
    "read = soup.find_all('tr')"
   ],
   "metadata": {
    "collapsed": false,
    "pycharm": {
     "name": "#%%\n"
    }
   }
  },
  {
   "cell_type": "code",
   "execution_count": 176,
   "outputs": [
    {
     "name": "stdout",
     "output_type": "stream",
     "text": [
      "['60,800', '371,000', '98,900', '824,000', '55,700', '192,500', '244,000', '552,000', '557,000', '81,200']\n"
     ]
    }
   ],
   "source": [
    "# 크롤링 결과를 담을 리스트 생성\n",
    "stock_name_list = []\n",
    "code_list = []\n",
    "current_price_list = []\n",
    "old_price_list = []\n",
    "market_price_list = []\n",
    "high_price_list = []\n",
    "low_price_list = []\n",
    "\n",
    "# 숫자만 추출해주는 함수 생성\n",
    "def to_number(string):\n",
    "    return re.sub(r'[^0-9]', '',string)\n",
    "\n",
    "# 크롤링 함수 생성\n",
    "def stock_crawling():\n",
    "    for i in range(7,20):\n",
    "        if (i >= 12) and (i <= 14):\n",
    "            pass\n",
    "        else:\n",
    "            goto_url = read[i].find('a')['href']   # 주식 페이지로 이동(상대 경로)\n",
    "            new_url = 'https://finance.naver.com/' + goto_url\n",
    "            html = requests.get(new_url)\n",
    "            soup = BeautifulSoup(html.text, 'html.parser')\n",
    "            process_1 = soup.find('div', class_='wrap_company')\n",
    "            process_2 = soup.find('dl', class_='blind')\n",
    "            process_3 = process_2.find_all('dd')\n",
    "            stock_name_list.append(process_1.find('h2').text)    # 종목명\n",
    "            code_list.append(process_1.find('span', class_='code').text)  # 종목코드\n",
    "            current_price_list.append(process_3[3].text.split()[1])    # 현재가\n",
    "            old_price_list.append(process_3[4].text.split()[1])    # 전일가\n",
    "            market_price_list.append(process_3[5].text.split()[1])     # 시가\n",
    "            high_price_list.append(process_3[6].text.split()[1])   # 고가\n",
    "            low_price_list.append(process_3[8].text.split()[1])    # 저가\n",
    "\n",
    "# print 및 input 함수 생성\n",
    "\n",
    "\n",
    "\n",
    "stock_crawling()\n",
    "print(low_price_list)"
   ],
   "metadata": {
    "collapsed": false,
    "pycharm": {
     "name": "#%%\n"
    }
   }
  },
  {
   "cell_type": "code",
   "execution_count": 179,
   "outputs": [
    {
     "name": "stdout",
     "output_type": "stream",
     "text": [
      "--------------------------------\n",
      "[ 네이버 코스피 상위 10대 기업 목록 ]\n",
      "--------------------------------\n",
      "[  1] 삼성전자\n",
      "[  2] LG에너지솔루션\n",
      "[  3] SK하이닉스\n",
      "[  4] 삼성바이오로직스\n",
      "[  5] 삼성전자우\n",
      "[  6] 현대차\n",
      "[  7] NAVER\n",
      "[  8] LG화학\n",
      "[  9] 삼성SDI\n",
      "[ 10] 기아\n",
      "종목명: NAVER\n",
      "종목코드: 035420\n",
      "현재가: 248,000\n",
      "전일가: 250,000\n",
      "시가: 248,000\n",
      "고가: 249,000\n",
      "저가: 244,000\n"
     ]
    }
   ],
   "source": [
    "def print_input():\n",
    "    print('-'*32)\n",
    "    print(f'[ 네이버 코스피 상위 10대 기업 목록 ]')\n",
    "    print('-'*32)\n",
    "    for i in range(len(stock_name_list)):\n",
    "        print(f'[{i+1:3}] {stock_name_list[i]}')\n",
    "    while True:\n",
    "        try:\n",
    "            stock_number = int(input(f'주가를 검색할 기업의 번호를 입력하세요(-1: 종료): '))\n",
    "            if stock_number == -1:\n",
    "                break\n",
    "            elif 1 <=stock_number<=10:\n",
    "                print(f'종목명: {stock_name_list[stock_number-1]}')\n",
    "                print(f'종목코드: {code_list[stock_number-1]}')\n",
    "                print(f'현재가: {current_price_list[stock_number-1]}')\n",
    "                print(f'전일가: {old_price_list[stock_number-1]}')\n",
    "                print(f'시가: {market_price_list[stock_number-1]}')\n",
    "                print(f'고가: {high_price_list[stock_number-1]}')\n",
    "                print(f'저가: {low_price_list[stock_number-1]}')\n",
    "        except:\n",
    "            print(f'잘못된 입력입니다.')\n",
    "\n",
    "print_input()"
   ],
   "metadata": {
    "collapsed": false,
    "pycharm": {
     "name": "#%%\n"
    }
   }
  }
 ],
 "metadata": {
  "kernelspec": {
   "display_name": "Python 3",
   "language": "python",
   "name": "python3"
  },
  "language_info": {
   "codemirror_mode": {
    "name": "ipython",
    "version": 2
   },
   "file_extension": ".py",
   "mimetype": "text/x-python",
   "name": "python",
   "nbconvert_exporter": "python",
   "pygments_lexer": "ipython2",
   "version": "2.7.6"
  }
 },
 "nbformat": 4,
 "nbformat_minor": 0
}